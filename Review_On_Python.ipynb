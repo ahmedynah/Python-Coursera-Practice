{
  "nbformat": 4,
  "nbformat_minor": 0,
  "metadata": {
    "kernelspec": {
      "display_name": "Python 3",
      "language": "python",
      "name": "python3"
    },
    "language_info": {
      "codemirror_mode": {
        "name": "ipython",
        "version": 3
      },
      "file_extension": ".py",
      "mimetype": "text/x-python",
      "name": "python",
      "nbconvert_exporter": "python",
      "pygments_lexer": "ipython3",
      "version": "3.7.9"
    },
    "colab": {
      "provenance": [],
      "include_colab_link": true
    }
  },
  "cells": [
    {
      "cell_type": "markdown",
      "metadata": {
        "id": "view-in-github",
        "colab_type": "text"
      },
      "source": [
        "<a href=\"https://colab.research.google.com/github/ahmedynah/Python-Coursera-Practice/blob/main/Review_On_Python.ipynb\" target=\"_parent\"><img src=\"https://colab.research.google.com/assets/colab-badge.svg\" alt=\"Open In Colab\"/></a>"
      ]
    },
    {
      "cell_type": "markdown",
      "metadata": {
        "id": "EkePE7SXnZeF"
      },
      "source": [
        "# Python Crash Course"
      ]
    },
    {
      "cell_type": "markdown",
      "metadata": {
        "id": "8nL0PbISnZeG"
      },
      "source": [
        "## Table of Contents\n",
        "\n",
        "- **Introduction**\n",
        "    - [What is Python?](#What-is-Python)\n",
        "    - [Why do we use Python?](#Why-use-Python)\n",
        "\n",
        "- **Python Review**\n",
        "    - [Variables](#Variables)\n",
        "    - [Input/Output](#Input/Output)\n",
        "    - Operators\n",
        "        - [Arithmatic Operators](#1.-Arithmatic-Operators)\n",
        "        - [Relational Operators](#2.-Relational-Operators)\n",
        "        - [Logical Operators](#3.-Logical-Operators)\n",
        "    - DataTypes\n",
        "    - Containers\n",
        "        - [Lists](#Lists)\n",
        "        - [Tuples](#Tuples)\n",
        "        - [Sets](#Sets)\n",
        "        - [Dictionaries](#Dictionaries)\n",
        "        - [Identity Operator and Aliasing](#Identity-Operator-and-Aliasing)\n",
        "        - [Special Operator '+' and '+=' on Lists and Tuples](#Special-Operator-'+'-and-'+='-on-Lists-and-Tuples)\n",
        "        \n",
        "    - Flow Control Statements\n",
        "        - [If Statements](#If-Statement)\n",
        "        - [For Loop](#For-Loop)\n",
        "        - [While Loop](#While-Loops)\n",
        "        - [List Comprehension](#List-Comprehension)\n",
        "       \n",
        "    - Functions\n",
        "        - [Functions](#Functions)\n",
        "        - [Lambda Functions](#Lambda-Functions)\n",
        "    - [Exception Handling](#Exception-Handling)\n",
        "- **Advanced Python**\n",
        "    - Object Oriented Programming\n",
        "        - [Classes](#Classes:)\n",
        "        - [Inheritance and Polymorphic Behavior](#Inheritance-and-Polymorphic-Behavior)\n",
        "    - [File IO](#File-IO)\n",
        "- **Numpy**\n",
        "    - [How to use NumPy](#How-to-use-numpy)\n",
        "    - [Arrays in NumPy](#Arrays-in-NumPy)\n",
        "    - [Matrix Operations](#Matrix-Operations-in-NumPy)\n",
        "    - [Broadcasting](#Broadcasting-in-NumPy)\n",
        "    - [Masked Indexing](#Masked-Indexing)\n",
        "    - [Aggregation](#Aggregation)\n",
        "- **Pandas**\n",
        "    - [Reading Data Files](#Reading-Data-Files-in-Pandas)\n",
        "    - [Indexing in Pandas](#Indexing-in-Pandas)\n",
        "- [NumPy and Pandas Requirement](#Requirement-on-NumPy)\n",
        "\n",
        "- **MatPlot Lib**\n",
        "    - [Line Plots](#Line-Plots)\n",
        "    - [Scatter Plots](#Scatter-Plots)\n",
        "    - [Histogram Plots](#Histogram-Plots)\n",
        "    - [Pie Charts](#Pie-Charts)\n",
        "    - [Multiple Plots on the Same Figure](#Multiple-Plots-on-the-Same-Figure)\n",
        "    - [Plotting Requirement](#Requirement-on-MatPlotLib)\n"
      ]
    },
    {
      "cell_type": "markdown",
      "metadata": {
        "id": "Vkxvn1-PnZeG"
      },
      "source": [
        "### What is Python?"
      ]
    },
    {
      "cell_type": "markdown",
      "metadata": {
        "id": "Z-tSSrp7nZeH"
      },
      "source": [
        "Python is the most popular high-level programming language to our time. It is popular for its wide range of applications in web development and machine learning, with a special advantage in scripting and demoing. As you will see later in the lab, it takes a few lines to implement complex programs.\n",
        "\n",
        "Unlike most programming languages that you may have worked with, Python is an **interpreted language** and not a compiled one. This means means that a python file is executed line by line from top to down. If a line contains error(s), execution will stop at this line.\n",
        "\n",
        "Despite this fact, Python is flexible enough to write **object oriented programs** as well as **procedural (also knwon as functional) programs**. We will discuss when to use each as a best practice later in this lab."
      ]
    },
    {
      "cell_type": "markdown",
      "metadata": {
        "id": "As_0m1dPnZeJ"
      },
      "source": [
        "### Why do we use Python?\n",
        "Python is probably the largest open-source programming language in the world. This means there is nothing you will need that is not  available in Python on the internet.\n",
        "\n",
        "Development time in python is faster than any other language: usually what people do in large companies is simply quick demos (prototyping) using python until they are satisfied with the results, then implement in other languages for better performance or system requirements.\n",
        "\n",
        "Python skills is a necessity for all students in computer science and engineering. Regardless the field you will work in, you will probably use Python."
      ]
    },
    {
      "cell_type": "markdown",
      "metadata": {
        "id": "CIqWQmIknZeJ"
      },
      "source": [
        "---------------------"
      ]
    },
    {
      "cell_type": "markdown",
      "metadata": {
        "id": "UNTAUhNfnZeK"
      },
      "source": [
        "# Python Review"
      ]
    },
    {
      "cell_type": "markdown",
      "metadata": {
        "id": "9mUaRC34nZeL"
      },
      "source": [
        "## Variables\n",
        "Variables in python do not have specific type until they are assigned a value. In order to know the type of a variable, we use the special funtion \"type()\".\n",
        "\n",
        "**Note: To run a cell, select it with Ctrl+Enter**."
      ]
    },
    {
      "cell_type": "code",
      "metadata": {
        "scrolled": true,
        "id": "wq_GXGZfnZeM",
        "colab": {
          "base_uri": "https://localhost:8080/"
        },
        "outputId": "a99aa937-411a-4264-9f21-2f4938264716"
      },
      "source": [
        "integer_variable = 1\n",
        "print(type(integer_variable)) ## integer class\n",
        "\n",
        "floating_variable = 1.0\n",
        "print(type(floating_variable)) ## floating class\n",
        "\n",
        "boolean_variable = True\n",
        "print(type(boolean_variable)) ## boolean class\n",
        "\n",
        "string_variable = \"I am a String\"\n",
        "print(type(string_variable)) ## string class"
      ],
      "execution_count": 130,
      "outputs": [
        {
          "output_type": "stream",
          "name": "stdout",
          "text": [
            "<class 'int'>\n",
            "<class 'float'>\n",
            "<class 'bool'>\n",
            "<class 'str'>\n"
          ]
        }
      ]
    },
    {
      "cell_type": "markdown",
      "metadata": {
        "id": "pNVdPrjAnZeQ"
      },
      "source": [
        "In order to check if a variable is of specific data type, we use the function isinstance(variable, data type)"
      ]
    },
    {
      "cell_type": "code",
      "metadata": {
        "id": "8wXgBEI7nZeR",
        "colab": {
          "base_uri": "https://localhost:8080/"
        },
        "outputId": "5b1033a2-d92e-42b6-ebd8-fef7b6a6c62d"
      },
      "source": [
        "## for example\n",
        "integer_var = 5\n",
        "print(isinstance(integer_var,int)) ## returns True\n",
        "print(isinstance(integer_var, bool)) ## returns False"
      ],
      "execution_count": 131,
      "outputs": [
        {
          "output_type": "stream",
          "name": "stdout",
          "text": [
            "True\n",
            "False\n"
          ]
        }
      ]
    },
    {
      "cell_type": "markdown",
      "metadata": {
        "id": "1Lh0PUqonZeV"
      },
      "source": [
        "Like the NULL value in other programming languages, Python uses the 'None' keyword to mark unknown values for variables"
      ]
    },
    {
      "cell_type": "code",
      "metadata": {
        "id": "eTjtRsrGnZeV",
        "colab": {
          "base_uri": "https://localhost:8080/"
        },
        "outputId": "eb5395f2-d9c0-40b5-e2c5-4ac07fac82fa"
      },
      "source": [
        "unknown_variable = None\n",
        "print(type(unknown_variable))"
      ],
      "execution_count": 132,
      "outputs": [
        {
          "output_type": "stream",
          "name": "stdout",
          "text": [
            "<class 'NoneType'>\n"
          ]
        }
      ]
    },
    {
      "cell_type": "code",
      "metadata": {
        "scrolled": true,
        "id": "NiOqCZRUnZeZ",
        "colab": {
          "base_uri": "https://localhost:8080/"
        },
        "outputId": "23a01217-5312-4d7c-f6d0-9ef94875fe51"
      },
      "source": [
        "## we can check on its type as well\n",
        "print(isinstance(unknown_variable, int)) ## returns False\n",
        "\n",
        "## But to check if a variable is none, we use the identity operator 'is', we will discuss the identity\n",
        "## operator later in this lab\n",
        "print(unknown_variable is None) ## returns True"
      ],
      "execution_count": 133,
      "outputs": [
        {
          "output_type": "stream",
          "name": "stdout",
          "text": [
            "False\n",
            "True\n"
          ]
        }
      ]
    },
    {
      "cell_type": "markdown",
      "metadata": {
        "id": "6U7hhqvznZed"
      },
      "source": [
        "---------------------"
      ]
    },
    {
      "cell_type": "markdown",
      "metadata": {
        "id": "Gc2nzeXVnZed"
      },
      "source": [
        "## Input/Output"
      ]
    },
    {
      "cell_type": "markdown",
      "metadata": {
        "id": "YSoKYYU5nZee"
      },
      "source": [
        "In order to output any data to screen, you only need to use the function \"print()\".\n",
        "The function allows you to control the output format in a very flexible way."
      ]
    },
    {
      "cell_type": "code",
      "metadata": {
        "id": "5mWAyLLpnZef",
        "colab": {
          "base_uri": "https://localhost:8080/"
        },
        "outputId": "de65fd45-ecb4-4e08-fe6a-a99d08f74c85"
      },
      "source": [
        "## You can pass the output string directly\n",
        "print(\"Python is easy to learn!\")\n",
        "\n",
        "## You can pass multiple objects to output\n",
        "print(\"This is a string\", \"and this is another one!\")"
      ],
      "execution_count": 134,
      "outputs": [
        {
          "output_type": "stream",
          "name": "stdout",
          "text": [
            "Python is easy to learn!\n",
            "This is a string and this is another one!\n"
          ]
        }
      ]
    },
    {
      "cell_type": "code",
      "metadata": {
        "id": "ksDPswlfnZej",
        "colab": {
          "base_uri": "https://localhost:8080/"
        },
        "outputId": "b82394a0-61ad-4b5f-a7e8-6aa11dec5335"
      },
      "source": [
        "## You can ouput objects other than strings\n",
        "print(\"Hi! I am\", 23, \"Years old\")\n",
        "\n",
        "## Even print lists (we will discuss lists later, don't worry ;) )\n",
        "primes = [2, 3, 5, 7]\n",
        "print(\"Prime numbers less than 10 are: \", primes)"
      ],
      "execution_count": 135,
      "outputs": [
        {
          "output_type": "stream",
          "name": "stdout",
          "text": [
            "Hi! I am 23 Years old\n",
            "Prime numbers less than 10 are:  [2, 3, 5, 7]\n"
          ]
        }
      ]
    },
    {
      "cell_type": "code",
      "metadata": {
        "id": "reSKGqLUnZem",
        "colab": {
          "base_uri": "https://localhost:8080/"
        },
        "outputId": "dc54d54a-32c8-4757-c57d-83d80b4efb10"
      },
      "source": [
        "## a special parameter to the 'print' function is called \"sep\" which is used to separate the objects to be printed\n",
        "## see how we use arrows ->\n",
        "print(\"I can count from 1\", \"10\", sep='->')\n",
        "## and this one uses hyphens\n",
        "print(\"This lab is legen\", \"wait for it\", \"dary\", sep=\"-\")\n",
        "\n",
        "## remember: the default separator is blank space ' '"
      ],
      "execution_count": 136,
      "outputs": [
        {
          "output_type": "stream",
          "name": "stdout",
          "text": [
            "I can count from 1->10\n",
            "This lab is legen-wait for it-dary\n"
          ]
        }
      ]
    },
    {
      "cell_type": "markdown",
      "metadata": {
        "id": "6VRjevTEnZep"
      },
      "source": [
        "Taking inputs in python is as easy as presenting output: All you need to use is the function \"input()\""
      ]
    },
    {
      "cell_type": "code",
      "metadata": {
        "id": "p634XkGanZeq",
        "colab": {
          "base_uri": "https://localhost:8080/"
        },
        "outputId": "ed0d9d72-0c75-45b5-f389-474b7feb98c4"
      },
      "source": [
        "## the funtion input() takes as a parameter a string: this is the message that prompts the user to give an input\n",
        "age = input(\"Hi! How old are you?\")\n",
        "print(\"You are\", age, \"years old!\")"
      ],
      "execution_count": 137,
      "outputs": [
        {
          "output_type": "stream",
          "name": "stdout",
          "text": [
            "Hi! How old are you?20\n",
            "You are 20 years old!\n"
          ]
        }
      ]
    },
    {
      "cell_type": "markdown",
      "metadata": {
        "id": "Lm19EyNnnZet"
      },
      "source": [
        "**IMPORTANT NOTE** the input function always returns values as **STRINGS**, you will see later how to cast these to other types"
      ]
    },
    {
      "cell_type": "markdown",
      "metadata": {
        "id": "nO-3r1lYnZeu"
      },
      "source": [
        "---------------------"
      ]
    },
    {
      "cell_type": "markdown",
      "metadata": {
        "id": "F412hBTQnZeu"
      },
      "source": [
        "## Operators\n",
        "Like all programming languages, Operators in Python are categoriezed into Arithmatic, Relational and Logical operators. We will discuss them all in details here.\n",
        "\n",
        "### 1. Arithmatic Operators\n",
        "Arithmetic operators are used to perform mathematical operations like addition, subtraction, multiplication and division"
      ]
    },
    {
      "cell_type": "code",
      "metadata": {
        "id": "Gn95Mrg6nZev",
        "colab": {
          "base_uri": "https://localhost:8080/"
        },
        "outputId": "b7f2645b-ebb9-42ef-fd42-f8b30dfa121e"
      },
      "source": [
        "## addition: +\n",
        "print('1 + 2 =', 1 + 2) ## add two numbers\n",
        "\n",
        "## subtraction: -\n",
        "print('3 - 2 =', 3 - 2) ## subtract two numbers\n",
        "\n",
        "## multiplication:\n",
        "print('3 * 2 =', 3 * 2) ## multiply two numbers\n",
        "\n",
        "## self addition\n",
        "x = 2\n",
        "x += 2 ## add to x and assigns value to x again\n",
        "print('x = 2 + 2 =', x)\n",
        "\n",
        "## self subtraction\n",
        "x = 2\n",
        "x -= 2 ## subtracts from x and assigns value to x again\n",
        "print('x = 2 - 2 =', x)\n",
        "\n",
        "## self multiply\n",
        "x = 2\n",
        "x *= 2 ## multiplies from x and assigns value to x again\n",
        "print('x = 2 * 2 =', x)"
      ],
      "execution_count": 138,
      "outputs": [
        {
          "output_type": "stream",
          "name": "stdout",
          "text": [
            "1 + 2 = 3\n",
            "3 - 2 = 1\n",
            "3 * 2 = 6\n",
            "x = 2 + 2 = 4\n",
            "x = 2 - 2 = 0\n",
            "x = 2 * 2 = 4\n"
          ]
        }
      ]
    },
    {
      "cell_type": "code",
      "metadata": {
        "id": "ZJZ1uZk6nZey",
        "colab": {
          "base_uri": "https://localhost:8080/"
        },
        "outputId": "ff718526-7d22-4ae5-9cbc-5af558b6fa78"
      },
      "source": [
        "## modulus operator: x%y returns the remainder of dividing the x by y\n",
        "print(5%2) ## dividing 5 by 2 gives two twos and the remainder is 1\n",
        "\n",
        "## self modulus\n",
        "x = 5\n",
        "x %= 2 ## calculates modulus of x by 2 and assigns value to x again\n",
        "print('x = 5 % 2 =', x)"
      ],
      "execution_count": 139,
      "outputs": [
        {
          "output_type": "stream",
          "name": "stdout",
          "text": [
            "1\n",
            "x = 5 % 2 = 1\n"
          ]
        }
      ]
    },
    {
      "cell_type": "code",
      "metadata": {
        "id": "lqGFoZPinZe1",
        "colab": {
          "base_uri": "https://localhost:8080/"
        },
        "outputId": "558a3176-15c6-41c2-e6aa-becf985d639a"
      },
      "source": [
        "## power operator: x**y returns the value of raising x to the power of y\n",
        "print(3**2) ## 3 to the power of 2 is 9\n",
        "\n",
        "## self power\n",
        "x = 5\n",
        "x **= 2 ## calculates power of x to 2 and assigns value to x again\n",
        "print('x = 5 ^ 2 =', x)"
      ],
      "execution_count": 140,
      "outputs": [
        {
          "output_type": "stream",
          "name": "stdout",
          "text": [
            "9\n",
            "x = 5 ^ 2 = 25\n"
          ]
        }
      ]
    },
    {
      "cell_type": "markdown",
      "metadata": {
        "id": "ziVVob8JnZe5"
      },
      "source": [
        "**NOTICE** only if both values are integers, the output is integer. If one of the operands is floating point, the output is floating point\n"
      ]
    },
    {
      "cell_type": "code",
      "metadata": {
        "id": "Hv9w3_HbnZe5",
        "colab": {
          "base_uri": "https://localhost:8080/"
        },
        "outputId": "c44f2b81-d64e-4201-bccc-7ee458c2d946"
      },
      "source": [
        "print(2*2.0) ## this returns float value\n",
        "print(2*2) ## this returns integer value"
      ],
      "execution_count": 141,
      "outputs": [
        {
          "output_type": "stream",
          "name": "stdout",
          "text": [
            "4.0\n",
            "4\n"
          ]
        }
      ]
    },
    {
      "cell_type": "markdown",
      "metadata": {
        "id": "bJTD2eeinZe8"
      },
      "source": [
        "**Division** in python is tricky!"
      ]
    },
    {
      "cell_type": "code",
      "metadata": {
        "id": "p_scOJoCnZe9",
        "colab": {
          "base_uri": "https://localhost:8080/"
        },
        "outputId": "2b99e384-5cd1-485f-97a8-d4fbfe3d7299"
      },
      "source": [
        "## The operator x/y returns floating value of dividing x by y\n",
        "print(5/2) ## returns 2.5\n",
        "\n",
        "## self floating point division\n",
        "x = 5\n",
        "x /= 2 ## calculates quotient of dividing x by 2 and assigns value to x again\n",
        "print('x = 5 / 2 =', x)"
      ],
      "execution_count": 142,
      "outputs": [
        {
          "output_type": "stream",
          "name": "stdout",
          "text": [
            "2.5\n",
            "x = 5 / 2 = 2.5\n"
          ]
        }
      ]
    },
    {
      "cell_type": "code",
      "metadata": {
        "id": "oXXOjiRBnZfA",
        "colab": {
          "base_uri": "https://localhost:8080/"
        },
        "outputId": "83a305e6-1fd0-4dd3-af02-1e441ec74596"
      },
      "source": [
        "## The operator x//y returns the integer floor value of dividing x by y\n",
        "print(5//2) ## returns 2\n",
        "\n",
        "## self integer division\n",
        "x = 5\n",
        "x //= 2 ## calculates quotient of dividing x by 2 and assigns value to x again\n",
        "print('x = 5 // 2 =', x)"
      ],
      "execution_count": 143,
      "outputs": [
        {
          "output_type": "stream",
          "name": "stdout",
          "text": [
            "2\n",
            "x = 5 // 2 = 2\n"
          ]
        }
      ]
    },
    {
      "cell_type": "markdown",
      "metadata": {
        "id": "Q3cw3rNenZfD"
      },
      "source": [
        "### 2. Relational Operators\n",
        "Relational operators compares the values of the operands"
      ]
    },
    {
      "cell_type": "code",
      "metadata": {
        "id": "y61TXCqhnZfD",
        "colab": {
          "base_uri": "https://localhost:8080/"
        },
        "outputId": "b10ce932-fb70-48da-eb04-70a81125d75d"
      },
      "source": [
        "print(5 > 7) ## Checks if 5 greater than 7\n",
        "print(5 >= 7) ## Checks if 5 greater than or equal to 7\n",
        "\n",
        "print(5 < 7) ## Checks if 5 less than 7\n",
        "print(5 <= 7) ## Checks if 5 less than or equal 7\n",
        "\n",
        "print(5 == 7) ## Checks if 5 equal to 7\n",
        "print(5 != 7) ## Checks if 5 not equal to 7"
      ],
      "execution_count": 144,
      "outputs": [
        {
          "output_type": "stream",
          "name": "stdout",
          "text": [
            "False\n",
            "False\n",
            "True\n",
            "True\n",
            "False\n",
            "True\n"
          ]
        }
      ]
    },
    {
      "cell_type": "markdown",
      "metadata": {
        "id": "NuNszhzrnZfG"
      },
      "source": [
        "### 3. Logical Operators"
      ]
    },
    {
      "cell_type": "code",
      "metadata": {
        "id": "kaCGE_ftnZfH",
        "colab": {
          "base_uri": "https://localhost:8080/"
        },
        "outputId": "251509be-4e7a-4322-8cf7-bcea4f8d49fd"
      },
      "source": [
        "condition_1 = True\n",
        "condition_2 = False\n",
        "print(condition_1 and condition_2) ## Logic AND of condition 1 and condition 2\n",
        "print(condition_1 or codition_2) ## Logic OR of condition 1 and condition 2\n",
        "print(not condition_1) ## Logic NOT of condition 1"
      ],
      "execution_count": 145,
      "outputs": [
        {
          "output_type": "stream",
          "name": "stdout",
          "text": [
            "False\n",
            "True\n",
            "False\n"
          ]
        }
      ]
    },
    {
      "cell_type": "markdown",
      "metadata": {
        "id": "nGmOfGgJnZfM"
      },
      "source": [
        "---------------------"
      ]
    },
    {
      "cell_type": "markdown",
      "metadata": {
        "id": "row-c0mcnZfN"
      },
      "source": [
        "## Data Types\n",
        "As you saw, Python contains all the primitive data types as any language:\n",
        "- Integer  \n",
        "- Boolean\n",
        "- Float   \n",
        "- String"
      ]
    },
    {
      "cell_type": "markdown",
      "metadata": {
        "id": "PNMErINqnZfN"
      },
      "source": [
        "---------------------"
      ]
    },
    {
      "cell_type": "markdown",
      "metadata": {
        "id": "cZGmBH_LnZfO"
      },
      "source": [
        "## Containers\n",
        "Python also contains Containers that associate multiple values like:\n",
        "- Lists\n",
        "- Tuples\n",
        "- Sets\n",
        "- Dictionaries\n",
        "\n",
        "### Lists\n",
        "Lists in python are like dynamic sized arrays. Lists are denoted by the square brackets [ ] where entries in list are separated by commas."
      ]
    },
    {
      "cell_type": "code",
      "metadata": {
        "id": "_qQ9EjvAnZfO",
        "colab": {
          "base_uri": "https://localhost:8080/"
        },
        "outputId": "edf36ac1-6339-4fe4-a550-1b271df4ca49"
      },
      "source": [
        "## List declaration is simple\n",
        "list_of_numbers = [1, 2, 3]\n",
        "print(list_of_numbers)"
      ],
      "execution_count": 146,
      "outputs": [
        {
          "output_type": "stream",
          "name": "stdout",
          "text": [
            "[1, 2, 3]\n"
          ]
        }
      ]
    },
    {
      "cell_type": "markdown",
      "metadata": {
        "id": "T98K8I_DnZfR"
      },
      "source": [
        "Unlike most programming languages, Lists in python can contain variables of different types"
      ]
    },
    {
      "cell_type": "code",
      "metadata": {
        "id": "Y6MNMdMBnZfS",
        "colab": {
          "base_uri": "https://localhost:8080/"
        },
        "outputId": "d0eaf9f2-330b-4d29-80ce-634f4d1f32ab"
      },
      "source": [
        "## for example\n",
        "different_types_list = [\"I am a String\", 23, True] ## list of string, integer and boolean!\n",
        "print(different_types_list)"
      ],
      "execution_count": 147,
      "outputs": [
        {
          "output_type": "stream",
          "name": "stdout",
          "text": [
            "['I am a String', 23, True]\n"
          ]
        }
      ]
    },
    {
      "cell_type": "code",
      "metadata": {
        "id": "kOr0lbhwnZfV",
        "colab": {
          "base_uri": "https://localhost:8080/"
        },
        "outputId": "5d7cbad8-6a28-4269-ce60-fe1ebba3f400"
      },
      "source": [
        "## to get the length of list, we use the len() function\n",
        "three_entries_list = [1, 2, 3]\n",
        "print(len(three_entries_list)) ## length of the list is 3"
      ],
      "execution_count": 148,
      "outputs": [
        {
          "output_type": "stream",
          "name": "stdout",
          "text": [
            "3\n"
          ]
        }
      ]
    },
    {
      "cell_type": "markdown",
      "metadata": {
        "id": "88uM434xnZfY"
      },
      "source": [
        "#### Indexing lists in Python\n",
        "Indexing lists is very simple in python. Indexes start from zero to length of the list -1. However, there are some special indexing tricks you need to know about."
      ]
    },
    {
      "cell_type": "code",
      "metadata": {
        "id": "WjGX6oZRnZfZ",
        "colab": {
          "base_uri": "https://localhost:8080/"
        },
        "outputId": "ac127ffd-38e2-43b0-a0eb-678481a2c64e"
      },
      "source": [
        "sample_list = [1, 2, 3, 4, 5, 6, 7, 8, 9, 10]\n",
        "\n",
        "## to get the 1st entry in the list\n",
        "print(sample_list[0])\n",
        "\n",
        "## to get the 3rd entry in the list\n",
        "print(sample_list[2])"
      ],
      "execution_count": 149,
      "outputs": [
        {
          "output_type": "stream",
          "name": "stdout",
          "text": [
            "1\n",
            "3\n"
          ]
        }
      ]
    },
    {
      "cell_type": "markdown",
      "metadata": {
        "id": "zsS5GYQJnZfc"
      },
      "source": [
        "**IMPORTANT** Special indexing in python"
      ]
    },
    {
      "cell_type": "code",
      "metadata": {
        "id": "aFDbh0LjnZfd",
        "colab": {
          "base_uri": "https://localhost:8080/"
        },
        "outputId": "f63be7c2-3fd3-4dee-f7f2-d3459d52949e"
      },
      "source": [
        "sample_list = [1, 2, 3, 4, 5, 6, 7, 8, 9, 10]\n",
        "\n",
        "## to get the last entry\n",
        "print(sample_list[-1])\n",
        "\n",
        "## to get the second-to-last entry\n",
        "print(sample_list[-2])"
      ],
      "execution_count": 150,
      "outputs": [
        {
          "output_type": "stream",
          "name": "stdout",
          "text": [
            "10\n",
            "9\n"
          ]
        }
      ]
    },
    {
      "cell_type": "markdown",
      "metadata": {
        "id": "uVygKRxLnZfh"
      },
      "source": [
        "Python allows to index sub-lists from the longer list using the colon 'start-index : end-index' operator.\n",
        "\n",
        "**NOTE** the end-index is NOT included in the sublist (the start-index is inclusive while the end-index is exclusive)."
      ]
    },
    {
      "cell_type": "code",
      "metadata": {
        "id": "lPv3egFHnZfi",
        "colab": {
          "base_uri": "https://localhost:8080/"
        },
        "outputId": "679d0609-d8ff-4016-d4c2-d9dead9eaad6"
      },
      "source": [
        "sample_list = [1, 2, 3, 4, 5, 6, 7, 8, 9, 10]\n",
        "\n",
        "## access the 3rd, 4th and the 5th elements, we start from index 2 to index 5 (not index 4)\n",
        "sublist = sample_list[2:5]\n",
        "print(sublist)"
      ],
      "execution_count": 151,
      "outputs": [
        {
          "output_type": "stream",
          "name": "stdout",
          "text": [
            "[3, 4, 5]\n"
          ]
        }
      ]
    },
    {
      "cell_type": "code",
      "metadata": {
        "id": "jwV8gToRnZfl",
        "colab": {
          "base_uri": "https://localhost:8080/"
        },
        "outputId": "8c27fb9a-df14-4f73-802c-ebec34750b26"
      },
      "source": [
        "sample_list = [1, 2, 3, 4, 5, 6, 7, 8, 9, 10]\n",
        "\n",
        "## to access elements from the start of the list to a specific index, we do not use start index\n",
        "first_three_elements = sample_list[:3]\n",
        "print(first_three_elements)"
      ],
      "execution_count": 152,
      "outputs": [
        {
          "output_type": "stream",
          "name": "stdout",
          "text": [
            "[1, 2, 3]\n"
          ]
        }
      ]
    },
    {
      "cell_type": "code",
      "metadata": {
        "id": "zloeIX3YnZfn",
        "colab": {
          "base_uri": "https://localhost:8080/"
        },
        "outputId": "4b66ac75-9111-4285-f5ed-6c3bdc347f1d"
      },
      "source": [
        "sample_list = [1, 2, 3, 4, 5, 6, 7, 8, 9, 10]\n",
        "\n",
        "## likewise, to access from the 7th element to the end of the list\n",
        "## Remember: we do NOT know the length of the list\n",
        "from_seventh_element = sample_list[6:] ## similar to sample_list[6:len(sample_list)]\n",
        "print(from_seventh_element)"
      ],
      "execution_count": 153,
      "outputs": [
        {
          "output_type": "stream",
          "name": "stdout",
          "text": [
            "[7, 8, 9, 10]\n"
          ]
        }
      ]
    },
    {
      "cell_type": "code",
      "metadata": {
        "id": "cxPw9-WwnZfq",
        "colab": {
          "base_uri": "https://localhost:8080/"
        },
        "outputId": "bcc12b3d-5165-4359-9d1c-d4f56c20b47d"
      },
      "source": [
        "#### TEST YOURSELF ####\n",
        "## write One line to get the last 3 elements from the list\n",
        "## HINT: Combine sub-list indexing and the negative indices concepts we just revised\n",
        "sample_list = [1, 2, 3, 4, 5, 6, 7, 8, 9, 10]\n",
        "last_three_elements = sample_list[-3:]\n",
        "last_three_elements"
      ],
      "execution_count": 154,
      "outputs": [
        {
          "output_type": "execute_result",
          "data": {
            "text/plain": [
              "[8, 9, 10]"
            ]
          },
          "metadata": {},
          "execution_count": 154
        }
      ]
    },
    {
      "cell_type": "code",
      "metadata": {
        "id": "CeBaZDdwnZfu",
        "colab": {
          "base_uri": "https://localhost:8080/"
        },
        "outputId": "738c86e6-b46f-4ad5-99ac-85a8e17f3e3e"
      },
      "source": [
        "## we can control the step by wich we increment the sublist indexes\n",
        "## using format 'start-index:end-index:increment-value'\n",
        "\n",
        "## for example, we can get elements at even indices up to the fifth element\n",
        "even_indices_elements = sample_list[0:5:2]\n",
        "print(even_indices_elements)"
      ],
      "execution_count": 155,
      "outputs": [
        {
          "output_type": "stream",
          "name": "stdout",
          "text": [
            "[1, 3, 5]\n"
          ]
        }
      ]
    },
    {
      "cell_type": "markdown",
      "metadata": {
        "id": "iWvAnAZunZfx"
      },
      "source": [
        "### Tuples"
      ]
    },
    {
      "cell_type": "markdown",
      "metadata": {
        "id": "5ppZNTyCnZfx"
      },
      "source": [
        "Tuples are exactly like lists in python, the **ONLY difference** is that tuples are **immutable** but lists are **mutable**\n",
        "\n",
        "Immutable means: we cannot modify tuples once they are created: you cannot change elements, delete from them or add to the tuple.\n",
        "\n",
        "Tuples are denoted by round brackets '()'."
      ]
    },
    {
      "cell_type": "code",
      "metadata": {
        "id": "QzyM4UPFnZfy",
        "colab": {
          "base_uri": "https://localhost:8080/",
          "height": 159
        },
        "outputId": "0060eb5c-4fbf-4677-af16-f3486df0e79c"
      },
      "source": [
        "tuple_example = (1,2)\n",
        "tuple_example[0] = 4 ## this will cause an error called: tuple object does not support item assignment"
      ],
      "execution_count": 156,
      "outputs": [
        {
          "output_type": "error",
          "ename": "TypeError",
          "evalue": "'tuple' object does not support item assignment",
          "traceback": [
            "\u001b[0;31m---------------------------------------------------------------------------\u001b[0m",
            "\u001b[0;31mTypeError\u001b[0m                                 Traceback (most recent call last)",
            "\u001b[0;32m<ipython-input-156-27c2453bff61>\u001b[0m in \u001b[0;36m<cell line: 2>\u001b[0;34m()\u001b[0m\n\u001b[1;32m      1\u001b[0m \u001b[0mtuple_example\u001b[0m \u001b[0;34m=\u001b[0m \u001b[0;34m(\u001b[0m\u001b[0;36m1\u001b[0m\u001b[0;34m,\u001b[0m\u001b[0;36m2\u001b[0m\u001b[0;34m)\u001b[0m\u001b[0;34m\u001b[0m\u001b[0;34m\u001b[0m\u001b[0m\n\u001b[0;32m----> 2\u001b[0;31m \u001b[0mtuple_example\u001b[0m\u001b[0;34m[\u001b[0m\u001b[0;36m0\u001b[0m\u001b[0;34m]\u001b[0m \u001b[0;34m=\u001b[0m \u001b[0;36m4\u001b[0m \u001b[0;31m## this will cause an error called: tuple object does not support item assignment\u001b[0m\u001b[0;34m\u001b[0m\u001b[0;34m\u001b[0m\u001b[0m\n\u001b[0m",
            "\u001b[0;31mTypeError\u001b[0m: 'tuple' object does not support item assignment"
          ]
        }
      ]
    },
    {
      "cell_type": "markdown",
      "metadata": {
        "id": "EJIAajZcnZf0"
      },
      "source": [
        "**NOTE** Make sure you understand that in the previous example, tuple_example is a VARIABLE, we can re-assign anything to it. However, when it is of type Tuple, we cannot assign to the **ELEMENTS** of the tuple.\n",
        "\n",
        "Indexing tuples is exactly like the lists"
      ]
    },
    {
      "cell_type": "code",
      "metadata": {
        "id": "4jg2oFZLnZf1",
        "colab": {
          "base_uri": "https://localhost:8080/"
        },
        "outputId": "a4acda12-eeea-4785-9805-eac4156bbd3a"
      },
      "source": [
        "## indexing sub-tuple from tuples\n",
        "vegetables_tuple = (\"Tomato\", \"Potato\", \"Cucumber\", \"Carrots\", \"Eggplants\")\n",
        "\n",
        "first_two_elements_tuple = vegetables_tuple[:2] ## creates a sub-tuple  of the first two elements\n",
        "print(first_two_elements_tuple)"
      ],
      "execution_count": 157,
      "outputs": [
        {
          "output_type": "stream",
          "name": "stdout",
          "text": [
            "('Tomato', 'Potato')\n"
          ]
        }
      ]
    },
    {
      "cell_type": "markdown",
      "metadata": {
        "id": "jAIgWoolnZf4"
      },
      "source": [
        "We can cast lists into tuples and vise versa"
      ]
    },
    {
      "cell_type": "code",
      "metadata": {
        "id": "F3F3s5LEnZf4",
        "colab": {
          "base_uri": "https://localhost:8080/"
        },
        "outputId": "9e9b105f-d1c3-4766-af1a-0f24d762f84d"
      },
      "source": [
        "sample_list = [1, 2, 3, 4, 5, 6, 7, 8, 9, 10]\n",
        "tuple_from_list = tuple(sample_list)\n",
        "print(type(tuple_from_list)) ## it is of class tuple\n",
        "\n",
        "## and the other way round\n",
        "vegetables_tuple = (\"Tomato\", \"Potato\", \"Cucumber\", \"Carrots\", \"Eggplants\")\n",
        "list_from_tuple = list(vegetables_tuple)\n",
        "print(type(list_from_tuple)) ## it is of class list"
      ],
      "execution_count": 158,
      "outputs": [
        {
          "output_type": "stream",
          "name": "stdout",
          "text": [
            "<class 'tuple'>\n",
            "<class 'list'>\n"
          ]
        }
      ]
    },
    {
      "cell_type": "markdown",
      "metadata": {
        "id": "kSfzfaFZnZf7"
      },
      "source": [
        "**IMPORTANT** If tuples and lists are necissarily the same, why do we need tuples? Because:\n",
        "\n",
        "Since tuples are immutable (cannot be changed) they are saved in memory as one chunck of data. This makes it faster in access time and more memory efficient (certain compression techniques are used over tuples on byte level).\n",
        "\n",
        "##### When to use Tuples over lists:\n",
        "* When you have a fixed element list (for example: languages that your program support are English, French or Arabic) it is more efficient to save the list of accepted languages in a tuple.\n",
        "* When you want to prevent the change of the elements of the list resulting from a certain function (for example, a function returns the acceptable values in your program, it is more safe to return them in tuple instead of list so that callers of this function do not mistakenly change these values).\n"
      ]
    },
    {
      "cell_type": "markdown",
      "metadata": {
        "id": "0RdZoXlxnZf9"
      },
      "source": [
        "### Sets\n",
        "Sets are special type of lists where all elements are **Unique**, they are denoted by curly parentheses '{}'"
      ]
    },
    {
      "cell_type": "code",
      "metadata": {
        "id": "_zn9_AJnnZf9",
        "colab": {
          "base_uri": "https://localhost:8080/"
        },
        "outputId": "266ea7d5-a75d-412b-d200-10901e72d3ec"
      },
      "source": [
        "### Notice the difference\n",
        "non_unique_list = [1, 1, 2, 2, 3, 3]\n",
        "print(non_unique_list)\n",
        "\n",
        "unique_set = {1, 1, 2, 2, 3, 3}\n",
        "print(unique_set)"
      ],
      "execution_count": 159,
      "outputs": [
        {
          "output_type": "stream",
          "name": "stdout",
          "text": [
            "[1, 1, 2, 2, 3, 3]\n",
            "{1, 2, 3}\n"
          ]
        }
      ]
    },
    {
      "cell_type": "code",
      "metadata": {
        "id": "0zn0N7xsnZgA",
        "colab": {
          "base_uri": "https://localhost:8080/"
        },
        "outputId": "0e79f12e-f038-4981-a57f-6475211fe4ea"
      },
      "source": [
        "### you can cast the list into set\n",
        "non_unique_list = [1, 1, 2, 2, 3, 3]\n",
        "unique_elements_from_list = set(non_unique_list)\n",
        "print(unique_elements_from_list)"
      ],
      "execution_count": 160,
      "outputs": [
        {
          "output_type": "stream",
          "name": "stdout",
          "text": [
            "{1, 2, 3}\n"
          ]
        }
      ]
    },
    {
      "cell_type": "markdown",
      "metadata": {
        "id": "9G2tq0LenZgC"
      },
      "source": [
        "### Dictionaries\n",
        "Dictionaries are **Sets** of key-value pairs, where each key is associated by a pair. they are denoted also by the curly parentheses { key: value}, and elements are indexed by the keys, e.g. dictionary[key], or the get(key) function."
      ]
    },
    {
      "cell_type": "code",
      "metadata": {
        "id": "yeG4w_SBnZgD",
        "colab": {
          "base_uri": "https://localhost:8080/"
        },
        "outputId": "498bf371-80bf-4722-991a-2e9e5e18af63"
      },
      "source": [
        "dictionary = {'a': 'Apple', 'b': 'Banana', 'c': 'Cat', 'd': 'Dog'}\n",
        "print(dictionary['a'])"
      ],
      "execution_count": 161,
      "outputs": [
        {
          "output_type": "stream",
          "name": "stdout",
          "text": [
            "Apple\n"
          ]
        }
      ]
    },
    {
      "cell_type": "markdown",
      "metadata": {
        "id": "Ft2ujtKvnZgG"
      },
      "source": [
        "**IMPORTANT** keys do not need to be of the same type, but they need to be **IMMUTABLE**. Also values can be of any data type."
      ]
    },
    {
      "cell_type": "code",
      "metadata": {
        "scrolled": true,
        "id": "kHG2ifcNnZgG",
        "colab": {
          "base_uri": "https://localhost:8080/"
        },
        "outputId": "8f97e808-ae9e-4e7e-e7d4-22605df17a99"
      },
      "source": [
        "different_keys_dictionary = {\n",
        "    'a': True,\n",
        "    23: \"Is My Age\",\n",
        "    ('Series', 'Netflix List') : ['Sherlock', 'Lucifer', 'Elite']\n",
        "}\n",
        "\n",
        "series_i_like = different_keys_dictionary[('Series', 'Netflix List')]\n",
        "print(series_i_like)"
      ],
      "execution_count": 162,
      "outputs": [
        {
          "output_type": "stream",
          "name": "stdout",
          "text": [
            "['Sherlock', 'Lucifer', 'Elite']\n"
          ]
        }
      ]
    },
    {
      "cell_type": "markdown",
      "metadata": {
        "id": "wyM8Q8o-nZgJ"
      },
      "source": [
        "---------------------"
      ]
    },
    {
      "cell_type": "markdown",
      "metadata": {
        "id": "1SXmp4WbnZgJ"
      },
      "source": [
        "### Test Yourself:\n",
        "What do you think will happen if we switched the list and the tuple from the last example:\n",
        "\n",
        "i.e. if we make a dictionary: dic = {['Series', 'Netflix List']: ('Sherlock', 'Lucifer')}?\n",
        "\n",
        "**Justify your answer.**\n",
        "\n",
        "*Hint: Remember keys must be immutable.*\n",
        "\n",
        "**Note: Add a cell here answering these questions as mark-up text.**"
      ]
    },
    {
      "cell_type": "code",
      "source": [
        "dic = { ('Sherlock', 'Lucifer'):['Series', 'Netflix List']}\n",
        "dic.get(('Sherlock', 'Lucifer'))"
      ],
      "metadata": {
        "colab": {
          "base_uri": "https://localhost:8080/"
        },
        "id": "KAGXxjDaB6HW",
        "outputId": "2f013cce-4999-47aa-ae43-765a827b0132"
      },
      "execution_count": 163,
      "outputs": [
        {
          "output_type": "execute_result",
          "data": {
            "text/plain": [
              "['Series', 'Netflix List']"
            ]
          },
          "metadata": {},
          "execution_count": 163
        }
      ]
    },
    {
      "cell_type": "markdown",
      "metadata": {
        "id": "rEyn7iCGnZgL"
      },
      "source": [
        "---------------------"
      ]
    },
    {
      "cell_type": "markdown",
      "metadata": {
        "id": "xTnWEvsknZgL"
      },
      "source": [
        "### Identity Operator and Aliasing\n",
        "Now that we know the containers objects in Python, a very important concept you need to know is the Identity operator 'is'.\n",
        "\n",
        "Variables in python are all passed by **Reference**, that is: variables point to the location in memory where the value(s) is(are) stored.\n",
        "\n",
        "So a program like this:\n",
        "\n",
        "X = 5\n",
        "\n",
        "Y = X\n",
        "\n",
        "will create two reference (X and Y) that both point to the location of value 5 in memory, but will not copy the value 5 from X to Y.\n",
        "\n",
        "**Notice** in the next example: we change the value of the second index of Y, but X still changes!"
      ]
    },
    {
      "cell_type": "code",
      "metadata": {
        "id": "EvE9B6WwnZgM",
        "colab": {
          "base_uri": "https://localhost:8080/"
        },
        "outputId": "1e953c8e-33b1-4c67-ff5b-356ee4dc8b10"
      },
      "source": [
        "X = [5, 6, 7]\n",
        "Y = X\n",
        "Y[1] = True ## we change in Y\n",
        "\n",
        "print('X is changed into: ', X)"
      ],
      "execution_count": 164,
      "outputs": [
        {
          "output_type": "stream",
          "name": "stdout",
          "text": [
            "X is changed into:  [5, True, 7]\n"
          ]
        }
      ]
    },
    {
      "cell_type": "markdown",
      "metadata": {
        "id": "oa37u__YnZgQ"
      },
      "source": [
        "The **equality** operator checks if the **Values** of both variables are the same! but the **Identity** operator checks if they both point to the **same memory location**."
      ]
    },
    {
      "cell_type": "code",
      "metadata": {
        "id": "H8t84DAYnZgR",
        "colab": {
          "base_uri": "https://localhost:8080/"
        },
        "outputId": "49d7e238-4a4a-4d20-bc7a-875fdfac5fbb"
      },
      "source": [
        "X = [5, 6, 7]\n",
        "Y = X\n",
        "\n",
        "print('Are X and Y of the same values? ', Y == X) ## YEP\n",
        "print('Are X and Y of the same memory location? ', Y is X) ## YEP"
      ],
      "execution_count": 165,
      "outputs": [
        {
          "output_type": "stream",
          "name": "stdout",
          "text": [
            "Are X and Y of the same values?  True\n",
            "Are X and Y of the same memory location?  True\n"
          ]
        }
      ]
    },
    {
      "cell_type": "code",
      "metadata": {
        "id": "sYIZ_hcynZgU",
        "colab": {
          "base_uri": "https://localhost:8080/"
        },
        "outputId": "4fec1a12-5b05-44c6-c3e6-b87408caeab9"
      },
      "source": [
        "## But\n",
        "X = [5, 6, 7]\n",
        "Y = [5, 6, 7]\n",
        "\n",
        "print('Are X and Y of the same values? ', Y == X) ## YEP\n",
        "print('Are X and Y of the same memory location? ', Y is X) ## NOPE"
      ],
      "execution_count": 166,
      "outputs": [
        {
          "output_type": "stream",
          "name": "stdout",
          "text": [
            "Are X and Y of the same values?  True\n",
            "Are X and Y of the same memory location?  False\n"
          ]
        }
      ]
    },
    {
      "cell_type": "markdown",
      "metadata": {
        "id": "l4xwOK97nZgY"
      },
      "source": [
        "**Pay Attention** because this common pitfall in python can cause serious errors in your program.\n",
        "\n",
        "So how can i copy the values of a variable into another?\n",
        "\n",
        "Use the copy library from python:"
      ]
    },
    {
      "cell_type": "code",
      "metadata": {
        "id": "tKZ2n_scnZgZ",
        "colab": {
          "base_uri": "https://localhost:8080/"
        },
        "outputId": "2e518dba-dba3-4bdc-a2cd-9c66a65f4af5"
      },
      "source": [
        "import copy ## this means we import the code from library called 'copy' into our workspace\n",
        "X = [1, 2, 3]\n",
        "Y = copy.deepcopy(X)\n",
        "\n",
        "print('Are X and Y of the same values? ', Y == X) ## YEP\n",
        "print('Are X and Y of the same memory location? ', Y is X) ## NOPE"
      ],
      "execution_count": 167,
      "outputs": [
        {
          "output_type": "stream",
          "name": "stdout",
          "text": [
            "Are X and Y of the same values?  True\n",
            "Are X and Y of the same memory location?  False\n"
          ]
        }
      ]
    },
    {
      "cell_type": "markdown",
      "metadata": {
        "id": "Kd7ecv20nZgc"
      },
      "source": [
        "### Special Operator '+' and '+=' on Lists and Tuples\n",
        "It concatenates the containers values."
      ]
    },
    {
      "cell_type": "code",
      "metadata": {
        "id": "YCoPFJImnZgd",
        "colab": {
          "base_uri": "https://localhost:8080/"
        },
        "outputId": "9e629787-1b68-4bff-df61-16a6b2e5055e"
      },
      "source": [
        "### concatenate two lists:\n",
        "list1 = [1, 2, 3]\n",
        "list2 = [4, 5, 6]\n",
        "\n",
        "concatenated_list = list1 + list2\n",
        "print(concatenated_list)\n",
        "\n",
        "## we self-append list 2 tp list 1\n",
        "list1 += list2\n",
        "print(list1)"
      ],
      "execution_count": 168,
      "outputs": [
        {
          "output_type": "stream",
          "name": "stdout",
          "text": [
            "[1, 2, 3, 4, 5, 6]\n",
            "[1, 2, 3, 4, 5, 6]\n"
          ]
        }
      ]
    },
    {
      "cell_type": "code",
      "metadata": {
        "id": "orYp_LBJnZgg",
        "colab": {
          "base_uri": "https://localhost:8080/"
        },
        "outputId": "e20a9539-2efe-47e8-eeb0-e4123d9c4bd8"
      },
      "source": [
        "### concatenate two tuples:\n",
        "tuple1 = (1, 2, 3)\n",
        "tuple2 = (4, 5, 6)\n",
        "\n",
        "concatenated_tuples = tuple1 + tuple2\n",
        "print(concatenated_tuples)\n",
        "\n",
        "## we self-append tuple 2 to tuple 1\n",
        "tuple1 += tuple2\n",
        "print(tuple1)"
      ],
      "execution_count": 169,
      "outputs": [
        {
          "output_type": "stream",
          "name": "stdout",
          "text": [
            "(1, 2, 3, 4, 5, 6)\n",
            "(1, 2, 3, 4, 5, 6)\n"
          ]
        }
      ]
    },
    {
      "cell_type": "markdown",
      "metadata": {
        "id": "nuHYQMSPnZgj"
      },
      "source": [
        "---------------------"
      ]
    },
    {
      "cell_type": "markdown",
      "metadata": {
        "id": "ZeTz_kKunZgk"
      },
      "source": [
        "## Flow Control Statemets\n",
        "\n",
        "Flow control statements are the statements that control flow of the code execution. In python, there are 3 types of these statements: If-else statemets, For-Loops and While Loops.\n",
        "\n",
        "Notice: in python, there is no curly parentheses {} to define block scope of the statements, only indentations (tabs) that define these. Be aware of the indentations you make!\n",
        "\n",
        "### If-Statement\n",
        "\n",
        "the if statement block is executed when the condition specified evaluates to True. There are three types of if-statements:\n",
        "* single if\n",
        "* if-else statement\n",
        "* multiple if statements\n",
        "\n",
        "#### Single if:"
      ]
    },
    {
      "cell_type": "code",
      "metadata": {
        "id": "DMr8wM2VnZgk",
        "colab": {
          "base_uri": "https://localhost:8080/"
        },
        "outputId": "1a0604a6-0dd6-499d-d23c-f2a884dff966"
      },
      "source": [
        "age = 23\n",
        "if age > 18: ## NOTICE: the condition ends with a colon, and does not need round brackets around it ()\n",
        "    print('WOW, You are a grown up!') ### this block will be executed only if the age is above 18"
      ],
      "execution_count": 170,
      "outputs": [
        {
          "output_type": "stream",
          "name": "stdout",
          "text": [
            "WOW, You are a grown up!\n"
          ]
        }
      ]
    },
    {
      "cell_type": "markdown",
      "metadata": {
        "id": "LLTj-S5VnZgo"
      },
      "source": [
        "#### If-Else statement"
      ]
    },
    {
      "cell_type": "code",
      "metadata": {
        "id": "GXHG2F31nZgp",
        "colab": {
          "base_uri": "https://localhost:8080/"
        },
        "outputId": "b627d091-a98a-410f-d96b-433251736be9"
      },
      "source": [
        "age = 16\n",
        "if age > 18:\n",
        "    print('WOW, You are a grown up!') ### this block will be executed only if the age is above 18\n",
        "else:\n",
        "    print('Oh! You are young to be with us!') ### this block will be executed only if the age is not above 18"
      ],
      "execution_count": 171,
      "outputs": [
        {
          "output_type": "stream",
          "name": "stdout",
          "text": [
            "Oh! You are young to be with us!\n"
          ]
        }
      ]
    },
    {
      "cell_type": "markdown",
      "metadata": {
        "id": "O2h_OPb4nZgs"
      },
      "source": [
        "#### Multiple If statement"
      ]
    },
    {
      "cell_type": "code",
      "metadata": {
        "id": "w9YSTxScnZgs",
        "colab": {
          "base_uri": "https://localhost:8080/"
        },
        "outputId": "ad45af0d-b787-4bee-ddef-7795f8544bff"
      },
      "source": [
        "age = 5\n",
        "if age > 18:\n",
        "    print('WOW, You are a grown up!') ### this block will be executed only if the age is above 18\n",
        "elif age > 16:\n",
        "    print('Oh! You are young to be with us!') ### this block will be executed only if the age is less than 18 and above 16\n",
        "else:\n",
        "    print('Ooopss! You are too young to be here!') ### this block will be executed only if all the above conditions dont work"
      ],
      "execution_count": 172,
      "outputs": [
        {
          "output_type": "stream",
          "name": "stdout",
          "text": [
            "Ooopss! You are too young to be here!\n"
          ]
        }
      ]
    },
    {
      "cell_type": "code",
      "metadata": {
        "id": "UPEy15qbnZgv",
        "colab": {
          "base_uri": "https://localhost:8080/"
        },
        "outputId": "0b0e20fb-65ff-4939-ab0f-b61e3442c7b7"
      },
      "source": [
        "### nested if statements:\n",
        "age = 19\n",
        "if age > 18:\n",
        "    print('Ok! you are old')\n",
        "\n",
        "    if age < 20:\n",
        "        print('LoL! but not old enough')\n",
        "    else:\n",
        "        print('You are good to go')\n",
        "\n",
        "else:\n",
        "    print('Thee shall not pass')"
      ],
      "execution_count": 173,
      "outputs": [
        {
          "output_type": "stream",
          "name": "stdout",
          "text": [
            "Ok! you are old\n",
            "LoL! but not old enough\n"
          ]
        }
      ]
    },
    {
      "cell_type": "markdown",
      "metadata": {
        "id": "efwCcPXWnZgy"
      },
      "source": [
        "### For Loop\n",
        "for loops in python can be used in multiple ways:\n",
        "\n",
        "#### Loop for a range of values\n",
        "we use the function range(start value, end value, increment step) **REMEMBER** the end value is not included in the range, and the start value default is zero"
      ]
    },
    {
      "cell_type": "code",
      "metadata": {
        "id": "6vsayoGmnZgy",
        "colab": {
          "base_uri": "https://localhost:8080/"
        },
        "outputId": "ed3639d6-9429-4b12-dc0a-149d526a9de6"
      },
      "source": [
        "## loop for 5 times:\n",
        "for index in range(0,5,1):\n",
        "    print(index)"
      ],
      "execution_count": 174,
      "outputs": [
        {
          "output_type": "stream",
          "name": "stdout",
          "text": [
            "0\n",
            "1\n",
            "2\n",
            "3\n",
            "4\n"
          ]
        }
      ]
    },
    {
      "cell_type": "code",
      "metadata": {
        "id": "WXftbzownZg2",
        "colab": {
          "base_uri": "https://localhost:8080/"
        },
        "outputId": "16b57dfa-3879-4289-c0e6-7263b517ed66"
      },
      "source": [
        "## loop for 5 times with step = 2\n",
        "for even_indeces in range(0,10,2):\n",
        "    print(even_indeces)"
      ],
      "execution_count": 175,
      "outputs": [
        {
          "output_type": "stream",
          "name": "stdout",
          "text": [
            "0\n",
            "2\n",
            "4\n",
            "6\n",
            "8\n"
          ]
        }
      ]
    },
    {
      "cell_type": "code",
      "metadata": {
        "id": "0ICQyL-CnZg7",
        "colab": {
          "base_uri": "https://localhost:8080/"
        },
        "outputId": "7a9d01cf-c9b4-46b6-d2db-cb3507be9cf5"
      },
      "source": [
        "## loop from 4 to 10:\n",
        "for index in range(4,11): ## notice: the last index is 10 not 11\n",
        "    print(index)"
      ],
      "execution_count": 176,
      "outputs": [
        {
          "output_type": "stream",
          "name": "stdout",
          "text": [
            "4\n",
            "5\n",
            "6\n",
            "7\n",
            "8\n",
            "9\n",
            "10\n"
          ]
        }
      ]
    },
    {
      "cell_type": "code",
      "metadata": {
        "id": "Ptn9voK0nZg9",
        "colab": {
          "base_uri": "https://localhost:8080/"
        },
        "outputId": "3af01f9f-fe2b-4e3b-a8a7-b8895f4be24e"
      },
      "source": [
        "## loop over elements in list: (similarly over tuples, sets and KEYS of dictionaries)\n",
        "Cars = ['Mercedes', 'BMW', 'Fiat', 'Porsche', 'Ford']\n",
        "for car in Cars:\n",
        "    print('I Love ', car)"
      ],
      "execution_count": 177,
      "outputs": [
        {
          "output_type": "stream",
          "name": "stdout",
          "text": [
            "I Love  Mercedes\n",
            "I Love  BMW\n",
            "I Love  Fiat\n",
            "I Love  Porsche\n",
            "I Love  Ford\n"
          ]
        }
      ]
    },
    {
      "cell_type": "markdown",
      "metadata": {
        "id": "Dc0V0zc6nZhD"
      },
      "source": [
        "### While Loops\n",
        "Like other languages, while loops continue iterating until the condition is falsifiable."
      ]
    },
    {
      "cell_type": "code",
      "metadata": {
        "id": "T2OndzGOnZhD",
        "colab": {
          "base_uri": "https://localhost:8080/"
        },
        "outputId": "dd62ffbc-1967-4f9d-9ccf-416efb5453a1"
      },
      "source": [
        "maximum_allowance = 15\n",
        "current_allowance = 10\n",
        "\n",
        "while current_allowance < maximum_allowance:\n",
        "    print('Your allowance is:', current_allowance, '$')\n",
        "    print('OK, i will increase your allowance by 1$\\n')\n",
        "    current_allowance += 1\n",
        "\n",
        "print(\"\\nYour allowance is the maximum you can have:\", current_allowance, \"$\")"
      ],
      "execution_count": 178,
      "outputs": [
        {
          "output_type": "stream",
          "name": "stdout",
          "text": [
            "Your allowance is: 10 $\n",
            "OK, i will increase your allowance by 1$\n",
            "\n",
            "Your allowance is: 11 $\n",
            "OK, i will increase your allowance by 1$\n",
            "\n",
            "Your allowance is: 12 $\n",
            "OK, i will increase your allowance by 1$\n",
            "\n",
            "Your allowance is: 13 $\n",
            "OK, i will increase your allowance by 1$\n",
            "\n",
            "Your allowance is: 14 $\n",
            "OK, i will increase your allowance by 1$\n",
            "\n",
            "\n",
            "Your allowance is the maximum you can have: 15 $\n"
          ]
        }
      ]
    },
    {
      "cell_type": "markdown",
      "metadata": {
        "id": "d73jpCt9nZhH"
      },
      "source": [
        "### List Comprehension\n",
        "Python provides a cool compact way to generate lists using the syntax:\n",
        "\n",
        "[ process `for` index `in` range ]"
      ]
    },
    {
      "cell_type": "code",
      "metadata": {
        "id": "pwOOq42rnZhH",
        "colab": {
          "base_uri": "https://localhost:8080/"
        },
        "outputId": "e383beb5-58aa-4de3-b64d-bb9bef2f4922"
      },
      "source": [
        "## make a list from 1 to 10 in one-liner\n",
        "quick_list = [i for i in range(1, 11)]\n",
        "print(quick_list)"
      ],
      "execution_count": 179,
      "outputs": [
        {
          "output_type": "stream",
          "name": "stdout",
          "text": [
            "[1, 2, 3, 4, 5, 6, 7, 8, 9, 10]\n"
          ]
        }
      ]
    },
    {
      "cell_type": "code",
      "metadata": {
        "id": "B0IyVNtinZhK",
        "colab": {
          "base_uri": "https://localhost:8080/"
        },
        "outputId": "577334a6-e20d-43b0-e1fe-063309987bfd"
      },
      "source": [
        "## make a tuple of all alphabits in one-liner\n",
        "alphabets = [chr(i) for i in range(ord('a'), ord('z')+1)]\n",
        "print(alphabets)"
      ],
      "execution_count": 180,
      "outputs": [
        {
          "output_type": "stream",
          "name": "stdout",
          "text": [
            "['a', 'b', 'c', 'd', 'e', 'f', 'g', 'h', 'i', 'j', 'k', 'l', 'm', 'n', 'o', 'p', 'q', 'r', 's', 't', 'u', 'v', 'w', 'x', 'y', 'z']\n"
          ]
        }
      ]
    },
    {
      "cell_type": "code",
      "metadata": {
        "scrolled": true,
        "id": "4jOYzdbhnZhN",
        "colab": {
          "base_uri": "https://localhost:8080/"
        },
        "outputId": "72353ca7-edad-4496-c399-d910afd8de73"
      },
      "source": [
        "## nested lists are also possible, see the example below\n",
        "nested_loop_list = [chr(i) + str(j) for i in range(ord('a'),ord('d')+1) for j in range(1, 5)]\n",
        "print(nested_loop_list)"
      ],
      "execution_count": 181,
      "outputs": [
        {
          "output_type": "stream",
          "name": "stdout",
          "text": [
            "['a1', 'a2', 'a3', 'a4', 'b1', 'b2', 'b3', 'b4', 'c1', 'c2', 'c3', 'c4', 'd1', 'd2', 'd3', 'd4']\n"
          ]
        }
      ]
    },
    {
      "cell_type": "markdown",
      "metadata": {
        "id": "mcHJu6yKnZhP"
      },
      "source": [
        "it follows the syntax:\n",
        "\n",
        "[ process of inner loop `for` outer_loop_iterator `in` outer_loop_range  `for` inner_loop_index `in` inner_loop_range ]"
      ]
    },
    {
      "cell_type": "markdown",
      "metadata": {
        "id": "kSCn4-WWnZhP"
      },
      "source": [
        "---------------------"
      ]
    },
    {
      "cell_type": "markdown",
      "metadata": {
        "id": "iRp16hxnnZhQ"
      },
      "source": [
        "## Functions\n",
        "Python allows you to create functions for code modularity and reusability. a function is defined using the 'def function_name(parameters):' signature."
      ]
    },
    {
      "cell_type": "code",
      "metadata": {
        "id": "TxqU7_I5nZhQ",
        "colab": {
          "base_uri": "https://localhost:8080/"
        },
        "outputId": "f0bef4c2-5c9d-418e-c087-2f2c2cc6b8e9"
      },
      "source": [
        "## this funtion returns the multiplication of 2 by the argument\n",
        "def multiply_by_2(value):\n",
        "\n",
        "    multiple = value * 2\n",
        "    return multiple\n",
        "\n",
        "response = multiply_by_2(2)\n",
        "print(\"2 * 2 = \", response)"
      ],
      "execution_count": 182,
      "outputs": [
        {
          "output_type": "stream",
          "name": "stdout",
          "text": [
            "2 * 2 =  4\n"
          ]
        }
      ]
    },
    {
      "cell_type": "code",
      "metadata": {
        "id": "PQRUrgY8nZhS",
        "colab": {
          "base_uri": "https://localhost:8080/"
        },
        "outputId": "0eb9f93f-5cae-498c-c9a4-040daae1dcd7"
      },
      "source": [
        "## functions need not return a value\n",
        "def print_welcome_status():\n",
        "    print(\"Hello! Nice to meet you!\")\n",
        "\n",
        "print_welcome_status()"
      ],
      "execution_count": 183,
      "outputs": [
        {
          "output_type": "stream",
          "name": "stdout",
          "text": [
            "Hello! Nice to meet you!\n"
          ]
        }
      ]
    },
    {
      "cell_type": "code",
      "metadata": {
        "id": "qHP5PGy0nZhX",
        "colab": {
          "base_uri": "https://localhost:8080/"
        },
        "outputId": "5c40dada-3606-4f92-f58a-d1f55e1a21d2"
      },
      "source": [
        "## functions can have default values for the arguments:\n",
        "def default_value_function(value=0):\n",
        "    print('The value is: ', value)\n",
        "\n",
        "# Function call with default value::\n",
        "default_value_function()\n",
        "# Function call with non-default value::\n",
        "default_value_function(4)"
      ],
      "execution_count": 184,
      "outputs": [
        {
          "output_type": "stream",
          "name": "stdout",
          "text": [
            "The value is:  0\n",
            "The value is:  4\n"
          ]
        }
      ]
    },
    {
      "cell_type": "code",
      "metadata": {
        "id": "GYff3UGPnZhZ",
        "colab": {
          "base_uri": "https://localhost:8080/"
        },
        "outputId": "ed6b78e2-cb13-4091-d79e-1a53ebc5ff6a"
      },
      "source": [
        "## if a function has too many arguments, and you don't remember the order of them, you can pass the values by naming the arguments regradless of order!\n",
        "def too_much_parameters(param1, param2, param3, param4):\n",
        "\n",
        "    print('parameter 1 is ', param1)\n",
        "    print('parameter 2 is ', param2)\n",
        "    print('parameter 3 is ', param3)\n",
        "    print('parameter 4 is ', param4)\n",
        "\n",
        "\n",
        "too_much_parameters(param2=2, param4= 4, param1=1, param3=3) ## this\n",
        "print(\"#########\")\n",
        "too_much_parameters(1,2,3,4) ## is exactly like this"
      ],
      "execution_count": 185,
      "outputs": [
        {
          "output_type": "stream",
          "name": "stdout",
          "text": [
            "parameter 1 is  1\n",
            "parameter 2 is  2\n",
            "parameter 3 is  3\n",
            "parameter 4 is  4\n",
            "#########\n",
            "parameter 1 is  1\n",
            "parameter 2 is  2\n",
            "parameter 3 is  3\n",
            "parameter 4 is  4\n"
          ]
        }
      ]
    },
    {
      "cell_type": "code",
      "metadata": {
        "id": "99Ms_dvjnZhb"
      },
      "source": [
        "## if you want to define a funtion but leave it empty (for example override a function but no implementation yet)\n",
        "## use the 'pass' keyword\n",
        "def un_implemented_function():\n",
        "    pass\n",
        "\n",
        "un_implemented_function() ## executes nothing!"
      ],
      "execution_count": 186,
      "outputs": []
    },
    {
      "cell_type": "markdown",
      "metadata": {
        "id": "gfQmtE6wnZhd"
      },
      "source": [
        "**IMPORTANT** Unlike other programming langauges, python can return multiple variables from a function"
      ]
    },
    {
      "cell_type": "code",
      "metadata": {
        "id": "y00uCo7BnZhe",
        "colab": {
          "base_uri": "https://localhost:8080/"
        },
        "outputId": "01aa470e-eb70-408e-edaa-4a5f3bbb5894"
      },
      "source": [
        "def get_sum_subtract_product_quotient(value1, value2):\n",
        "\n",
        "    addition = value1 + value2\n",
        "    subtraction = value1 - value2\n",
        "    product = value1 * value2\n",
        "    quotient = value1 / value2\n",
        "    return addition, subtraction, product, quotient\n",
        "\n",
        "\n",
        "add, sub, prod, quot = get_sum_subtract_product_quotient(5, 2)\n",
        "print('5+2=', add)\n",
        "print('5-2=', sub)\n",
        "print('5*2=', prod)\n",
        "print('5/2=', quot)"
      ],
      "execution_count": 187,
      "outputs": [
        {
          "output_type": "stream",
          "name": "stdout",
          "text": [
            "5+2= 7\n",
            "5-2= 3\n",
            "5*2= 10\n",
            "5/2= 2.5\n"
          ]
        }
      ]
    },
    {
      "cell_type": "markdown",
      "metadata": {
        "id": "u6zcL60znZhg"
      },
      "source": [
        "### Lambda Functions\n",
        "\n",
        "Lambda functions are one-line anonymous functions. They are shortcuts for defining simple functions instead of the full `def` structure."
      ]
    },
    {
      "cell_type": "code",
      "metadata": {
        "id": "dmhT-oy-nZhg",
        "colab": {
          "base_uri": "https://localhost:8080/"
        },
        "outputId": "2049d80d-d21b-40ab-e7a9-c689869d732c"
      },
      "source": [
        "square = lambda x: x**2\n",
        "\n",
        "print(square(5))"
      ],
      "execution_count": 188,
      "outputs": [
        {
          "output_type": "stream",
          "name": "stdout",
          "text": [
            "25\n"
          ]
        }
      ]
    },
    {
      "cell_type": "code",
      "metadata": {
        "id": "CY3MtyFSnZhi",
        "colab": {
          "base_uri": "https://localhost:8080/"
        },
        "outputId": "608980b1-7570-4911-a5f6-2b1155dd674a"
      },
      "source": [
        "## gets distance of coordinates (x,y) from origin (0,0)\n",
        "distance_from_origin = lambda x, y: (x**2 + y**2)**0.5\n",
        "\n",
        "print(distance_from_origin(3, 4))"
      ],
      "execution_count": 189,
      "outputs": [
        {
          "output_type": "stream",
          "name": "stdout",
          "text": [
            "5.0\n"
          ]
        }
      ]
    },
    {
      "cell_type": "markdown",
      "metadata": {
        "id": "wD6zFY0nnZhk"
      },
      "source": [
        "---------------------"
      ]
    },
    {
      "cell_type": "markdown",
      "metadata": {
        "id": "qxFWXtjwnZhk"
      },
      "source": [
        "## Exception Handling\n",
        "It is important to write non-crashing programs in any language. Of course, there is no flawless program (except in this lab, of course!), so we need to write specific code that handles exceptions that may occur.\n",
        "\n",
        "Execption handling is simple: surround the vulnerable code with a try-except block.\n",
        "\n",
        "**Good Practice** provide expressive messages when handling errors, it will reduce time and give readable clean code."
      ]
    },
    {
      "cell_type": "code",
      "metadata": {
        "id": "e3Ubs30CnZhk"
      },
      "source": [
        "def safe_divide(numerator, denominator):\n",
        "\n",
        "    quotient = None ## quotient of dividing the numerator by the denominator\n",
        "    try:\n",
        "        quotient = numerator / denominator\n",
        "    except ZeroDivisionError: ## if the denominator was zero, this exception will be thrown\n",
        "        print('Denominator cannot be zero!')\n",
        "\n",
        "    return quotient ## will return None if the exception is thrown, or the division result otherwise"
      ],
      "execution_count": 190,
      "outputs": []
    },
    {
      "cell_type": "code",
      "metadata": {
        "id": "M_RKB3WznZhm",
        "colab": {
          "base_uri": "https://localhost:8080/"
        },
        "outputId": "c234d113-5d5f-4da9-d4b4-8e169021d2bc"
      },
      "source": [
        "safe_divide(10, 2) ## runs normally"
      ],
      "execution_count": 191,
      "outputs": [
        {
          "output_type": "execute_result",
          "data": {
            "text/plain": [
              "5.0"
            ]
          },
          "metadata": {},
          "execution_count": 191
        }
      ]
    },
    {
      "cell_type": "code",
      "metadata": {
        "scrolled": true,
        "id": "GvIa_7-6nZhp",
        "colab": {
          "base_uri": "https://localhost:8080/"
        },
        "outputId": "16427dac-adf9-4827-c2f5-68d2ef71f5a8"
      },
      "source": [
        "safe_divide(10, 0) ## throws error"
      ],
      "execution_count": 192,
      "outputs": [
        {
          "output_type": "stream",
          "name": "stdout",
          "text": [
            "Denominator cannot be zero!\n"
          ]
        }
      ]
    },
    {
      "cell_type": "markdown",
      "metadata": {
        "id": "XYITKWXKnZhr"
      },
      "source": [
        "You can raise exceptions in your functions as well"
      ]
    },
    {
      "cell_type": "code",
      "metadata": {
        "id": "bM5cddF9nZhr"
      },
      "source": [
        "## this function accepts only numeric values\n",
        "def add_5(value):\n",
        "\n",
        "    if not isinstance(value, int) and not isinstance(value, float):  ## check if calue is numeric\n",
        "        raise TypeError('value must be nuemric, found: ', type(value))\n",
        "\n",
        "    ## if it is numeric\n",
        "    return value + 5"
      ],
      "execution_count": 193,
      "outputs": []
    },
    {
      "cell_type": "code",
      "metadata": {
        "id": "4Kx4C47ZnZhu",
        "colab": {
          "base_uri": "https://localhost:8080/"
        },
        "outputId": "2a821998-9e9a-4ba5-9fea-78f625d1aa90"
      },
      "source": [
        "add_5(5) ## works just fine"
      ],
      "execution_count": 194,
      "outputs": [
        {
          "output_type": "execute_result",
          "data": {
            "text/plain": [
              "10"
            ]
          },
          "metadata": {},
          "execution_count": 194
        }
      ]
    },
    {
      "cell_type": "code",
      "metadata": {
        "scrolled": true,
        "id": "Vmy2fEfEnZhw",
        "colab": {
          "base_uri": "https://localhost:8080/",
          "height": 263
        },
        "outputId": "673b4b00-408f-4a49-b7dd-50a0005f53ff"
      },
      "source": [
        "add_5(\"5\") ## this will raise exception"
      ],
      "execution_count": 195,
      "outputs": [
        {
          "output_type": "error",
          "ename": "TypeError",
          "evalue": "('value must be nuemric, found: ', <class 'str'>)",
          "traceback": [
            "\u001b[0;31m---------------------------------------------------------------------------\u001b[0m",
            "\u001b[0;31mTypeError\u001b[0m                                 Traceback (most recent call last)",
            "\u001b[0;32m<ipython-input-195-8f26ebe30461>\u001b[0m in \u001b[0;36m<cell line: 1>\u001b[0;34m()\u001b[0m\n\u001b[0;32m----> 1\u001b[0;31m \u001b[0madd_5\u001b[0m\u001b[0;34m(\u001b[0m\u001b[0;34m\"5\"\u001b[0m\u001b[0;34m)\u001b[0m \u001b[0;31m## this will raise exception\u001b[0m\u001b[0;34m\u001b[0m\u001b[0;34m\u001b[0m\u001b[0m\n\u001b[0m",
            "\u001b[0;32m<ipython-input-193-ac6b04b3cad4>\u001b[0m in \u001b[0;36madd_5\u001b[0;34m(value)\u001b[0m\n\u001b[1;32m      3\u001b[0m \u001b[0;34m\u001b[0m\u001b[0m\n\u001b[1;32m      4\u001b[0m     \u001b[0;32mif\u001b[0m \u001b[0;32mnot\u001b[0m \u001b[0misinstance\u001b[0m\u001b[0;34m(\u001b[0m\u001b[0mvalue\u001b[0m\u001b[0;34m,\u001b[0m \u001b[0mint\u001b[0m\u001b[0;34m)\u001b[0m \u001b[0;32mand\u001b[0m \u001b[0;32mnot\u001b[0m \u001b[0misinstance\u001b[0m\u001b[0;34m(\u001b[0m\u001b[0mvalue\u001b[0m\u001b[0;34m,\u001b[0m \u001b[0mfloat\u001b[0m\u001b[0;34m)\u001b[0m\u001b[0;34m:\u001b[0m  \u001b[0;31m## check if calue is numeric\u001b[0m\u001b[0;34m\u001b[0m\u001b[0;34m\u001b[0m\u001b[0m\n\u001b[0;32m----> 5\u001b[0;31m         \u001b[0;32mraise\u001b[0m \u001b[0mTypeError\u001b[0m\u001b[0;34m(\u001b[0m\u001b[0;34m'value must be nuemric, found: '\u001b[0m\u001b[0;34m,\u001b[0m \u001b[0mtype\u001b[0m\u001b[0;34m(\u001b[0m\u001b[0mvalue\u001b[0m\u001b[0;34m)\u001b[0m\u001b[0;34m)\u001b[0m\u001b[0;34m\u001b[0m\u001b[0;34m\u001b[0m\u001b[0m\n\u001b[0m\u001b[1;32m      6\u001b[0m \u001b[0;34m\u001b[0m\u001b[0m\n\u001b[1;32m      7\u001b[0m     \u001b[0;31m## if it is numeric\u001b[0m\u001b[0;34m\u001b[0m\u001b[0;34m\u001b[0m\u001b[0m\n",
            "\u001b[0;31mTypeError\u001b[0m: ('value must be nuemric, found: ', <class 'str'>)"
          ]
        }
      ]
    },
    {
      "cell_type": "markdown",
      "metadata": {
        "id": "WLN3gnOGnZhy"
      },
      "source": [
        ""
      ]
    },
    {
      "cell_type": "markdown",
      "metadata": {
        "id": "q1JAmo0_nZhy"
      },
      "source": [
        "**GOOD PRACTICE** it is better to specify the type of exception in the 'except' block of course, but you can have a generic except block to catch any type of exceptions"
      ]
    },
    {
      "cell_type": "code",
      "metadata": {
        "id": "PC5twl_inZhy"
      },
      "source": [
        "def generic_excpetion_function():\n",
        "\n",
        "    try:\n",
        "        print('doing something nasty...')\n",
        "        raise 'Some Exception'\n",
        "    except: ## generic exception handling: catches any exception\n",
        "        print('caught generic exception')\n"
      ],
      "execution_count": 196,
      "outputs": []
    },
    {
      "cell_type": "code",
      "metadata": {
        "id": "jJCCpfI3nZh1",
        "colab": {
          "base_uri": "https://localhost:8080/"
        },
        "outputId": "70c7d468-cff7-4b88-9a8d-d46554b9b080"
      },
      "source": [
        "generic_excpetion_function()"
      ],
      "execution_count": 197,
      "outputs": [
        {
          "output_type": "stream",
          "name": "stdout",
          "text": [
            "doing something nasty...\n",
            "caught generic exception\n"
          ]
        }
      ]
    },
    {
      "cell_type": "markdown",
      "metadata": {
        "id": "LrtAcad3nZh2"
      },
      "source": [
        "---------------------"
      ]
    },
    {
      "cell_type": "markdown",
      "metadata": {
        "id": "Q87Kv35HnZh3"
      },
      "source": [
        "\n",
        "\n",
        "\n",
        "\n",
        "\n",
        "## Object Oriented Programming in Python\n",
        "Pythons allows you to create user-defined classes with all OOP concepts: polymorphism, inheritance...etc.\n",
        "\n",
        "In this section we will see how to use OOP in Python.\n",
        "\n",
        "Although Python does not require binding functions and variables to specific classes to work, we usually need them for clean code and modularity.\n",
        "\n",
        "### Classes:\n",
        "To define a class, we use the 'def ClassName:' signature.\n",
        "\n",
        "Classes have two types of attributes:\n",
        "* Class Attributes: Static variables that are shared by all objects of the class type, and can be accessed using the class name itself.\n",
        "\n",
        "* Instance Attributes: Variables that differ in value from a class instance to another.\n",
        "\n",
        "Classes have two types of methods:\n",
        "* Class Methods should be annotated by the '@staticmethod' before method definition, it can be used by the Class name itself\n",
        "\n",
        "* Instance Methods are associated by each instance, it **must** include the parameter 'self' at the beginning of the parameters list.\n",
        "\n",
        "in order to make an instance attribute or instance method private, their names should start by two underscores '__methodName'"
      ]
    },
    {
      "cell_type": "code",
      "metadata": {
        "id": "BV8XcQMmnZh3"
      },
      "source": [
        "class PersonClass:\n",
        "\n",
        "    ## in the class scope, we define the class variables and methods\n",
        "\n",
        "    ## Class Attributes:\n",
        "\n",
        "    ## class Attributes defined here are always PUBLIC and STATIC\n",
        "    nationality = 'American'\n",
        "\n",
        "    ## class constructor\n",
        "    def __init__(self, firstName, lastName):\n",
        "        print('Person Constructor is Called')\n",
        "        ## instance variable defiend here are public and differ from instance to another\n",
        "        self.firstName = firstName\n",
        "        self.lastName = lastName\n",
        "\n",
        "        ## salary is a private instance variable\n",
        "        self._salary = 5000\n",
        "\n",
        "\n",
        "    ## class static method:\n",
        "    @staticmethod\n",
        "    def capitalized_nationality():\n",
        "        return PersonClass.nationality.upper()\n",
        "\n",
        "    ## instance methods:\n",
        "    def get_full_name(self):\n",
        "        return f'{self.firstName} {self.lastName}'\n",
        "\n",
        "    def __private_function(self):\n",
        "        return 'Some text'\n",
        ""
      ],
      "execution_count": 198,
      "outputs": []
    },
    {
      "cell_type": "markdown",
      "metadata": {
        "id": "9cQUn8FvnZh5"
      },
      "source": [
        "**Notice** the class attributes that are defined outside the constructor are static: they are shared by all objects of the class, and can be accessed throw the class name. For example:"
      ]
    },
    {
      "cell_type": "code",
      "metadata": {
        "id": "86WfY1uInZh5",
        "colab": {
          "base_uri": "https://localhost:8080/",
          "height": 35
        },
        "outputId": "6ebe458d-8384-44a2-bae5-36824411a81f"
      },
      "source": [
        "PersonClass.nationality ## static variable call"
      ],
      "execution_count": 199,
      "outputs": [
        {
          "output_type": "execute_result",
          "data": {
            "text/plain": [
              "'American'"
            ],
            "application/vnd.google.colaboratory.intrinsic+json": {
              "type": "string"
            }
          },
          "metadata": {},
          "execution_count": 199
        }
      ]
    },
    {
      "cell_type": "code",
      "metadata": {
        "id": "XhIybWFVnZh8",
        "colab": {
          "base_uri": "https://localhost:8080/",
          "height": 35
        },
        "outputId": "4df63688-9018-4746-95ab-e0e3b69aa568"
      },
      "source": [
        "PersonClass.capitalized_nationality()"
      ],
      "execution_count": 200,
      "outputs": [
        {
          "output_type": "execute_result",
          "data": {
            "text/plain": [
              "'AMERICAN'"
            ],
            "application/vnd.google.colaboratory.intrinsic+json": {
              "type": "string"
            }
          },
          "metadata": {},
          "execution_count": 200
        }
      ]
    },
    {
      "cell_type": "code",
      "metadata": {
        "id": "HcAODxxdnZiA",
        "colab": {
          "base_uri": "https://localhost:8080/"
        },
        "outputId": "ef844f04-65fb-42cd-86c1-752709dfb84c"
      },
      "source": [
        "personInstance = PersonClass('Micheal', 'Jordan')\n",
        "anotherPerson = PersonClass('Larry', 'Bird')\n",
        "\n",
        "print(personInstance.firstName) ## this is an instance variable\n",
        "print(anotherPerson.get_full_name()) ## this is an instance method"
      ],
      "execution_count": 201,
      "outputs": [
        {
          "output_type": "stream",
          "name": "stdout",
          "text": [
            "Person Constructor is Called\n",
            "Person Constructor is Called\n",
            "Micheal\n",
            "Larry Bird\n"
          ]
        }
      ]
    },
    {
      "cell_type": "code",
      "metadata": {
        "id": "LvGr4WG5nZiC",
        "colab": {
          "base_uri": "https://localhost:8080/",
          "height": 141
        },
        "outputId": "b4c33637-3d25-4fb4-dd83-2468f712abf6"
      },
      "source": [
        "print(personInstance.__private_function()) ## this cannot be accessed"
      ],
      "execution_count": 202,
      "outputs": [
        {
          "output_type": "error",
          "ename": "AttributeError",
          "evalue": "'PersonClass' object has no attribute '__private_function'",
          "traceback": [
            "\u001b[0;31m---------------------------------------------------------------------------\u001b[0m",
            "\u001b[0;31mAttributeError\u001b[0m                            Traceback (most recent call last)",
            "\u001b[0;32m<ipython-input-202-5096997b45c5>\u001b[0m in \u001b[0;36m<cell line: 1>\u001b[0;34m()\u001b[0m\n\u001b[0;32m----> 1\u001b[0;31m \u001b[0mprint\u001b[0m\u001b[0;34m(\u001b[0m\u001b[0mpersonInstance\u001b[0m\u001b[0;34m.\u001b[0m\u001b[0m__private_function\u001b[0m\u001b[0;34m(\u001b[0m\u001b[0;34m)\u001b[0m\u001b[0;34m)\u001b[0m \u001b[0;31m## this cannot be accessed\u001b[0m\u001b[0;34m\u001b[0m\u001b[0;34m\u001b[0m\u001b[0m\n\u001b[0m",
            "\u001b[0;31mAttributeError\u001b[0m: 'PersonClass' object has no attribute '__private_function'"
          ]
        }
      ]
    },
    {
      "cell_type": "code",
      "metadata": {
        "id": "ASP3rkAxnZiD",
        "colab": {
          "base_uri": "https://localhost:8080/"
        },
        "outputId": "e7a8f596-e17d-4e38-e848-a00287af47f1"
      },
      "source": [
        "print(anotherPerson.capitalized_nationality()) ## access class method from instance object"
      ],
      "execution_count": 203,
      "outputs": [
        {
          "output_type": "stream",
          "name": "stdout",
          "text": [
            "AMERICAN\n"
          ]
        }
      ]
    },
    {
      "cell_type": "markdown",
      "metadata": {
        "id": "_XB5e7zinZiF"
      },
      "source": [
        "### Inheritance and Polymorphic Behavior\n",
        "\n",
        "A class can inherit from another class. In effect, that gives the *child* class all the functionality of the *parent* class.\n",
        "\n",
        "Polymorphism means that the *Child* class can *override* some of these functionalities if needed."
      ]
    },
    {
      "cell_type": "code",
      "metadata": {
        "id": "zUrEBmMwnZiF"
      },
      "source": [
        "class WomanClass(PersonClass):\n",
        "\n",
        "\n",
        "    def __init__(self, firstName, lastName):\n",
        "\n",
        "        ## since base class has no default constructor, we must call it\n",
        "        PersonClass.__init__(self, firstName, lastName)\n",
        "\n",
        "    ## special method to this class\n",
        "    def my_gender(self):\n",
        "            print(\"I am a female\")\n",
        "\n",
        "    ## override the get_full_name from the base class\n",
        "    def get_full_name(self):\n",
        "        return f\"Mizz. {self.firstName} {self.lastName}\"\n",
        "\n",
        "\n",
        "    ## private method since women NEVER reveal their age o.O\n",
        "    def __get_age():\n",
        "        pass"
      ],
      "execution_count": 204,
      "outputs": []
    },
    {
      "cell_type": "code",
      "metadata": {
        "id": "FJtgu2u5nZiH",
        "colab": {
          "base_uri": "https://localhost:8080/"
        },
        "outputId": "64e94b5f-3710-4d86-b4f1-ec55ed0e1c11"
      },
      "source": [
        "womanInstance = WomanClass('Scarlett', 'Johansson')\n",
        "\n",
        "print(womanInstance.get_full_name()) ## call overridden function\n",
        "print(womanInstance.capitalized_nationality()) ## call function from base class\n",
        "womanInstance.my_gender() ## call derived class function"
      ],
      "execution_count": 205,
      "outputs": [
        {
          "output_type": "stream",
          "name": "stdout",
          "text": [
            "Person Constructor is Called\n",
            "Mizz. Scarlett Johansson\n",
            "AMERICAN\n",
            "I am a female\n"
          ]
        }
      ]
    },
    {
      "cell_type": "markdown",
      "metadata": {
        "id": "E1QahXoInZiJ"
      },
      "source": [
        "---------------------"
      ]
    },
    {
      "cell_type": "markdown",
      "metadata": {
        "id": "1YLyr6-7nZiJ"
      },
      "source": [
        "## File IO\n",
        "\n",
        "Dealing with files is very important in Python, yet very simple.\n",
        "\n",
        "The `open` function is used to deal with files. It takes the *file path* as its first argument and the *mode* as its second. The file path can be relative or absolute. The mode is a string of flag characters that controls how the file will be used, for example, `'w'` for writing, `'r'` for reading, `'a'` for appending, etc., and it defaults to `'r'`."
      ]
    },
    {
      "cell_type": "code",
      "metadata": {
        "id": "pCQOTioYnZiK",
        "colab": {
          "base_uri": "https://localhost:8080/"
        },
        "outputId": "4378fa97-c104-466b-abd2-855c7debeb34"
      },
      "source": [
        "file = open('myfile.txt', 'w')  # opening a file in the same working directory named myfile.txt\n",
        "print(file)"
      ],
      "execution_count": 206,
      "outputs": [
        {
          "output_type": "stream",
          "name": "stdout",
          "text": [
            "<_io.TextIOWrapper name='myfile.txt' mode='w' encoding='UTF-8'>\n"
          ]
        }
      ]
    },
    {
      "cell_type": "markdown",
      "metadata": {
        "id": "ZLFWIM1JnZiL"
      },
      "source": [
        "We can write anything in the file"
      ]
    },
    {
      "cell_type": "code",
      "metadata": {
        "id": "B4E-GwX4nZiL"
      },
      "source": [
        "file.write(\"Hello!\\nI am writing this file using Python!\")\n",
        "file.close()"
      ],
      "execution_count": 207,
      "outputs": []
    },
    {
      "cell_type": "markdown",
      "metadata": {
        "id": "NUHcY_sKnZiN"
      },
      "source": [
        "We then can read the file contents again using the readLines() function to read the file lines at once."
      ]
    },
    {
      "cell_type": "code",
      "metadata": {
        "id": "A8xDtY4tnZiN",
        "colab": {
          "base_uri": "https://localhost:8080/"
        },
        "outputId": "155dfb5a-1e6f-4b43-c359-6a325c159545"
      },
      "source": [
        "fileReader = open('myfile.txt', 'r') # open file in reading mode\n",
        "\n",
        "## loop over the file lines:\n",
        "\n",
        "for line in fileReader.readlines():\n",
        "    print(line)\n",
        "\n",
        "\n",
        "## donot forget to close the file handler\n",
        "fileReader.close()"
      ],
      "execution_count": 208,
      "outputs": [
        {
          "output_type": "stream",
          "name": "stdout",
          "text": [
            "Hello!\n",
            "\n",
            "I am writing this file using Python!\n"
          ]
        }
      ]
    },
    {
      "cell_type": "markdown",
      "metadata": {
        "id": "eTSMPxg6nZiP"
      },
      "source": [
        "**GOOD PRACTICE** to always use `open` in `with` statements to automatically release the file!"
      ]
    },
    {
      "cell_type": "code",
      "metadata": {
        "scrolled": true,
        "id": "usgPUKionZiP",
        "colab": {
          "base_uri": "https://localhost:8080/"
        },
        "outputId": "d72404d2-48f4-4774-9915-4781589290ca"
      },
      "source": [
        "with open('myfile.txt', 'r') as fileReader:\n",
        "    for line in fileReader:\n",
        "        print(line.rstrip())\n",
        "fileReader.close()"
      ],
      "execution_count": 209,
      "outputs": [
        {
          "output_type": "stream",
          "name": "stdout",
          "text": [
            "Hello!\n",
            "I am writing this file using Python!\n"
          ]
        }
      ]
    },
    {
      "cell_type": "markdown",
      "metadata": {
        "id": "6ThvxRQ0nZiR"
      },
      "source": [
        "---------------------"
      ]
    },
    {
      "cell_type": "markdown",
      "metadata": {
        "id": "oFa5kQg-nZiR"
      },
      "source": [
        "# REAL Python Starts Here\n",
        "Until now, all we discussed was the syntax of crude Python operations. It is important to know it and not fall in Syntax errors, but crude Python is slower than most porgramming languages. That is why libraries like NumPy, Pandas, and Matplot-Lib not only allow you to use ready made functionalities, they are **MUCH** faster than normal Python operations.\n",
        "\n",
        "(BONUS: only **ONE** operation in python is faster than NumPy, find it and send the answer `With Proof` to me in private).\n",
        "\n",
        "**NOTICE** in upcoming labs, you will be evaluated on performance, so make sure\n",
        "you understand these libraries very well."
      ]
    },
    {
      "cell_type": "markdown",
      "metadata": {
        "id": "BLjDDqEgnZiS"
      },
      "source": [
        "# NUMPY\n",
        "The first important library you **MUST** use whenever it comes to matrix/vector operations.\n",
        "\n",
        "Numpy is a general purpose **Array** processing package. It provides high-performance multidimensional array objects, with operations over them, that make them very computationally efficient.\n",
        "\n",
        "Think of NumPy as a special kind of ARRAYS called `ndarrays`, where these arrays are very fast, dynamic in length, and have their associated operations like matrix multiplication, summation of elements, getting maximum element, and many other array operations that are efficient.\n",
        "\n",
        "**HOW** does NumPy achieve efficient operations?\n",
        "\n",
        "For a starter, NumPy is written and compiled in C not python (that's why it is much faster than Python).\n",
        "\n",
        "But more importantly, NumPy allows for **Parallelization** (and this HIGHLY depends on the code you write)."
      ]
    },
    {
      "cell_type": "markdown",
      "metadata": {
        "id": "Q0oEeAUDnZiS"
      },
      "source": [
        "## How to use numpy\n",
        "First you need to have the package installed on your python package manager (ANACONDA) using the command `conda install numpy`.\n",
        "\n",
        "Then you import the package modules to your work script using:\n",
        "\n",
        "`import numpy as np`\n",
        "\n",
        "**GOOD PRACTICE** the `as np` in the last command is not mandatory, it is called an alias (or nickname) for the package so you can use `np` instead of `numpy`. A common practice is to use `np` to refer to `numpy`, and we will use `pd` for pandas and `plt` for `matplotlib` as you will see later in the file"
      ]
    },
    {
      "cell_type": "code",
      "metadata": {
        "id": "J2Wqyu4cnZiS"
      },
      "source": [
        "## import numpy to the file\n",
        "import numpy as np"
      ],
      "execution_count": 210,
      "outputs": []
    },
    {
      "cell_type": "markdown",
      "metadata": {
        "id": "qwdEyzZynZiV"
      },
      "source": [
        "## Arrays in NumPy\n",
        "Arrays in NumPy are like Matrices. 1D arrays are called `vectors`, and nD arrays are high dimentional matrices, for example 2D.\n",
        "\n",
        "\n",
        "**VERY IMPORTANT** For 2D matrices, the shape is (`row ,column`), and vectors in the matrices in NumPy are **Horizontal** not vertical like we learn in linear algebra.\n",
        "\n",
        "There are multiple easy ways to create array objects from numpy.\n",
        "\n",
        "### 1. Create arrays from Lists values"
      ]
    },
    {
      "cell_type": "code",
      "metadata": {
        "id": "w_VxWF3-nZiV",
        "colab": {
          "base_uri": "https://localhost:8080/"
        },
        "outputId": "a770480d-ca3e-44e6-a67a-6055d8271eff"
      },
      "source": [
        "## create array from values\n",
        "np_arr = np.array([1, 2, 3, 4]) ##\n",
        "\n",
        "## print it:\n",
        "print(np_arr, \"is of type\", type(np_arr))\n",
        "\n",
        "## use array_name.shape to get array shape\n",
        "print(\"Its shape is\", np_arr.shape)\n",
        "\n",
        "## use array_name.dtyoe to get type of array elements\n",
        "print(\"Its data type\", np_arr.dtype)"
      ],
      "execution_count": 211,
      "outputs": [
        {
          "output_type": "stream",
          "name": "stdout",
          "text": [
            "[1 2 3 4] is of type <class 'numpy.ndarray'>\n",
            "Its shape is (4,)\n",
            "Its data type int64\n"
          ]
        }
      ]
    },
    {
      "cell_type": "markdown",
      "metadata": {
        "id": "B4ZIWw_wnZiX"
      },
      "source": [
        "**IMPORTANT** Unlike lists in Python, NumPy arrays should have the same data type fro **ALL** its elements"
      ]
    },
    {
      "cell_type": "code",
      "metadata": {
        "scrolled": true,
        "id": "cUnSaj06nZiX",
        "colab": {
          "base_uri": "https://localhost:8080/"
        },
        "outputId": "e3d72b00-389a-4ea1-b40f-319a23a2954b"
      },
      "source": [
        "## create 2D array\n",
        "two_dim_array = np.array([ [1, 2, 3], [4, 5, 6], [7, 8, 9]]) ## each of the [1, 2, 3] [4, 5, 6] and [7, 8, 9] is a VECTOR\n",
        "\n",
        "## print it\n",
        "print(two_dim_array)   ## observe how the vectors above are Horizontal not vertical\n",
        "\n",
        "## get its shape\n",
        "print(\"Its shape is\", two_dim_array.shape)\n",
        "\n",
        "## get its data type\n",
        "print(\"Its data type\", two_dim_array.dtype)"
      ],
      "execution_count": 212,
      "outputs": [
        {
          "output_type": "stream",
          "name": "stdout",
          "text": [
            "[[1 2 3]\n",
            " [4 5 6]\n",
            " [7 8 9]]\n",
            "Its shape is (3, 3)\n",
            "Its data type int64\n"
          ]
        }
      ]
    },
    {
      "cell_type": "markdown",
      "metadata": {
        "id": "s5kaVW6gnZia"
      },
      "source": [
        "### 2. Create Common types of arrays"
      ]
    },
    {
      "cell_type": "code",
      "metadata": {
        "id": "UaHFNnbBnZia",
        "colab": {
          "base_uri": "https://localhost:8080/"
        },
        "outputId": "c87a3686-b3be-4a9b-81aa-414b6a68e5ba"
      },
      "source": [
        "## create an empty array of size 3*2\n",
        "arr = np.empty((3,2))\n",
        "print(arr) ## non initialized array"
      ],
      "execution_count": 213,
      "outputs": [
        {
          "output_type": "stream",
          "name": "stdout",
          "text": [
            "[[0.0e+000 4.9e-324]\n",
            " [1.5e-323 3.0e-323]\n",
            " [4.0e-323 4.4e-323]]\n"
          ]
        }
      ]
    },
    {
      "cell_type": "code",
      "metadata": {
        "id": "NcOeNT5inZic",
        "colab": {
          "base_uri": "https://localhost:8080/"
        },
        "outputId": "c6727eeb-9403-41e5-8b41-d390fba211c5"
      },
      "source": [
        "## create identity matrix of size 5*5\n",
        "#### (Remember, identity matrix has 1s on diagonals and 0s otherwise, and it is always a square matrix)\n",
        "identity = np.eye(5)\n",
        "\n",
        "print(identity)"
      ],
      "execution_count": 214,
      "outputs": [
        {
          "output_type": "stream",
          "name": "stdout",
          "text": [
            "[[1. 0. 0. 0. 0.]\n",
            " [0. 1. 0. 0. 0.]\n",
            " [0. 0. 1. 0. 0.]\n",
            " [0. 0. 0. 1. 0.]\n",
            " [0. 0. 0. 0. 1.]]\n"
          ]
        }
      ]
    },
    {
      "cell_type": "code",
      "metadata": {
        "id": "-Kaxh3n0nZif",
        "colab": {
          "base_uri": "https://localhost:8080/"
        },
        "outputId": "14af52b2-0d82-4c1a-f48f-5097210be852"
      },
      "source": [
        "## create array full of 1s  of size 3*4\n",
        "all_ones = np.ones((3, 4))\n",
        "print(all_ones)"
      ],
      "execution_count": 215,
      "outputs": [
        {
          "output_type": "stream",
          "name": "stdout",
          "text": [
            "[[1. 1. 1. 1.]\n",
            " [1. 1. 1. 1.]\n",
            " [1. 1. 1. 1.]]\n"
          ]
        }
      ]
    },
    {
      "cell_type": "code",
      "metadata": {
        "id": "lyzeKTgbnZih",
        "colab": {
          "base_uri": "https://localhost:8080/"
        },
        "outputId": "bdb9e678-9c67-496e-f60b-c5db9387db9c"
      },
      "source": [
        "## create array full of zeros of size 2*2\n",
        "all_zeros = np.zeros((2,2))\n",
        "print(all_zeros)"
      ],
      "execution_count": 216,
      "outputs": [
        {
          "output_type": "stream",
          "name": "stdout",
          "text": [
            "[[0. 0.]\n",
            " [0. 0.]]\n"
          ]
        }
      ]
    },
    {
      "cell_type": "code",
      "metadata": {
        "id": "0ef44Ww2nZij",
        "colab": {
          "base_uri": "https://localhost:8080/"
        },
        "outputId": "b3824423-d205-418d-e4f4-e6260ccbb73a"
      },
      "source": [
        "## create array full of specified value (here character 'a') of size 3*2\n",
        "all_a = np.full((3,2), 'a')\n",
        "print(all_a)"
      ],
      "execution_count": 217,
      "outputs": [
        {
          "output_type": "stream",
          "name": "stdout",
          "text": [
            "[['a' 'a']\n",
            " ['a' 'a']\n",
            " ['a' 'a']]\n"
          ]
        }
      ]
    },
    {
      "cell_type": "markdown",
      "metadata": {
        "id": "liQeIGz9nZik"
      },
      "source": [
        "## Matrix Operations in NumPy\n",
        "\n",
        "NumPy allows many built-in matrix operations that are very useful"
      ]
    },
    {
      "cell_type": "code",
      "metadata": {
        "scrolled": false,
        "id": "b50bJjMynZik",
        "colab": {
          "base_uri": "https://localhost:8080/"
        },
        "outputId": "990f0dfa-f1a5-4b4c-d0bd-8a972a2e221a"
      },
      "source": [
        "## reshape matrix\n",
        "mat = np.array([ [1, 2], [3, 4], [5, 6]])\n",
        "\n",
        "print('old matrix ', mat)\n",
        "print('old shape is ', mat.shape)\n",
        "\n",
        "## then reshape it to 6*1 array\n",
        "mat = mat.reshape(6,1)\n",
        "print('new matrix', mat)\n",
        "print(' new shape is', mat.shape)"
      ],
      "execution_count": 218,
      "outputs": [
        {
          "output_type": "stream",
          "name": "stdout",
          "text": [
            "old matrix  [[1 2]\n",
            " [3 4]\n",
            " [5 6]]\n",
            "old shape is  (3, 2)\n",
            "new matrix [[1]\n",
            " [2]\n",
            " [3]\n",
            " [4]\n",
            " [5]\n",
            " [6]]\n",
            " new shape is (6, 1)\n"
          ]
        }
      ]
    },
    {
      "cell_type": "markdown",
      "metadata": {
        "id": "xKR2DDzUnZim"
      },
      "source": [
        "**REMEMBER** The number of elements is the same in the new matrix and the old matrix, so make sure the new dimension are equivalent to that.\n",
        "\n",
        "i.e.: the rows_old * columns_old = rows_new * columns_new\n",
        "\n",
        "This is useful because:"
      ]
    },
    {
      "cell_type": "markdown",
      "metadata": {
        "id": "xYFbz3MDnZim"
      },
      "source": [
        "If you know one dimension of the new matrix, but not sure the other dimension, you can let NumPy guess it by placing -1 instead of the new dimension value. **REMEMBER** you can use -1 for only one of the dimensions."
      ]
    },
    {
      "cell_type": "code",
      "metadata": {
        "id": "JPYih1pYnZim",
        "colab": {
          "base_uri": "https://localhost:8080/"
        },
        "outputId": "2f60480b-ed71-44a3-fe8b-5b07b6df94be"
      },
      "source": [
        "mat = np.ones((7,4)) ## a 7*4 matrix\n",
        "\n",
        "## i want to reshape it to 1D array! i knwo it would look like (x,1) but don't knwo what x should be\n",
        "new_matrix = mat.reshape(-1,1) # reshape to 1D array\n",
        "\n",
        "print(new_matrix.shape) ## it correctly reshaped it!"
      ],
      "execution_count": 219,
      "outputs": [
        {
          "output_type": "stream",
          "name": "stdout",
          "text": [
            "(28, 1)\n"
          ]
        }
      ]
    },
    {
      "cell_type": "code",
      "metadata": {
        "id": "AJr8FUdsnZio",
        "colab": {
          "base_uri": "https://localhost:8080/"
        },
        "outputId": "b47fcb59-46c4-4525-8d35-c2f1d30baa6c"
      },
      "source": [
        "## Transposing a matrixc is mat.T:\n",
        "mat = np.array([ [1, 2], [3, 4], [5, 6]])\n",
        "\n",
        "print('transponse of ', mat, 'is',  mat.T, sep='\\n')"
      ],
      "execution_count": 220,
      "outputs": [
        {
          "output_type": "stream",
          "name": "stdout",
          "text": [
            "transponse of \n",
            "[[1 2]\n",
            " [3 4]\n",
            " [5 6]]\n",
            "is\n",
            "[[1 3 5]\n",
            " [2 4 6]]\n"
          ]
        }
      ]
    },
    {
      "cell_type": "code",
      "metadata": {
        "id": "YTd7xBvdnZip",
        "colab": {
          "base_uri": "https://localhost:8080/"
        },
        "outputId": "38369328-0ec3-49b9-d278-f94eaf92b41a"
      },
      "source": [
        "## Matrix by Matrix Multiplication using np.dot:\n",
        "mat1 = np.array([ [1, 2], [3, 4], [5, 6]])  ## of shape 3*2\n",
        "mat2 = np.array([[1, 3, 5], [2, 4, 6]]) ## of shape 2*3\n",
        "\n",
        "## result matrix is of shape 3*3\n",
        "mat1_by_mat2 = np.dot(mat1, mat2) ## rememeber, inner dimensions must be the similar\n",
        "\n",
        "print(mat1_by_mat2)\n",
        "print('result shape: ', mat1_by_mat2.shape)"
      ],
      "execution_count": 221,
      "outputs": [
        {
          "output_type": "stream",
          "name": "stdout",
          "text": [
            "[[ 5 11 17]\n",
            " [11 25 39]\n",
            " [17 39 61]]\n",
            "result shape:  (3, 3)\n"
          ]
        }
      ]
    },
    {
      "cell_type": "code",
      "metadata": {
        "id": "FK2EDpcGnZiq",
        "colab": {
          "base_uri": "https://localhost:8080/"
        },
        "outputId": "36013a07-e9f6-4e68-88d2-ac00055454eb"
      },
      "source": [
        "## similar to np.dot, the @ can be used to multiply two matrices arithmatically\n",
        "mat1 = np.array([ [1, 2], [3, 4], [5, 6]])  ## of shape 3*2\n",
        "mat2 = np.array([[1, 3, 5], [2, 4, 6]]) ## of shape 2*3\n",
        "\n",
        "mat1_by_mat2 = mat1@mat2\n",
        "\n",
        "print(mat1_by_mat2) ## same result\n",
        "print('result shape: ', mat1_by_mat2.shape)"
      ],
      "execution_count": 222,
      "outputs": [
        {
          "output_type": "stream",
          "name": "stdout",
          "text": [
            "[[ 5 11 17]\n",
            " [11 25 39]\n",
            " [17 39 61]]\n",
            "result shape:  (3, 3)\n"
          ]
        }
      ]
    },
    {
      "cell_type": "code",
      "metadata": {
        "id": "oDS-EBp9nZis",
        "colab": {
          "base_uri": "https://localhost:8080/"
        },
        "outputId": "eb712092-62b5-416b-e3d3-659d5218942f"
      },
      "source": [
        "## the astrisk * is used for element-wise multiplication\n",
        "mat1 = np.array([ [1, 2], [3, 4], [5, 6]])  ## of shape 3*2\n",
        "mat2 = np.array([ [1, 2], [3, 4], [5, 6]])  ## of shape 3*2\n",
        "\n",
        "mat1_elements_by_mat2_elements = mat1*mat2 ## they MUST be of the same size\n",
        "print(mat1_elements_by_mat2_elements)\n",
        "print('result shape: ', mat1_elements_by_mat2_elements.shape)"
      ],
      "execution_count": 223,
      "outputs": [
        {
          "output_type": "stream",
          "name": "stdout",
          "text": [
            "[[ 1  4]\n",
            " [ 9 16]\n",
            " [25 36]]\n",
            "result shape:  (3, 2)\n"
          ]
        }
      ]
    },
    {
      "cell_type": "markdown",
      "metadata": {
        "id": "m5_igKNcnZit"
      },
      "source": [
        "## Broadcasting in NumPy\n",
        "\n",
        "Broadcasting is the MOST important concept in numpy. The term broadcasting describes how numpy treats arrays with different shapes during arithmetic operations.\n",
        "\n",
        "In Mathematics, in order to multiply two matrices, their inner dimensions must be equal. for example, if matrix A is of shape `r1*c1`, and matrix B is of shape `r2*c2`, the multiplication is valid only if `c1 is equal to r2`.\n",
        "\n",
        "However, in numpy, it allows for this operation to occurr if c1 is not equal to r2 under certain conditions.\n",
        "\n",
        "For example:\n",
        "if we want to add 5 to all values of the array [1, 2, 3] it goes like this:"
      ]
    },
    {
      "cell_type": "code",
      "metadata": {
        "id": "OxgF3LhunZit",
        "colab": {
          "base_uri": "https://localhost:8080/"
        },
        "outputId": "fbac5070-bcaf-43a1-9584-7a13953c788e"
      },
      "source": [
        "arr = np.array([1, 2, 3])\n",
        "arr_plus_5 = arr + 5\n",
        "print(arr_plus_5)"
      ],
      "execution_count": 224,
      "outputs": [
        {
          "output_type": "stream",
          "name": "stdout",
          "text": [
            "[6 7 8]\n"
          ]
        }
      ]
    },
    {
      "cell_type": "markdown",
      "metadata": {
        "id": "pkgHGS2tnZiv"
      },
      "source": [
        "What happened here is that the value 5 is broadcasted to all elements of the array `arr`. Broadcasting means it is **REPEATED** until the shapes are equivalent to perform the `addition` operation.\n",
        "\n",
        "Another example is if we have the matrix  \n",
        "\n",
        "`[ [1, 2, 3]\n",
        "   [1, 2, 3]\n",
        "   [1, 2, 3]]`\n",
        "   \n",
        "and we want to multiply the firs column by 2, the second column by 3, and the third column by 4.\n",
        "\n",
        "We can do that using broadcasting of array [2, 3, 4] over the matrix. See:"
      ]
    },
    {
      "cell_type": "code",
      "metadata": {
        "id": "fxQBcaQtnZiv",
        "colab": {
          "base_uri": "https://localhost:8080/"
        },
        "outputId": "09d5386b-833c-4744-f631-c08c93199241"
      },
      "source": [
        "## create our matrix\n",
        "mat = np.array([ [1, 2, 3], [1, 2, 3], [1, 2, 3]])\n",
        "\n",
        "## the multiplication values\n",
        "multiplication_vals = np.array([2, 3, 4])\n",
        "\n",
        "## then perform the multiplication using broadcasting:\n",
        "\n",
        "print(mat*multiplication_vals)"
      ],
      "execution_count": 225,
      "outputs": [
        {
          "output_type": "stream",
          "name": "stdout",
          "text": [
            "[[ 2  6 12]\n",
            " [ 2  6 12]\n",
            " [ 2  6 12]]\n"
          ]
        }
      ]
    },
    {
      "cell_type": "markdown",
      "metadata": {
        "id": "Cyw87IppnZiy"
      },
      "source": [
        "What happened here is that NumPy found the shape of the first matrix is (3,3) and the second one is (3,) so it repeated the **Smaller** matrix until its shape is like the first one (i.e made it 3 * 3 matrix) then multiplied each element by the corresponding one."
      ]
    },
    {
      "cell_type": "markdown",
      "metadata": {
        "id": "KiqxY3KEnZiy"
      },
      "source": [
        "## Array Slicing\n",
        "Indexing arrays in NumPy is easy and useful. We can index sub-arrays, elements and vectors (horizontally and vertically)"
      ]
    },
    {
      "cell_type": "code",
      "metadata": {
        "id": "avJ2tPd9nZiz",
        "colab": {
          "base_uri": "https://localhost:8080/"
        },
        "outputId": "129d7dd5-5829-493f-f738-5a7cff7e5287"
      },
      "source": [
        "mat = np.arange(25).reshape(5,5) ## create a 5*5 array\n",
        "\n",
        "print(mat)"
      ],
      "execution_count": 226,
      "outputs": [
        {
          "output_type": "stream",
          "name": "stdout",
          "text": [
            "[[ 0  1  2  3  4]\n",
            " [ 5  6  7  8  9]\n",
            " [10 11 12 13 14]\n",
            " [15 16 17 18 19]\n",
            " [20 21 22 23 24]]\n"
          ]
        }
      ]
    },
    {
      "cell_type": "code",
      "metadata": {
        "id": "1hLB-ZUQnZi2",
        "colab": {
          "base_uri": "https://localhost:8080/"
        },
        "outputId": "b157ad81-9968-4340-8863-fc6881cb4398"
      },
      "source": [
        "## get the first row\n",
        "print(mat[0]) ## similar to mat[0, :]\n",
        "\n",
        "## get the 2nd column in numpy\n",
        "print(mat[:, 1])"
      ],
      "execution_count": 227,
      "outputs": [
        {
          "output_type": "stream",
          "name": "stdout",
          "text": [
            "[0 1 2 3 4]\n",
            "[ 1  6 11 16 21]\n"
          ]
        }
      ]
    },
    {
      "cell_type": "code",
      "metadata": {
        "id": "GnD2tmS9nZi4",
        "colab": {
          "base_uri": "https://localhost:8080/"
        },
        "outputId": "a3945cd8-bab3-42e2-ab2a-bc94ecc66ecb"
      },
      "source": [
        "## get the sub array of elements from index (1,1) through the index (3,4)\n",
        "print(mat[1:4, 1:5]) ## we want rows 1,2 and 3. and columns 1,2,3,4"
      ],
      "execution_count": 228,
      "outputs": [
        {
          "output_type": "stream",
          "name": "stdout",
          "text": [
            "[[ 6  7  8  9]\n",
            " [11 12 13 14]\n",
            " [16 17 18 19]]\n"
          ]
        }
      ]
    },
    {
      "cell_type": "markdown",
      "metadata": {
        "id": "HWDSBuZLnZi6"
      },
      "source": [
        "## Masked Indexing\n",
        "\n",
        "Another important concept in NumPy is the Masked indexing. We can treat elements of arrays as one object, and index over them using operations.\n",
        "\n",
        "To check which elements of an array are positive:"
      ]
    },
    {
      "cell_type": "code",
      "metadata": {
        "id": "mHmjQeabnZi6",
        "colab": {
          "base_uri": "https://localhost:8080/"
        },
        "outputId": "bef29c74-1b39-4d46-dbcf-181ef1143d75"
      },
      "source": [
        "arr = np.array([-1, 0, 5, 6, -2, 7, 9, -4]) ## defined array\n",
        "\n",
        "print(arr>0) ## returns a list of truth (True for +ve and False for non-positive values)"
      ],
      "execution_count": 229,
      "outputs": [
        {
          "output_type": "stream",
          "name": "stdout",
          "text": [
            "[False False  True  True False  True  True False]\n"
          ]
        }
      ]
    },
    {
      "cell_type": "markdown",
      "metadata": {
        "id": "dsVoW-ZbnZi8"
      },
      "source": [
        "We can use this returned list to index from the array itself.\n",
        "\n",
        "For example:"
      ]
    },
    {
      "cell_type": "code",
      "metadata": {
        "id": "_nKQRdiSnZi8",
        "colab": {
          "base_uri": "https://localhost:8080/"
        },
        "outputId": "ad833c70-c569-4baa-aa48-6d841921be07"
      },
      "source": [
        "positive_numbers = arr[ arr>0 ]  ## the condition returns a list of truth (Mask) which is used to index the array itself\n",
        "print(positive_numbers)"
      ],
      "execution_count": 230,
      "outputs": [
        {
          "output_type": "stream",
          "name": "stdout",
          "text": [
            "[5 6 7 9]\n"
          ]
        }
      ]
    },
    {
      "cell_type": "markdown",
      "metadata": {
        "id": "lG02isqCnZi-"
      },
      "source": [
        "We can use the mask to alter the values of the array itself.\n",
        "\n",
        "For example, we want to replace all even values in a list with -1:"
      ]
    },
    {
      "cell_type": "code",
      "metadata": {
        "id": "VhYrXFgBnZi-",
        "colab": {
          "base_uri": "https://localhost:8080/"
        },
        "outputId": "18b4d997-1a6d-4364-de50-d33ca8354efe"
      },
      "source": [
        "array = np.array([1, 2, 3, 4, 5, 6, 7]) ##\n",
        "\n",
        "array[ array%2==0 ] = -1 ## the mask returns true for even values, and false for odd values.\n",
        "                             ## Then it indexes from the array itsef and assigns -1 to the indices of True values in the mask\n",
        "print(array)"
      ],
      "execution_count": 231,
      "outputs": [
        {
          "output_type": "stream",
          "name": "stdout",
          "text": [
            "[ 1 -1  3 -1  5 -1  7]\n"
          ]
        }
      ]
    },
    {
      "cell_type": "markdown",
      "metadata": {
        "id": "uDFc7ClWnZjA"
      },
      "source": [
        "## Aggregation\n",
        "\n",
        "NumPy provides a lot of common aggregation functions for arrays."
      ]
    },
    {
      "cell_type": "code",
      "metadata": {
        "id": "vk2rkFUznZjA",
        "colab": {
          "base_uri": "https://localhost:8080/"
        },
        "outputId": "fab1d1e1-91ed-49d4-c600-1a6edb2dfdf1"
      },
      "source": [
        " # sum, mean, var, std and A LOT more!\n",
        "arr = np.arange(5) ## similar to np.array([0, 1, 2, 3, 4])\n",
        "print(arr.mean())\n",
        "\n",
        "# If axis is specified, the function does not over the whole array\n",
        "\n",
        "arr = np.arange(10).reshape(5,2) ## creates a 5*2 array of values from 0-9\n",
        "print(arr.mean(axis=0))  ## axis = 0 means it creates the mean over the columns (0-> colums, 1->rows)\n",
        "\n",
        "print(arr.mean(axis=1)) ## axis = 1 for means of rows"
      ],
      "execution_count": 232,
      "outputs": [
        {
          "output_type": "stream",
          "name": "stdout",
          "text": [
            "2.0\n",
            "[4. 5.]\n",
            "[0.5 2.5 4.5 6.5 8.5]\n"
          ]
        }
      ]
    },
    {
      "cell_type": "markdown",
      "metadata": {
        "id": "CZMBMfk8nZjB"
      },
      "source": [
        "---------------------"
      ]
    },
    {
      "cell_type": "markdown",
      "metadata": {
        "id": "8F2iCeaUnZjw"
      },
      "source": [
        "# Pandas\n",
        "Pandas is a library for reading, writing and manipulating datasets, usually in tabular format.\n",
        "\n",
        "Using Pandas is very similar to NumPy:"
      ]
    },
    {
      "cell_type": "code",
      "metadata": {
        "id": "3-xVsiG1nZjw"
      },
      "source": [
        "## import Pandas package to your workspace\n",
        "import pandas as pd"
      ],
      "execution_count": 233,
      "outputs": []
    },
    {
      "cell_type": "markdown",
      "metadata": {
        "id": "Sr6DUz6jnZjx"
      },
      "source": [
        "Pandas is a library for reading, writing and manipulating datasets, usually in tabular format. It has two main data structures; `Series` which is similar to a NumPy arrays and `DataFrame` which is similar to 2D NumPy arrays. A `DataFrame` is essentially comprised of one or more `Series`. Its usage is very similar to NumPy's! Since its usage is very similar to NumPy's (which underlies a lot of its functionalities), let's jump ahead to using it with datasets!\n",
        "\n",
        "We will be using UCI's famous [Iris dataset](https://www.kaggle.com/uciml/iris)."
      ]
    },
    {
      "cell_type": "markdown",
      "metadata": {
        "id": "5vpzggSLnZjx"
      },
      "source": [
        "## Reading Data Files in Pandas\n",
        "Pandas have multiple data file readers like CSV, TSV, JSON and many others.\n",
        "\n",
        "When the data is read, it is parsed into a DataFrame data type. Think of DataFrames as Named Tables where the columns of the tables have names and indexes, and rows are the rows are the entries for each column.\n",
        "\n",
        "To read a CSV file, we use Panda's ready-made function read_csv.\n",
        "\n",
        "Notice how the data is stored in a table-like data structure. That makes them easy to work on and use."
      ]
    },
    {
      "cell_type": "code",
      "metadata": {
        "id": "HvSQQf7JnZjx",
        "colab": {
          "base_uri": "https://localhost:8080/",
          "height": 206
        },
        "outputId": "69b91112-f6eb-4a2e-d8e9-9f63be39e800"
      },
      "source": [
        "## read the Iris dataset into a dataframe\n",
        "iris_data = pd.read_csv('Iris.csv', sep=',') # the sep argument is the separator of the file. Here: a comma separated file (csv)\n",
        "\n",
        "## print the first 5 rows of the table to see how the dataframe is ordered:\n",
        "iris_data.head(5)"
      ],
      "execution_count": 234,
      "outputs": [
        {
          "output_type": "execute_result",
          "data": {
            "text/plain": [
              "   Id  SepalLengthCm  SepalWidthCm  PetalLengthCm  PetalWidthCm      Species\n",
              "0   1            5.1           3.5            1.4           0.2  Iris-setosa\n",
              "1   2            4.9           3.0            1.4           0.2  Iris-setosa\n",
              "2   3            4.7           3.2            1.3           0.2  Iris-setosa\n",
              "3   4            4.6           3.1            1.5           0.2  Iris-setosa\n",
              "4   5            5.0           3.6            1.4           0.2  Iris-setosa"
            ],
            "text/html": [
              "\n",
              "  <div id=\"df-2c1d63ff-df5f-40ef-a1c8-5eb50257bb5b\" class=\"colab-df-container\">\n",
              "    <div>\n",
              "<style scoped>\n",
              "    .dataframe tbody tr th:only-of-type {\n",
              "        vertical-align: middle;\n",
              "    }\n",
              "\n",
              "    .dataframe tbody tr th {\n",
              "        vertical-align: top;\n",
              "    }\n",
              "\n",
              "    .dataframe thead th {\n",
              "        text-align: right;\n",
              "    }\n",
              "</style>\n",
              "<table border=\"1\" class=\"dataframe\">\n",
              "  <thead>\n",
              "    <tr style=\"text-align: right;\">\n",
              "      <th></th>\n",
              "      <th>Id</th>\n",
              "      <th>SepalLengthCm</th>\n",
              "      <th>SepalWidthCm</th>\n",
              "      <th>PetalLengthCm</th>\n",
              "      <th>PetalWidthCm</th>\n",
              "      <th>Species</th>\n",
              "    </tr>\n",
              "  </thead>\n",
              "  <tbody>\n",
              "    <tr>\n",
              "      <th>0</th>\n",
              "      <td>1</td>\n",
              "      <td>5.1</td>\n",
              "      <td>3.5</td>\n",
              "      <td>1.4</td>\n",
              "      <td>0.2</td>\n",
              "      <td>Iris-setosa</td>\n",
              "    </tr>\n",
              "    <tr>\n",
              "      <th>1</th>\n",
              "      <td>2</td>\n",
              "      <td>4.9</td>\n",
              "      <td>3.0</td>\n",
              "      <td>1.4</td>\n",
              "      <td>0.2</td>\n",
              "      <td>Iris-setosa</td>\n",
              "    </tr>\n",
              "    <tr>\n",
              "      <th>2</th>\n",
              "      <td>3</td>\n",
              "      <td>4.7</td>\n",
              "      <td>3.2</td>\n",
              "      <td>1.3</td>\n",
              "      <td>0.2</td>\n",
              "      <td>Iris-setosa</td>\n",
              "    </tr>\n",
              "    <tr>\n",
              "      <th>3</th>\n",
              "      <td>4</td>\n",
              "      <td>4.6</td>\n",
              "      <td>3.1</td>\n",
              "      <td>1.5</td>\n",
              "      <td>0.2</td>\n",
              "      <td>Iris-setosa</td>\n",
              "    </tr>\n",
              "    <tr>\n",
              "      <th>4</th>\n",
              "      <td>5</td>\n",
              "      <td>5.0</td>\n",
              "      <td>3.6</td>\n",
              "      <td>1.4</td>\n",
              "      <td>0.2</td>\n",
              "      <td>Iris-setosa</td>\n",
              "    </tr>\n",
              "  </tbody>\n",
              "</table>\n",
              "</div>\n",
              "    <div class=\"colab-df-buttons\">\n",
              "\n",
              "  <div class=\"colab-df-container\">\n",
              "    <button class=\"colab-df-convert\" onclick=\"convertToInteractive('df-2c1d63ff-df5f-40ef-a1c8-5eb50257bb5b')\"\n",
              "            title=\"Convert this dataframe to an interactive table.\"\n",
              "            style=\"display:none;\">\n",
              "\n",
              "  <svg xmlns=\"http://www.w3.org/2000/svg\" height=\"24px\" viewBox=\"0 -960 960 960\">\n",
              "    <path d=\"M120-120v-720h720v720H120Zm60-500h600v-160H180v160Zm220 220h160v-160H400v160Zm0 220h160v-160H400v160ZM180-400h160v-160H180v160Zm440 0h160v-160H620v160ZM180-180h160v-160H180v160Zm440 0h160v-160H620v160Z\"/>\n",
              "  </svg>\n",
              "    </button>\n",
              "\n",
              "  <style>\n",
              "    .colab-df-container {\n",
              "      display:flex;\n",
              "      gap: 12px;\n",
              "    }\n",
              "\n",
              "    .colab-df-convert {\n",
              "      background-color: #E8F0FE;\n",
              "      border: none;\n",
              "      border-radius: 50%;\n",
              "      cursor: pointer;\n",
              "      display: none;\n",
              "      fill: #1967D2;\n",
              "      height: 32px;\n",
              "      padding: 0 0 0 0;\n",
              "      width: 32px;\n",
              "    }\n",
              "\n",
              "    .colab-df-convert:hover {\n",
              "      background-color: #E2EBFA;\n",
              "      box-shadow: 0px 1px 2px rgba(60, 64, 67, 0.3), 0px 1px 3px 1px rgba(60, 64, 67, 0.15);\n",
              "      fill: #174EA6;\n",
              "    }\n",
              "\n",
              "    .colab-df-buttons div {\n",
              "      margin-bottom: 4px;\n",
              "    }\n",
              "\n",
              "    [theme=dark] .colab-df-convert {\n",
              "      background-color: #3B4455;\n",
              "      fill: #D2E3FC;\n",
              "    }\n",
              "\n",
              "    [theme=dark] .colab-df-convert:hover {\n",
              "      background-color: #434B5C;\n",
              "      box-shadow: 0px 1px 3px 1px rgba(0, 0, 0, 0.15);\n",
              "      filter: drop-shadow(0px 1px 2px rgba(0, 0, 0, 0.3));\n",
              "      fill: #FFFFFF;\n",
              "    }\n",
              "  </style>\n",
              "\n",
              "    <script>\n",
              "      const buttonEl =\n",
              "        document.querySelector('#df-2c1d63ff-df5f-40ef-a1c8-5eb50257bb5b button.colab-df-convert');\n",
              "      buttonEl.style.display =\n",
              "        google.colab.kernel.accessAllowed ? 'block' : 'none';\n",
              "\n",
              "      async function convertToInteractive(key) {\n",
              "        const element = document.querySelector('#df-2c1d63ff-df5f-40ef-a1c8-5eb50257bb5b');\n",
              "        const dataTable =\n",
              "          await google.colab.kernel.invokeFunction('convertToInteractive',\n",
              "                                                    [key], {});\n",
              "        if (!dataTable) return;\n",
              "\n",
              "        const docLinkHtml = 'Like what you see? Visit the ' +\n",
              "          '<a target=\"_blank\" href=https://colab.research.google.com/notebooks/data_table.ipynb>data table notebook</a>'\n",
              "          + ' to learn more about interactive tables.';\n",
              "        element.innerHTML = '';\n",
              "        dataTable['output_type'] = 'display_data';\n",
              "        await google.colab.output.renderOutput(dataTable, element);\n",
              "        const docLink = document.createElement('div');\n",
              "        docLink.innerHTML = docLinkHtml;\n",
              "        element.appendChild(docLink);\n",
              "      }\n",
              "    </script>\n",
              "  </div>\n",
              "\n",
              "\n",
              "<div id=\"df-bf5da33b-e7fd-4574-9fd7-75a350854601\">\n",
              "  <button class=\"colab-df-quickchart\" onclick=\"quickchart('df-bf5da33b-e7fd-4574-9fd7-75a350854601')\"\n",
              "            title=\"Suggest charts\"\n",
              "            style=\"display:none;\">\n",
              "\n",
              "<svg xmlns=\"http://www.w3.org/2000/svg\" height=\"24px\"viewBox=\"0 0 24 24\"\n",
              "     width=\"24px\">\n",
              "    <g>\n",
              "        <path d=\"M19 3H5c-1.1 0-2 .9-2 2v14c0 1.1.9 2 2 2h14c1.1 0 2-.9 2-2V5c0-1.1-.9-2-2-2zM9 17H7v-7h2v7zm4 0h-2V7h2v10zm4 0h-2v-4h2v4z\"/>\n",
              "    </g>\n",
              "</svg>\n",
              "  </button>\n",
              "\n",
              "<style>\n",
              "  .colab-df-quickchart {\n",
              "      --bg-color: #E8F0FE;\n",
              "      --fill-color: #1967D2;\n",
              "      --hover-bg-color: #E2EBFA;\n",
              "      --hover-fill-color: #174EA6;\n",
              "      --disabled-fill-color: #AAA;\n",
              "      --disabled-bg-color: #DDD;\n",
              "  }\n",
              "\n",
              "  [theme=dark] .colab-df-quickchart {\n",
              "      --bg-color: #3B4455;\n",
              "      --fill-color: #D2E3FC;\n",
              "      --hover-bg-color: #434B5C;\n",
              "      --hover-fill-color: #FFFFFF;\n",
              "      --disabled-bg-color: #3B4455;\n",
              "      --disabled-fill-color: #666;\n",
              "  }\n",
              "\n",
              "  .colab-df-quickchart {\n",
              "    background-color: var(--bg-color);\n",
              "    border: none;\n",
              "    border-radius: 50%;\n",
              "    cursor: pointer;\n",
              "    display: none;\n",
              "    fill: var(--fill-color);\n",
              "    height: 32px;\n",
              "    padding: 0;\n",
              "    width: 32px;\n",
              "  }\n",
              "\n",
              "  .colab-df-quickchart:hover {\n",
              "    background-color: var(--hover-bg-color);\n",
              "    box-shadow: 0 1px 2px rgba(60, 64, 67, 0.3), 0 1px 3px 1px rgba(60, 64, 67, 0.15);\n",
              "    fill: var(--button-hover-fill-color);\n",
              "  }\n",
              "\n",
              "  .colab-df-quickchart-complete:disabled,\n",
              "  .colab-df-quickchart-complete:disabled:hover {\n",
              "    background-color: var(--disabled-bg-color);\n",
              "    fill: var(--disabled-fill-color);\n",
              "    box-shadow: none;\n",
              "  }\n",
              "\n",
              "  .colab-df-spinner {\n",
              "    border: 2px solid var(--fill-color);\n",
              "    border-color: transparent;\n",
              "    border-bottom-color: var(--fill-color);\n",
              "    animation:\n",
              "      spin 1s steps(1) infinite;\n",
              "  }\n",
              "\n",
              "  @keyframes spin {\n",
              "    0% {\n",
              "      border-color: transparent;\n",
              "      border-bottom-color: var(--fill-color);\n",
              "      border-left-color: var(--fill-color);\n",
              "    }\n",
              "    20% {\n",
              "      border-color: transparent;\n",
              "      border-left-color: var(--fill-color);\n",
              "      border-top-color: var(--fill-color);\n",
              "    }\n",
              "    30% {\n",
              "      border-color: transparent;\n",
              "      border-left-color: var(--fill-color);\n",
              "      border-top-color: var(--fill-color);\n",
              "      border-right-color: var(--fill-color);\n",
              "    }\n",
              "    40% {\n",
              "      border-color: transparent;\n",
              "      border-right-color: var(--fill-color);\n",
              "      border-top-color: var(--fill-color);\n",
              "    }\n",
              "    60% {\n",
              "      border-color: transparent;\n",
              "      border-right-color: var(--fill-color);\n",
              "    }\n",
              "    80% {\n",
              "      border-color: transparent;\n",
              "      border-right-color: var(--fill-color);\n",
              "      border-bottom-color: var(--fill-color);\n",
              "    }\n",
              "    90% {\n",
              "      border-color: transparent;\n",
              "      border-bottom-color: var(--fill-color);\n",
              "    }\n",
              "  }\n",
              "</style>\n",
              "\n",
              "  <script>\n",
              "    async function quickchart(key) {\n",
              "      const quickchartButtonEl =\n",
              "        document.querySelector('#' + key + ' button');\n",
              "      quickchartButtonEl.disabled = true;  // To prevent multiple clicks.\n",
              "      quickchartButtonEl.classList.add('colab-df-spinner');\n",
              "      try {\n",
              "        const charts = await google.colab.kernel.invokeFunction(\n",
              "            'suggestCharts', [key], {});\n",
              "      } catch (error) {\n",
              "        console.error('Error during call to suggestCharts:', error);\n",
              "      }\n",
              "      quickchartButtonEl.classList.remove('colab-df-spinner');\n",
              "      quickchartButtonEl.classList.add('colab-df-quickchart-complete');\n",
              "    }\n",
              "    (() => {\n",
              "      let quickchartButtonEl =\n",
              "        document.querySelector('#df-bf5da33b-e7fd-4574-9fd7-75a350854601 button');\n",
              "      quickchartButtonEl.style.display =\n",
              "        google.colab.kernel.accessAllowed ? 'block' : 'none';\n",
              "    })();\n",
              "  </script>\n",
              "</div>\n",
              "\n",
              "    </div>\n",
              "  </div>\n"
            ],
            "application/vnd.google.colaboratory.intrinsic+json": {
              "type": "dataframe",
              "variable_name": "iris_data",
              "summary": "{\n  \"name\": \"iris_data\",\n  \"rows\": 150,\n  \"fields\": [\n    {\n      \"column\": \"Id\",\n      \"properties\": {\n        \"dtype\": \"number\",\n        \"std\": 43,\n        \"min\": 1,\n        \"max\": 150,\n        \"num_unique_values\": 150,\n        \"samples\": [\n          74,\n          19,\n          119\n        ],\n        \"semantic_type\": \"\",\n        \"description\": \"\"\n      }\n    },\n    {\n      \"column\": \"SepalLengthCm\",\n      \"properties\": {\n        \"dtype\": \"number\",\n        \"std\": 0.8280661279778629,\n        \"min\": 4.3,\n        \"max\": 7.9,\n        \"num_unique_values\": 35,\n        \"samples\": [\n          6.2,\n          4.5,\n          5.6\n        ],\n        \"semantic_type\": \"\",\n        \"description\": \"\"\n      }\n    },\n    {\n      \"column\": \"SepalWidthCm\",\n      \"properties\": {\n        \"dtype\": \"number\",\n        \"std\": 0.4335943113621737,\n        \"min\": 2.0,\n        \"max\": 4.4,\n        \"num_unique_values\": 23,\n        \"samples\": [\n          2.3,\n          4.0,\n          3.5\n        ],\n        \"semantic_type\": \"\",\n        \"description\": \"\"\n      }\n    },\n    {\n      \"column\": \"PetalLengthCm\",\n      \"properties\": {\n        \"dtype\": \"number\",\n        \"std\": 1.7644204199522617,\n        \"min\": 1.0,\n        \"max\": 6.9,\n        \"num_unique_values\": 43,\n        \"samples\": [\n          6.7,\n          3.8,\n          3.7\n        ],\n        \"semantic_type\": \"\",\n        \"description\": \"\"\n      }\n    },\n    {\n      \"column\": \"PetalWidthCm\",\n      \"properties\": {\n        \"dtype\": \"number\",\n        \"std\": 0.7631607417008414,\n        \"min\": 0.1,\n        \"max\": 2.5,\n        \"num_unique_values\": 22,\n        \"samples\": [\n          0.2,\n          1.2,\n          1.3\n        ],\n        \"semantic_type\": \"\",\n        \"description\": \"\"\n      }\n    },\n    {\n      \"column\": \"Species\",\n      \"properties\": {\n        \"dtype\": \"category\",\n        \"num_unique_values\": 3,\n        \"samples\": [\n          \"Iris-setosa\",\n          \"Iris-versicolor\",\n          \"Iris-virginica\"\n        ],\n        \"semantic_type\": \"\",\n        \"description\": \"\"\n      }\n    }\n  ]\n}"
            }
          },
          "metadata": {},
          "execution_count": 234
        }
      ]
    },
    {
      "cell_type": "code",
      "metadata": {
        "id": "ezbOT9CunZjz",
        "colab": {
          "base_uri": "https://localhost:8080/"
        },
        "outputId": "dc273cb6-3fd6-447f-fe60-ecdd6f93d2b0"
      },
      "source": [
        "# To get the column names:\n",
        "iris_data.columns"
      ],
      "execution_count": 235,
      "outputs": [
        {
          "output_type": "execute_result",
          "data": {
            "text/plain": [
              "Index(['Id', 'SepalLengthCm', 'SepalWidthCm', 'PetalLengthCm', 'PetalWidthCm',\n",
              "       'Species'],\n",
              "      dtype='object')"
            ]
          },
          "metadata": {},
          "execution_count": 235
        }
      ]
    },
    {
      "cell_type": "markdown",
      "metadata": {
        "id": "UfE74WTgnZj2"
      },
      "source": [
        "We can also get a brief summary for all data columns using the \"describe()\" function\n",
        "* Count: the number of non-empty entries for the column\n",
        "* mean: the arithmetic mean of the column's data (if it were numeric)\n",
        "* std: the standard deviation of the column's data (if it were numeric)\n",
        "* min: minimum value in the column's entries (if it were numeric)\n",
        "* 25%: the 25th percentile (BONUS: what is a percentile)\n",
        "* 50%: 50th percentile\n",
        "* 75%: 75th percentile\n",
        "* max: maximum value in the column's entries (if it were numeric)"
      ]
    },
    {
      "cell_type": "code",
      "metadata": {
        "id": "Y8TgqbIUnZj2",
        "colab": {
          "base_uri": "https://localhost:8080/",
          "height": 300
        },
        "outputId": "f989bdc0-4774-4a3c-f0e9-1ae8ba1a7a6d"
      },
      "source": [
        "iris_data.describe()"
      ],
      "execution_count": 236,
      "outputs": [
        {
          "output_type": "execute_result",
          "data": {
            "text/plain": [
              "               Id  SepalLengthCm  SepalWidthCm  PetalLengthCm  PetalWidthCm\n",
              "count  150.000000     150.000000    150.000000     150.000000    150.000000\n",
              "mean    75.500000       5.843333      3.054000       3.758667      1.198667\n",
              "std     43.445368       0.828066      0.433594       1.764420      0.763161\n",
              "min      1.000000       4.300000      2.000000       1.000000      0.100000\n",
              "25%     38.250000       5.100000      2.800000       1.600000      0.300000\n",
              "50%     75.500000       5.800000      3.000000       4.350000      1.300000\n",
              "75%    112.750000       6.400000      3.300000       5.100000      1.800000\n",
              "max    150.000000       7.900000      4.400000       6.900000      2.500000"
            ],
            "text/html": [
              "\n",
              "  <div id=\"df-75c58df2-b83b-484e-8617-4d3cf33c5c70\" class=\"colab-df-container\">\n",
              "    <div>\n",
              "<style scoped>\n",
              "    .dataframe tbody tr th:only-of-type {\n",
              "        vertical-align: middle;\n",
              "    }\n",
              "\n",
              "    .dataframe tbody tr th {\n",
              "        vertical-align: top;\n",
              "    }\n",
              "\n",
              "    .dataframe thead th {\n",
              "        text-align: right;\n",
              "    }\n",
              "</style>\n",
              "<table border=\"1\" class=\"dataframe\">\n",
              "  <thead>\n",
              "    <tr style=\"text-align: right;\">\n",
              "      <th></th>\n",
              "      <th>Id</th>\n",
              "      <th>SepalLengthCm</th>\n",
              "      <th>SepalWidthCm</th>\n",
              "      <th>PetalLengthCm</th>\n",
              "      <th>PetalWidthCm</th>\n",
              "    </tr>\n",
              "  </thead>\n",
              "  <tbody>\n",
              "    <tr>\n",
              "      <th>count</th>\n",
              "      <td>150.000000</td>\n",
              "      <td>150.000000</td>\n",
              "      <td>150.000000</td>\n",
              "      <td>150.000000</td>\n",
              "      <td>150.000000</td>\n",
              "    </tr>\n",
              "    <tr>\n",
              "      <th>mean</th>\n",
              "      <td>75.500000</td>\n",
              "      <td>5.843333</td>\n",
              "      <td>3.054000</td>\n",
              "      <td>3.758667</td>\n",
              "      <td>1.198667</td>\n",
              "    </tr>\n",
              "    <tr>\n",
              "      <th>std</th>\n",
              "      <td>43.445368</td>\n",
              "      <td>0.828066</td>\n",
              "      <td>0.433594</td>\n",
              "      <td>1.764420</td>\n",
              "      <td>0.763161</td>\n",
              "    </tr>\n",
              "    <tr>\n",
              "      <th>min</th>\n",
              "      <td>1.000000</td>\n",
              "      <td>4.300000</td>\n",
              "      <td>2.000000</td>\n",
              "      <td>1.000000</td>\n",
              "      <td>0.100000</td>\n",
              "    </tr>\n",
              "    <tr>\n",
              "      <th>25%</th>\n",
              "      <td>38.250000</td>\n",
              "      <td>5.100000</td>\n",
              "      <td>2.800000</td>\n",
              "      <td>1.600000</td>\n",
              "      <td>0.300000</td>\n",
              "    </tr>\n",
              "    <tr>\n",
              "      <th>50%</th>\n",
              "      <td>75.500000</td>\n",
              "      <td>5.800000</td>\n",
              "      <td>3.000000</td>\n",
              "      <td>4.350000</td>\n",
              "      <td>1.300000</td>\n",
              "    </tr>\n",
              "    <tr>\n",
              "      <th>75%</th>\n",
              "      <td>112.750000</td>\n",
              "      <td>6.400000</td>\n",
              "      <td>3.300000</td>\n",
              "      <td>5.100000</td>\n",
              "      <td>1.800000</td>\n",
              "    </tr>\n",
              "    <tr>\n",
              "      <th>max</th>\n",
              "      <td>150.000000</td>\n",
              "      <td>7.900000</td>\n",
              "      <td>4.400000</td>\n",
              "      <td>6.900000</td>\n",
              "      <td>2.500000</td>\n",
              "    </tr>\n",
              "  </tbody>\n",
              "</table>\n",
              "</div>\n",
              "    <div class=\"colab-df-buttons\">\n",
              "\n",
              "  <div class=\"colab-df-container\">\n",
              "    <button class=\"colab-df-convert\" onclick=\"convertToInteractive('df-75c58df2-b83b-484e-8617-4d3cf33c5c70')\"\n",
              "            title=\"Convert this dataframe to an interactive table.\"\n",
              "            style=\"display:none;\">\n",
              "\n",
              "  <svg xmlns=\"http://www.w3.org/2000/svg\" height=\"24px\" viewBox=\"0 -960 960 960\">\n",
              "    <path d=\"M120-120v-720h720v720H120Zm60-500h600v-160H180v160Zm220 220h160v-160H400v160Zm0 220h160v-160H400v160ZM180-400h160v-160H180v160Zm440 0h160v-160H620v160ZM180-180h160v-160H180v160Zm440 0h160v-160H620v160Z\"/>\n",
              "  </svg>\n",
              "    </button>\n",
              "\n",
              "  <style>\n",
              "    .colab-df-container {\n",
              "      display:flex;\n",
              "      gap: 12px;\n",
              "    }\n",
              "\n",
              "    .colab-df-convert {\n",
              "      background-color: #E8F0FE;\n",
              "      border: none;\n",
              "      border-radius: 50%;\n",
              "      cursor: pointer;\n",
              "      display: none;\n",
              "      fill: #1967D2;\n",
              "      height: 32px;\n",
              "      padding: 0 0 0 0;\n",
              "      width: 32px;\n",
              "    }\n",
              "\n",
              "    .colab-df-convert:hover {\n",
              "      background-color: #E2EBFA;\n",
              "      box-shadow: 0px 1px 2px rgba(60, 64, 67, 0.3), 0px 1px 3px 1px rgba(60, 64, 67, 0.15);\n",
              "      fill: #174EA6;\n",
              "    }\n",
              "\n",
              "    .colab-df-buttons div {\n",
              "      margin-bottom: 4px;\n",
              "    }\n",
              "\n",
              "    [theme=dark] .colab-df-convert {\n",
              "      background-color: #3B4455;\n",
              "      fill: #D2E3FC;\n",
              "    }\n",
              "\n",
              "    [theme=dark] .colab-df-convert:hover {\n",
              "      background-color: #434B5C;\n",
              "      box-shadow: 0px 1px 3px 1px rgba(0, 0, 0, 0.15);\n",
              "      filter: drop-shadow(0px 1px 2px rgba(0, 0, 0, 0.3));\n",
              "      fill: #FFFFFF;\n",
              "    }\n",
              "  </style>\n",
              "\n",
              "    <script>\n",
              "      const buttonEl =\n",
              "        document.querySelector('#df-75c58df2-b83b-484e-8617-4d3cf33c5c70 button.colab-df-convert');\n",
              "      buttonEl.style.display =\n",
              "        google.colab.kernel.accessAllowed ? 'block' : 'none';\n",
              "\n",
              "      async function convertToInteractive(key) {\n",
              "        const element = document.querySelector('#df-75c58df2-b83b-484e-8617-4d3cf33c5c70');\n",
              "        const dataTable =\n",
              "          await google.colab.kernel.invokeFunction('convertToInteractive',\n",
              "                                                    [key], {});\n",
              "        if (!dataTable) return;\n",
              "\n",
              "        const docLinkHtml = 'Like what you see? Visit the ' +\n",
              "          '<a target=\"_blank\" href=https://colab.research.google.com/notebooks/data_table.ipynb>data table notebook</a>'\n",
              "          + ' to learn more about interactive tables.';\n",
              "        element.innerHTML = '';\n",
              "        dataTable['output_type'] = 'display_data';\n",
              "        await google.colab.output.renderOutput(dataTable, element);\n",
              "        const docLink = document.createElement('div');\n",
              "        docLink.innerHTML = docLinkHtml;\n",
              "        element.appendChild(docLink);\n",
              "      }\n",
              "    </script>\n",
              "  </div>\n",
              "\n",
              "\n",
              "<div id=\"df-8e8a17c5-5d6b-409c-b39f-8c7858f8b00b\">\n",
              "  <button class=\"colab-df-quickchart\" onclick=\"quickchart('df-8e8a17c5-5d6b-409c-b39f-8c7858f8b00b')\"\n",
              "            title=\"Suggest charts\"\n",
              "            style=\"display:none;\">\n",
              "\n",
              "<svg xmlns=\"http://www.w3.org/2000/svg\" height=\"24px\"viewBox=\"0 0 24 24\"\n",
              "     width=\"24px\">\n",
              "    <g>\n",
              "        <path d=\"M19 3H5c-1.1 0-2 .9-2 2v14c0 1.1.9 2 2 2h14c1.1 0 2-.9 2-2V5c0-1.1-.9-2-2-2zM9 17H7v-7h2v7zm4 0h-2V7h2v10zm4 0h-2v-4h2v4z\"/>\n",
              "    </g>\n",
              "</svg>\n",
              "  </button>\n",
              "\n",
              "<style>\n",
              "  .colab-df-quickchart {\n",
              "      --bg-color: #E8F0FE;\n",
              "      --fill-color: #1967D2;\n",
              "      --hover-bg-color: #E2EBFA;\n",
              "      --hover-fill-color: #174EA6;\n",
              "      --disabled-fill-color: #AAA;\n",
              "      --disabled-bg-color: #DDD;\n",
              "  }\n",
              "\n",
              "  [theme=dark] .colab-df-quickchart {\n",
              "      --bg-color: #3B4455;\n",
              "      --fill-color: #D2E3FC;\n",
              "      --hover-bg-color: #434B5C;\n",
              "      --hover-fill-color: #FFFFFF;\n",
              "      --disabled-bg-color: #3B4455;\n",
              "      --disabled-fill-color: #666;\n",
              "  }\n",
              "\n",
              "  .colab-df-quickchart {\n",
              "    background-color: var(--bg-color);\n",
              "    border: none;\n",
              "    border-radius: 50%;\n",
              "    cursor: pointer;\n",
              "    display: none;\n",
              "    fill: var(--fill-color);\n",
              "    height: 32px;\n",
              "    padding: 0;\n",
              "    width: 32px;\n",
              "  }\n",
              "\n",
              "  .colab-df-quickchart:hover {\n",
              "    background-color: var(--hover-bg-color);\n",
              "    box-shadow: 0 1px 2px rgba(60, 64, 67, 0.3), 0 1px 3px 1px rgba(60, 64, 67, 0.15);\n",
              "    fill: var(--button-hover-fill-color);\n",
              "  }\n",
              "\n",
              "  .colab-df-quickchart-complete:disabled,\n",
              "  .colab-df-quickchart-complete:disabled:hover {\n",
              "    background-color: var(--disabled-bg-color);\n",
              "    fill: var(--disabled-fill-color);\n",
              "    box-shadow: none;\n",
              "  }\n",
              "\n",
              "  .colab-df-spinner {\n",
              "    border: 2px solid var(--fill-color);\n",
              "    border-color: transparent;\n",
              "    border-bottom-color: var(--fill-color);\n",
              "    animation:\n",
              "      spin 1s steps(1) infinite;\n",
              "  }\n",
              "\n",
              "  @keyframes spin {\n",
              "    0% {\n",
              "      border-color: transparent;\n",
              "      border-bottom-color: var(--fill-color);\n",
              "      border-left-color: var(--fill-color);\n",
              "    }\n",
              "    20% {\n",
              "      border-color: transparent;\n",
              "      border-left-color: var(--fill-color);\n",
              "      border-top-color: var(--fill-color);\n",
              "    }\n",
              "    30% {\n",
              "      border-color: transparent;\n",
              "      border-left-color: var(--fill-color);\n",
              "      border-top-color: var(--fill-color);\n",
              "      border-right-color: var(--fill-color);\n",
              "    }\n",
              "    40% {\n",
              "      border-color: transparent;\n",
              "      border-right-color: var(--fill-color);\n",
              "      border-top-color: var(--fill-color);\n",
              "    }\n",
              "    60% {\n",
              "      border-color: transparent;\n",
              "      border-right-color: var(--fill-color);\n",
              "    }\n",
              "    80% {\n",
              "      border-color: transparent;\n",
              "      border-right-color: var(--fill-color);\n",
              "      border-bottom-color: var(--fill-color);\n",
              "    }\n",
              "    90% {\n",
              "      border-color: transparent;\n",
              "      border-bottom-color: var(--fill-color);\n",
              "    }\n",
              "  }\n",
              "</style>\n",
              "\n",
              "  <script>\n",
              "    async function quickchart(key) {\n",
              "      const quickchartButtonEl =\n",
              "        document.querySelector('#' + key + ' button');\n",
              "      quickchartButtonEl.disabled = true;  // To prevent multiple clicks.\n",
              "      quickchartButtonEl.classList.add('colab-df-spinner');\n",
              "      try {\n",
              "        const charts = await google.colab.kernel.invokeFunction(\n",
              "            'suggestCharts', [key], {});\n",
              "      } catch (error) {\n",
              "        console.error('Error during call to suggestCharts:', error);\n",
              "      }\n",
              "      quickchartButtonEl.classList.remove('colab-df-spinner');\n",
              "      quickchartButtonEl.classList.add('colab-df-quickchart-complete');\n",
              "    }\n",
              "    (() => {\n",
              "      let quickchartButtonEl =\n",
              "        document.querySelector('#df-8e8a17c5-5d6b-409c-b39f-8c7858f8b00b button');\n",
              "      quickchartButtonEl.style.display =\n",
              "        google.colab.kernel.accessAllowed ? 'block' : 'none';\n",
              "    })();\n",
              "  </script>\n",
              "</div>\n",
              "\n",
              "    </div>\n",
              "  </div>\n"
            ],
            "application/vnd.google.colaboratory.intrinsic+json": {
              "type": "dataframe",
              "summary": "{\n  \"name\": \"iris_data\",\n  \"rows\": 8,\n  \"fields\": [\n    {\n      \"column\": \"Id\",\n      \"properties\": {\n        \"dtype\": \"number\",\n        \"std\": 53.756293020494844,\n        \"min\": 1.0,\n        \"max\": 150.0,\n        \"num_unique_values\": 6,\n        \"samples\": [\n          150.0,\n          75.5,\n          112.75\n        ],\n        \"semantic_type\": \"\",\n        \"description\": \"\"\n      }\n    },\n    {\n      \"column\": \"SepalLengthCm\",\n      \"properties\": {\n        \"dtype\": \"number\",\n        \"std\": 51.24711349471842,\n        \"min\": 0.8280661279778629,\n        \"max\": 150.0,\n        \"num_unique_values\": 8,\n        \"samples\": [\n          5.843333333333334,\n          5.8,\n          150.0\n        ],\n        \"semantic_type\": \"\",\n        \"description\": \"\"\n      }\n    },\n    {\n      \"column\": \"SepalWidthCm\",\n      \"properties\": {\n        \"dtype\": \"number\",\n        \"std\": 52.08647211421483,\n        \"min\": 0.4335943113621737,\n        \"max\": 150.0,\n        \"num_unique_values\": 8,\n        \"samples\": [\n          3.0540000000000003,\n          3.0,\n          150.0\n        ],\n        \"semantic_type\": \"\",\n        \"description\": \"\"\n      }\n    },\n    {\n      \"column\": \"PetalLengthCm\",\n      \"properties\": {\n        \"dtype\": \"number\",\n        \"std\": 51.835227940958106,\n        \"min\": 1.0,\n        \"max\": 150.0,\n        \"num_unique_values\": 8,\n        \"samples\": [\n          3.758666666666666,\n          4.35,\n          150.0\n        ],\n        \"semantic_type\": \"\",\n        \"description\": \"\"\n      }\n    },\n    {\n      \"column\": \"PetalWidthCm\",\n      \"properties\": {\n        \"dtype\": \"number\",\n        \"std\": 52.63663424340991,\n        \"min\": 0.1,\n        \"max\": 150.0,\n        \"num_unique_values\": 8,\n        \"samples\": [\n          1.1986666666666668,\n          1.3,\n          150.0\n        ],\n        \"semantic_type\": \"\",\n        \"description\": \"\"\n      }\n    }\n  ]\n}"
            }
          },
          "metadata": {},
          "execution_count": 236
        }
      ]
    },
    {
      "cell_type": "code",
      "metadata": {
        "id": "YUJSpkajnZj3",
        "colab": {
          "base_uri": "https://localhost:8080/",
          "height": 363
        },
        "outputId": "957b9081-61bd-438b-c25c-4d0190864fd9"
      },
      "source": [
        "## get a random sample of 10 entries from the data:\n",
        "iris_data.sample(10)"
      ],
      "execution_count": 237,
      "outputs": [
        {
          "output_type": "execute_result",
          "data": {
            "text/plain": [
              "      Id  SepalLengthCm  SepalWidthCm  PetalLengthCm  PetalWidthCm  \\\n",
              "114  115            5.8           2.8            5.1           2.4   \n",
              "62    63            6.0           2.2            4.0           1.0   \n",
              "33    34            5.5           4.2            1.4           0.2   \n",
              "107  108            7.3           2.9            6.3           1.8   \n",
              "7      8            5.0           3.4            1.5           0.2   \n",
              "100  101            6.3           3.3            6.0           2.5   \n",
              "40    41            5.0           3.5            1.3           0.3   \n",
              "86    87            6.7           3.1            4.7           1.5   \n",
              "76    77            6.8           2.8            4.8           1.4   \n",
              "71    72            6.1           2.8            4.0           1.3   \n",
              "\n",
              "             Species  \n",
              "114   Iris-virginica  \n",
              "62   Iris-versicolor  \n",
              "33       Iris-setosa  \n",
              "107   Iris-virginica  \n",
              "7        Iris-setosa  \n",
              "100   Iris-virginica  \n",
              "40       Iris-setosa  \n",
              "86   Iris-versicolor  \n",
              "76   Iris-versicolor  \n",
              "71   Iris-versicolor  "
            ],
            "text/html": [
              "\n",
              "  <div id=\"df-43fa3a30-392b-461d-899c-5f609e4bd634\" class=\"colab-df-container\">\n",
              "    <div>\n",
              "<style scoped>\n",
              "    .dataframe tbody tr th:only-of-type {\n",
              "        vertical-align: middle;\n",
              "    }\n",
              "\n",
              "    .dataframe tbody tr th {\n",
              "        vertical-align: top;\n",
              "    }\n",
              "\n",
              "    .dataframe thead th {\n",
              "        text-align: right;\n",
              "    }\n",
              "</style>\n",
              "<table border=\"1\" class=\"dataframe\">\n",
              "  <thead>\n",
              "    <tr style=\"text-align: right;\">\n",
              "      <th></th>\n",
              "      <th>Id</th>\n",
              "      <th>SepalLengthCm</th>\n",
              "      <th>SepalWidthCm</th>\n",
              "      <th>PetalLengthCm</th>\n",
              "      <th>PetalWidthCm</th>\n",
              "      <th>Species</th>\n",
              "    </tr>\n",
              "  </thead>\n",
              "  <tbody>\n",
              "    <tr>\n",
              "      <th>114</th>\n",
              "      <td>115</td>\n",
              "      <td>5.8</td>\n",
              "      <td>2.8</td>\n",
              "      <td>5.1</td>\n",
              "      <td>2.4</td>\n",
              "      <td>Iris-virginica</td>\n",
              "    </tr>\n",
              "    <tr>\n",
              "      <th>62</th>\n",
              "      <td>63</td>\n",
              "      <td>6.0</td>\n",
              "      <td>2.2</td>\n",
              "      <td>4.0</td>\n",
              "      <td>1.0</td>\n",
              "      <td>Iris-versicolor</td>\n",
              "    </tr>\n",
              "    <tr>\n",
              "      <th>33</th>\n",
              "      <td>34</td>\n",
              "      <td>5.5</td>\n",
              "      <td>4.2</td>\n",
              "      <td>1.4</td>\n",
              "      <td>0.2</td>\n",
              "      <td>Iris-setosa</td>\n",
              "    </tr>\n",
              "    <tr>\n",
              "      <th>107</th>\n",
              "      <td>108</td>\n",
              "      <td>7.3</td>\n",
              "      <td>2.9</td>\n",
              "      <td>6.3</td>\n",
              "      <td>1.8</td>\n",
              "      <td>Iris-virginica</td>\n",
              "    </tr>\n",
              "    <tr>\n",
              "      <th>7</th>\n",
              "      <td>8</td>\n",
              "      <td>5.0</td>\n",
              "      <td>3.4</td>\n",
              "      <td>1.5</td>\n",
              "      <td>0.2</td>\n",
              "      <td>Iris-setosa</td>\n",
              "    </tr>\n",
              "    <tr>\n",
              "      <th>100</th>\n",
              "      <td>101</td>\n",
              "      <td>6.3</td>\n",
              "      <td>3.3</td>\n",
              "      <td>6.0</td>\n",
              "      <td>2.5</td>\n",
              "      <td>Iris-virginica</td>\n",
              "    </tr>\n",
              "    <tr>\n",
              "      <th>40</th>\n",
              "      <td>41</td>\n",
              "      <td>5.0</td>\n",
              "      <td>3.5</td>\n",
              "      <td>1.3</td>\n",
              "      <td>0.3</td>\n",
              "      <td>Iris-setosa</td>\n",
              "    </tr>\n",
              "    <tr>\n",
              "      <th>86</th>\n",
              "      <td>87</td>\n",
              "      <td>6.7</td>\n",
              "      <td>3.1</td>\n",
              "      <td>4.7</td>\n",
              "      <td>1.5</td>\n",
              "      <td>Iris-versicolor</td>\n",
              "    </tr>\n",
              "    <tr>\n",
              "      <th>76</th>\n",
              "      <td>77</td>\n",
              "      <td>6.8</td>\n",
              "      <td>2.8</td>\n",
              "      <td>4.8</td>\n",
              "      <td>1.4</td>\n",
              "      <td>Iris-versicolor</td>\n",
              "    </tr>\n",
              "    <tr>\n",
              "      <th>71</th>\n",
              "      <td>72</td>\n",
              "      <td>6.1</td>\n",
              "      <td>2.8</td>\n",
              "      <td>4.0</td>\n",
              "      <td>1.3</td>\n",
              "      <td>Iris-versicolor</td>\n",
              "    </tr>\n",
              "  </tbody>\n",
              "</table>\n",
              "</div>\n",
              "    <div class=\"colab-df-buttons\">\n",
              "\n",
              "  <div class=\"colab-df-container\">\n",
              "    <button class=\"colab-df-convert\" onclick=\"convertToInteractive('df-43fa3a30-392b-461d-899c-5f609e4bd634')\"\n",
              "            title=\"Convert this dataframe to an interactive table.\"\n",
              "            style=\"display:none;\">\n",
              "\n",
              "  <svg xmlns=\"http://www.w3.org/2000/svg\" height=\"24px\" viewBox=\"0 -960 960 960\">\n",
              "    <path d=\"M120-120v-720h720v720H120Zm60-500h600v-160H180v160Zm220 220h160v-160H400v160Zm0 220h160v-160H400v160ZM180-400h160v-160H180v160Zm440 0h160v-160H620v160ZM180-180h160v-160H180v160Zm440 0h160v-160H620v160Z\"/>\n",
              "  </svg>\n",
              "    </button>\n",
              "\n",
              "  <style>\n",
              "    .colab-df-container {\n",
              "      display:flex;\n",
              "      gap: 12px;\n",
              "    }\n",
              "\n",
              "    .colab-df-convert {\n",
              "      background-color: #E8F0FE;\n",
              "      border: none;\n",
              "      border-radius: 50%;\n",
              "      cursor: pointer;\n",
              "      display: none;\n",
              "      fill: #1967D2;\n",
              "      height: 32px;\n",
              "      padding: 0 0 0 0;\n",
              "      width: 32px;\n",
              "    }\n",
              "\n",
              "    .colab-df-convert:hover {\n",
              "      background-color: #E2EBFA;\n",
              "      box-shadow: 0px 1px 2px rgba(60, 64, 67, 0.3), 0px 1px 3px 1px rgba(60, 64, 67, 0.15);\n",
              "      fill: #174EA6;\n",
              "    }\n",
              "\n",
              "    .colab-df-buttons div {\n",
              "      margin-bottom: 4px;\n",
              "    }\n",
              "\n",
              "    [theme=dark] .colab-df-convert {\n",
              "      background-color: #3B4455;\n",
              "      fill: #D2E3FC;\n",
              "    }\n",
              "\n",
              "    [theme=dark] .colab-df-convert:hover {\n",
              "      background-color: #434B5C;\n",
              "      box-shadow: 0px 1px 3px 1px rgba(0, 0, 0, 0.15);\n",
              "      filter: drop-shadow(0px 1px 2px rgba(0, 0, 0, 0.3));\n",
              "      fill: #FFFFFF;\n",
              "    }\n",
              "  </style>\n",
              "\n",
              "    <script>\n",
              "      const buttonEl =\n",
              "        document.querySelector('#df-43fa3a30-392b-461d-899c-5f609e4bd634 button.colab-df-convert');\n",
              "      buttonEl.style.display =\n",
              "        google.colab.kernel.accessAllowed ? 'block' : 'none';\n",
              "\n",
              "      async function convertToInteractive(key) {\n",
              "        const element = document.querySelector('#df-43fa3a30-392b-461d-899c-5f609e4bd634');\n",
              "        const dataTable =\n",
              "          await google.colab.kernel.invokeFunction('convertToInteractive',\n",
              "                                                    [key], {});\n",
              "        if (!dataTable) return;\n",
              "\n",
              "        const docLinkHtml = 'Like what you see? Visit the ' +\n",
              "          '<a target=\"_blank\" href=https://colab.research.google.com/notebooks/data_table.ipynb>data table notebook</a>'\n",
              "          + ' to learn more about interactive tables.';\n",
              "        element.innerHTML = '';\n",
              "        dataTable['output_type'] = 'display_data';\n",
              "        await google.colab.output.renderOutput(dataTable, element);\n",
              "        const docLink = document.createElement('div');\n",
              "        docLink.innerHTML = docLinkHtml;\n",
              "        element.appendChild(docLink);\n",
              "      }\n",
              "    </script>\n",
              "  </div>\n",
              "\n",
              "\n",
              "<div id=\"df-45252cb0-eabc-45f4-a8df-e8d000813919\">\n",
              "  <button class=\"colab-df-quickchart\" onclick=\"quickchart('df-45252cb0-eabc-45f4-a8df-e8d000813919')\"\n",
              "            title=\"Suggest charts\"\n",
              "            style=\"display:none;\">\n",
              "\n",
              "<svg xmlns=\"http://www.w3.org/2000/svg\" height=\"24px\"viewBox=\"0 0 24 24\"\n",
              "     width=\"24px\">\n",
              "    <g>\n",
              "        <path d=\"M19 3H5c-1.1 0-2 .9-2 2v14c0 1.1.9 2 2 2h14c1.1 0 2-.9 2-2V5c0-1.1-.9-2-2-2zM9 17H7v-7h2v7zm4 0h-2V7h2v10zm4 0h-2v-4h2v4z\"/>\n",
              "    </g>\n",
              "</svg>\n",
              "  </button>\n",
              "\n",
              "<style>\n",
              "  .colab-df-quickchart {\n",
              "      --bg-color: #E8F0FE;\n",
              "      --fill-color: #1967D2;\n",
              "      --hover-bg-color: #E2EBFA;\n",
              "      --hover-fill-color: #174EA6;\n",
              "      --disabled-fill-color: #AAA;\n",
              "      --disabled-bg-color: #DDD;\n",
              "  }\n",
              "\n",
              "  [theme=dark] .colab-df-quickchart {\n",
              "      --bg-color: #3B4455;\n",
              "      --fill-color: #D2E3FC;\n",
              "      --hover-bg-color: #434B5C;\n",
              "      --hover-fill-color: #FFFFFF;\n",
              "      --disabled-bg-color: #3B4455;\n",
              "      --disabled-fill-color: #666;\n",
              "  }\n",
              "\n",
              "  .colab-df-quickchart {\n",
              "    background-color: var(--bg-color);\n",
              "    border: none;\n",
              "    border-radius: 50%;\n",
              "    cursor: pointer;\n",
              "    display: none;\n",
              "    fill: var(--fill-color);\n",
              "    height: 32px;\n",
              "    padding: 0;\n",
              "    width: 32px;\n",
              "  }\n",
              "\n",
              "  .colab-df-quickchart:hover {\n",
              "    background-color: var(--hover-bg-color);\n",
              "    box-shadow: 0 1px 2px rgba(60, 64, 67, 0.3), 0 1px 3px 1px rgba(60, 64, 67, 0.15);\n",
              "    fill: var(--button-hover-fill-color);\n",
              "  }\n",
              "\n",
              "  .colab-df-quickchart-complete:disabled,\n",
              "  .colab-df-quickchart-complete:disabled:hover {\n",
              "    background-color: var(--disabled-bg-color);\n",
              "    fill: var(--disabled-fill-color);\n",
              "    box-shadow: none;\n",
              "  }\n",
              "\n",
              "  .colab-df-spinner {\n",
              "    border: 2px solid var(--fill-color);\n",
              "    border-color: transparent;\n",
              "    border-bottom-color: var(--fill-color);\n",
              "    animation:\n",
              "      spin 1s steps(1) infinite;\n",
              "  }\n",
              "\n",
              "  @keyframes spin {\n",
              "    0% {\n",
              "      border-color: transparent;\n",
              "      border-bottom-color: var(--fill-color);\n",
              "      border-left-color: var(--fill-color);\n",
              "    }\n",
              "    20% {\n",
              "      border-color: transparent;\n",
              "      border-left-color: var(--fill-color);\n",
              "      border-top-color: var(--fill-color);\n",
              "    }\n",
              "    30% {\n",
              "      border-color: transparent;\n",
              "      border-left-color: var(--fill-color);\n",
              "      border-top-color: var(--fill-color);\n",
              "      border-right-color: var(--fill-color);\n",
              "    }\n",
              "    40% {\n",
              "      border-color: transparent;\n",
              "      border-right-color: var(--fill-color);\n",
              "      border-top-color: var(--fill-color);\n",
              "    }\n",
              "    60% {\n",
              "      border-color: transparent;\n",
              "      border-right-color: var(--fill-color);\n",
              "    }\n",
              "    80% {\n",
              "      border-color: transparent;\n",
              "      border-right-color: var(--fill-color);\n",
              "      border-bottom-color: var(--fill-color);\n",
              "    }\n",
              "    90% {\n",
              "      border-color: transparent;\n",
              "      border-bottom-color: var(--fill-color);\n",
              "    }\n",
              "  }\n",
              "</style>\n",
              "\n",
              "  <script>\n",
              "    async function quickchart(key) {\n",
              "      const quickchartButtonEl =\n",
              "        document.querySelector('#' + key + ' button');\n",
              "      quickchartButtonEl.disabled = true;  // To prevent multiple clicks.\n",
              "      quickchartButtonEl.classList.add('colab-df-spinner');\n",
              "      try {\n",
              "        const charts = await google.colab.kernel.invokeFunction(\n",
              "            'suggestCharts', [key], {});\n",
              "      } catch (error) {\n",
              "        console.error('Error during call to suggestCharts:', error);\n",
              "      }\n",
              "      quickchartButtonEl.classList.remove('colab-df-spinner');\n",
              "      quickchartButtonEl.classList.add('colab-df-quickchart-complete');\n",
              "    }\n",
              "    (() => {\n",
              "      let quickchartButtonEl =\n",
              "        document.querySelector('#df-45252cb0-eabc-45f4-a8df-e8d000813919 button');\n",
              "      quickchartButtonEl.style.display =\n",
              "        google.colab.kernel.accessAllowed ? 'block' : 'none';\n",
              "    })();\n",
              "  </script>\n",
              "</div>\n",
              "\n",
              "    </div>\n",
              "  </div>\n"
            ],
            "application/vnd.google.colaboratory.intrinsic+json": {
              "type": "dataframe",
              "summary": "{\n  \"name\": \"iris_data\",\n  \"rows\": 10,\n  \"fields\": [\n    {\n      \"column\": \"Id\",\n      \"properties\": {\n        \"dtype\": \"number\",\n        \"std\": 34,\n        \"min\": 8,\n        \"max\": 115,\n        \"num_unique_values\": 10,\n        \"samples\": [\n          77,\n          63,\n          101\n        ],\n        \"semantic_type\": \"\",\n        \"description\": \"\"\n      }\n    },\n    {\n      \"column\": \"SepalLengthCm\",\n      \"properties\": {\n        \"dtype\": \"number\",\n        \"std\": 0.75901983578238,\n        \"min\": 5.0,\n        \"max\": 7.3,\n        \"num_unique_values\": 9,\n        \"samples\": [\n          6.8,\n          6.0,\n          6.3\n        ],\n        \"semantic_type\": \"\",\n        \"description\": \"\"\n      }\n    },\n    {\n      \"column\": \"SepalWidthCm\",\n      \"properties\": {\n        \"dtype\": \"number\",\n        \"std\": 0.5395471352079548,\n        \"min\": 2.2,\n        \"max\": 4.2,\n        \"num_unique_values\": 8,\n        \"samples\": [\n          2.2,\n          3.3,\n          2.8\n        ],\n        \"semantic_type\": \"\",\n        \"description\": \"\"\n      }\n    },\n    {\n      \"column\": \"PetalLengthCm\",\n      \"properties\": {\n        \"dtype\": \"number\",\n        \"std\": 1.881163942291521,\n        \"min\": 1.3,\n        \"max\": 6.3,\n        \"num_unique_values\": 9,\n        \"samples\": [\n          4.7,\n          4.0,\n          6.0\n        ],\n        \"semantic_type\": \"\",\n        \"description\": \"\"\n      }\n    },\n    {\n      \"column\": \"PetalWidthCm\",\n      \"properties\": {\n        \"dtype\": \"number\",\n        \"std\": 0.8461678320522472,\n        \"min\": 0.2,\n        \"max\": 2.5,\n        \"num_unique_values\": 9,\n        \"samples\": [\n          1.4,\n          1.0,\n          0.3\n        ],\n        \"semantic_type\": \"\",\n        \"description\": \"\"\n      }\n    },\n    {\n      \"column\": \"Species\",\n      \"properties\": {\n        \"dtype\": \"category\",\n        \"num_unique_values\": 3,\n        \"samples\": [\n          \"Iris-virginica\",\n          \"Iris-versicolor\",\n          \"Iris-setosa\"\n        ],\n        \"semantic_type\": \"\",\n        \"description\": \"\"\n      }\n    }\n  ]\n}"
            }
          },
          "metadata": {},
          "execution_count": 237
        }
      ]
    },
    {
      "cell_type": "markdown",
      "metadata": {
        "id": "HuH4RFgfnZj4"
      },
      "source": [
        "**NOTICE** `head` returns n-elements from the begining, but `sample` returns n-elements randomly from the entire dataset"
      ]
    },
    {
      "cell_type": "markdown",
      "metadata": {
        "id": "QdN-TtVlnZj4"
      },
      "source": [
        "## Indexing in Pandas\n",
        "1. We can index throw the dataframe as if it were an 2D array using the `iloc`.\n",
        "\n",
        "For example, to get all entries of the 3rd row starting from the 2nd column:"
      ]
    },
    {
      "cell_type": "code",
      "metadata": {
        "id": "QGQoBUVqnZj4",
        "colab": {
          "base_uri": "https://localhost:8080/",
          "height": 241
        },
        "outputId": "3d338854-10f2-4a9c-a9d2-c18915a399af"
      },
      "source": [
        "iris_data.iloc[2, 1:]"
      ],
      "execution_count": 238,
      "outputs": [
        {
          "output_type": "execute_result",
          "data": {
            "text/plain": [
              "SepalLengthCm            4.7\n",
              "SepalWidthCm             3.2\n",
              "PetalLengthCm            1.3\n",
              "PetalWidthCm             0.2\n",
              "Species          Iris-setosa\n",
              "Name: 2, dtype: object"
            ],
            "text/html": [
              "<div>\n",
              "<style scoped>\n",
              "    .dataframe tbody tr th:only-of-type {\n",
              "        vertical-align: middle;\n",
              "    }\n",
              "\n",
              "    .dataframe tbody tr th {\n",
              "        vertical-align: top;\n",
              "    }\n",
              "\n",
              "    .dataframe thead th {\n",
              "        text-align: right;\n",
              "    }\n",
              "</style>\n",
              "<table border=\"1\" class=\"dataframe\">\n",
              "  <thead>\n",
              "    <tr style=\"text-align: right;\">\n",
              "      <th></th>\n",
              "      <th>2</th>\n",
              "    </tr>\n",
              "  </thead>\n",
              "  <tbody>\n",
              "    <tr>\n",
              "      <th>SepalLengthCm</th>\n",
              "      <td>4.7</td>\n",
              "    </tr>\n",
              "    <tr>\n",
              "      <th>SepalWidthCm</th>\n",
              "      <td>3.2</td>\n",
              "    </tr>\n",
              "    <tr>\n",
              "      <th>PetalLengthCm</th>\n",
              "      <td>1.3</td>\n",
              "    </tr>\n",
              "    <tr>\n",
              "      <th>PetalWidthCm</th>\n",
              "      <td>0.2</td>\n",
              "    </tr>\n",
              "    <tr>\n",
              "      <th>Species</th>\n",
              "      <td>Iris-setosa</td>\n",
              "    </tr>\n",
              "  </tbody>\n",
              "</table>\n",
              "</div><br><label><b>dtype:</b> object</label>"
            ]
          },
          "metadata": {},
          "execution_count": 238
        }
      ]
    },
    {
      "cell_type": "markdown",
      "metadata": {
        "id": "BxQY2ZVvnZj5"
      },
      "source": [
        "2. We can index a dataframe column by name"
      ]
    },
    {
      "cell_type": "code",
      "metadata": {
        "id": "0JVRRPRrnZj6",
        "colab": {
          "base_uri": "https://localhost:8080/",
          "height": 458
        },
        "outputId": "bc059662-d871-4d2c-acac-53bfc9f167fd"
      },
      "source": [
        "iris_data.SepalLengthCm ## returns all the entries of the column 'SepalLengthCm'\n",
        "\n",
        "## Equivalent to iris_data['SepalLengthCm']"
      ],
      "execution_count": 239,
      "outputs": [
        {
          "output_type": "execute_result",
          "data": {
            "text/plain": [
              "0      5.1\n",
              "1      4.9\n",
              "2      4.7\n",
              "3      4.6\n",
              "4      5.0\n",
              "      ... \n",
              "145    6.7\n",
              "146    6.3\n",
              "147    6.5\n",
              "148    6.2\n",
              "149    5.9\n",
              "Name: SepalLengthCm, Length: 150, dtype: float64"
            ],
            "text/html": [
              "<div>\n",
              "<style scoped>\n",
              "    .dataframe tbody tr th:only-of-type {\n",
              "        vertical-align: middle;\n",
              "    }\n",
              "\n",
              "    .dataframe tbody tr th {\n",
              "        vertical-align: top;\n",
              "    }\n",
              "\n",
              "    .dataframe thead th {\n",
              "        text-align: right;\n",
              "    }\n",
              "</style>\n",
              "<table border=\"1\" class=\"dataframe\">\n",
              "  <thead>\n",
              "    <tr style=\"text-align: right;\">\n",
              "      <th></th>\n",
              "      <th>SepalLengthCm</th>\n",
              "    </tr>\n",
              "  </thead>\n",
              "  <tbody>\n",
              "    <tr>\n",
              "      <th>0</th>\n",
              "      <td>5.1</td>\n",
              "    </tr>\n",
              "    <tr>\n",
              "      <th>1</th>\n",
              "      <td>4.9</td>\n",
              "    </tr>\n",
              "    <tr>\n",
              "      <th>2</th>\n",
              "      <td>4.7</td>\n",
              "    </tr>\n",
              "    <tr>\n",
              "      <th>3</th>\n",
              "      <td>4.6</td>\n",
              "    </tr>\n",
              "    <tr>\n",
              "      <th>4</th>\n",
              "      <td>5.0</td>\n",
              "    </tr>\n",
              "    <tr>\n",
              "      <th>...</th>\n",
              "      <td>...</td>\n",
              "    </tr>\n",
              "    <tr>\n",
              "      <th>145</th>\n",
              "      <td>6.7</td>\n",
              "    </tr>\n",
              "    <tr>\n",
              "      <th>146</th>\n",
              "      <td>6.3</td>\n",
              "    </tr>\n",
              "    <tr>\n",
              "      <th>147</th>\n",
              "      <td>6.5</td>\n",
              "    </tr>\n",
              "    <tr>\n",
              "      <th>148</th>\n",
              "      <td>6.2</td>\n",
              "    </tr>\n",
              "    <tr>\n",
              "      <th>149</th>\n",
              "      <td>5.9</td>\n",
              "    </tr>\n",
              "  </tbody>\n",
              "</table>\n",
              "<p>150 rows × 1 columns</p>\n",
              "</div><br><label><b>dtype:</b> float64</label>"
            ]
          },
          "metadata": {},
          "execution_count": 239
        }
      ]
    },
    {
      "cell_type": "markdown",
      "metadata": {
        "id": "YV6cdt94nZj7"
      },
      "source": [
        "3. We can use Masked Indexing as well\n",
        "\n",
        "For example, to get all entries of the column 'SepalLengthCm' that are under 5 centimeters:"
      ]
    },
    {
      "cell_type": "code",
      "metadata": {
        "id": "FAns2mW4nZj7",
        "colab": {
          "base_uri": "https://localhost:8080/",
          "height": 739
        },
        "outputId": "33d6b5a6-adfb-455f-f5d9-36d1bd3d5c94"
      },
      "source": [
        "iris_data[iris_data.SepalLengthCm < 5]"
      ],
      "execution_count": 240,
      "outputs": [
        {
          "output_type": "execute_result",
          "data": {
            "text/plain": [
              "      Id  SepalLengthCm  SepalWidthCm  PetalLengthCm  PetalWidthCm  \\\n",
              "1      2            4.9           3.0            1.4           0.2   \n",
              "2      3            4.7           3.2            1.3           0.2   \n",
              "3      4            4.6           3.1            1.5           0.2   \n",
              "6      7            4.6           3.4            1.4           0.3   \n",
              "8      9            4.4           2.9            1.4           0.2   \n",
              "9     10            4.9           3.1            1.5           0.1   \n",
              "11    12            4.8           3.4            1.6           0.2   \n",
              "12    13            4.8           3.0            1.4           0.1   \n",
              "13    14            4.3           3.0            1.1           0.1   \n",
              "22    23            4.6           3.6            1.0           0.2   \n",
              "24    25            4.8           3.4            1.9           0.2   \n",
              "29    30            4.7           3.2            1.6           0.2   \n",
              "30    31            4.8           3.1            1.6           0.2   \n",
              "34    35            4.9           3.1            1.5           0.1   \n",
              "37    38            4.9           3.1            1.5           0.1   \n",
              "38    39            4.4           3.0            1.3           0.2   \n",
              "41    42            4.5           2.3            1.3           0.3   \n",
              "42    43            4.4           3.2            1.3           0.2   \n",
              "45    46            4.8           3.0            1.4           0.3   \n",
              "47    48            4.6           3.2            1.4           0.2   \n",
              "57    58            4.9           2.4            3.3           1.0   \n",
              "106  107            4.9           2.5            4.5           1.7   \n",
              "\n",
              "             Species  \n",
              "1        Iris-setosa  \n",
              "2        Iris-setosa  \n",
              "3        Iris-setosa  \n",
              "6        Iris-setosa  \n",
              "8        Iris-setosa  \n",
              "9        Iris-setosa  \n",
              "11       Iris-setosa  \n",
              "12       Iris-setosa  \n",
              "13       Iris-setosa  \n",
              "22       Iris-setosa  \n",
              "24       Iris-setosa  \n",
              "29       Iris-setosa  \n",
              "30       Iris-setosa  \n",
              "34       Iris-setosa  \n",
              "37       Iris-setosa  \n",
              "38       Iris-setosa  \n",
              "41       Iris-setosa  \n",
              "42       Iris-setosa  \n",
              "45       Iris-setosa  \n",
              "47       Iris-setosa  \n",
              "57   Iris-versicolor  \n",
              "106   Iris-virginica  "
            ],
            "text/html": [
              "\n",
              "  <div id=\"df-6a7783cf-db66-4900-8924-54feb9fcf0bb\" class=\"colab-df-container\">\n",
              "    <div>\n",
              "<style scoped>\n",
              "    .dataframe tbody tr th:only-of-type {\n",
              "        vertical-align: middle;\n",
              "    }\n",
              "\n",
              "    .dataframe tbody tr th {\n",
              "        vertical-align: top;\n",
              "    }\n",
              "\n",
              "    .dataframe thead th {\n",
              "        text-align: right;\n",
              "    }\n",
              "</style>\n",
              "<table border=\"1\" class=\"dataframe\">\n",
              "  <thead>\n",
              "    <tr style=\"text-align: right;\">\n",
              "      <th></th>\n",
              "      <th>Id</th>\n",
              "      <th>SepalLengthCm</th>\n",
              "      <th>SepalWidthCm</th>\n",
              "      <th>PetalLengthCm</th>\n",
              "      <th>PetalWidthCm</th>\n",
              "      <th>Species</th>\n",
              "    </tr>\n",
              "  </thead>\n",
              "  <tbody>\n",
              "    <tr>\n",
              "      <th>1</th>\n",
              "      <td>2</td>\n",
              "      <td>4.9</td>\n",
              "      <td>3.0</td>\n",
              "      <td>1.4</td>\n",
              "      <td>0.2</td>\n",
              "      <td>Iris-setosa</td>\n",
              "    </tr>\n",
              "    <tr>\n",
              "      <th>2</th>\n",
              "      <td>3</td>\n",
              "      <td>4.7</td>\n",
              "      <td>3.2</td>\n",
              "      <td>1.3</td>\n",
              "      <td>0.2</td>\n",
              "      <td>Iris-setosa</td>\n",
              "    </tr>\n",
              "    <tr>\n",
              "      <th>3</th>\n",
              "      <td>4</td>\n",
              "      <td>4.6</td>\n",
              "      <td>3.1</td>\n",
              "      <td>1.5</td>\n",
              "      <td>0.2</td>\n",
              "      <td>Iris-setosa</td>\n",
              "    </tr>\n",
              "    <tr>\n",
              "      <th>6</th>\n",
              "      <td>7</td>\n",
              "      <td>4.6</td>\n",
              "      <td>3.4</td>\n",
              "      <td>1.4</td>\n",
              "      <td>0.3</td>\n",
              "      <td>Iris-setosa</td>\n",
              "    </tr>\n",
              "    <tr>\n",
              "      <th>8</th>\n",
              "      <td>9</td>\n",
              "      <td>4.4</td>\n",
              "      <td>2.9</td>\n",
              "      <td>1.4</td>\n",
              "      <td>0.2</td>\n",
              "      <td>Iris-setosa</td>\n",
              "    </tr>\n",
              "    <tr>\n",
              "      <th>9</th>\n",
              "      <td>10</td>\n",
              "      <td>4.9</td>\n",
              "      <td>3.1</td>\n",
              "      <td>1.5</td>\n",
              "      <td>0.1</td>\n",
              "      <td>Iris-setosa</td>\n",
              "    </tr>\n",
              "    <tr>\n",
              "      <th>11</th>\n",
              "      <td>12</td>\n",
              "      <td>4.8</td>\n",
              "      <td>3.4</td>\n",
              "      <td>1.6</td>\n",
              "      <td>0.2</td>\n",
              "      <td>Iris-setosa</td>\n",
              "    </tr>\n",
              "    <tr>\n",
              "      <th>12</th>\n",
              "      <td>13</td>\n",
              "      <td>4.8</td>\n",
              "      <td>3.0</td>\n",
              "      <td>1.4</td>\n",
              "      <td>0.1</td>\n",
              "      <td>Iris-setosa</td>\n",
              "    </tr>\n",
              "    <tr>\n",
              "      <th>13</th>\n",
              "      <td>14</td>\n",
              "      <td>4.3</td>\n",
              "      <td>3.0</td>\n",
              "      <td>1.1</td>\n",
              "      <td>0.1</td>\n",
              "      <td>Iris-setosa</td>\n",
              "    </tr>\n",
              "    <tr>\n",
              "      <th>22</th>\n",
              "      <td>23</td>\n",
              "      <td>4.6</td>\n",
              "      <td>3.6</td>\n",
              "      <td>1.0</td>\n",
              "      <td>0.2</td>\n",
              "      <td>Iris-setosa</td>\n",
              "    </tr>\n",
              "    <tr>\n",
              "      <th>24</th>\n",
              "      <td>25</td>\n",
              "      <td>4.8</td>\n",
              "      <td>3.4</td>\n",
              "      <td>1.9</td>\n",
              "      <td>0.2</td>\n",
              "      <td>Iris-setosa</td>\n",
              "    </tr>\n",
              "    <tr>\n",
              "      <th>29</th>\n",
              "      <td>30</td>\n",
              "      <td>4.7</td>\n",
              "      <td>3.2</td>\n",
              "      <td>1.6</td>\n",
              "      <td>0.2</td>\n",
              "      <td>Iris-setosa</td>\n",
              "    </tr>\n",
              "    <tr>\n",
              "      <th>30</th>\n",
              "      <td>31</td>\n",
              "      <td>4.8</td>\n",
              "      <td>3.1</td>\n",
              "      <td>1.6</td>\n",
              "      <td>0.2</td>\n",
              "      <td>Iris-setosa</td>\n",
              "    </tr>\n",
              "    <tr>\n",
              "      <th>34</th>\n",
              "      <td>35</td>\n",
              "      <td>4.9</td>\n",
              "      <td>3.1</td>\n",
              "      <td>1.5</td>\n",
              "      <td>0.1</td>\n",
              "      <td>Iris-setosa</td>\n",
              "    </tr>\n",
              "    <tr>\n",
              "      <th>37</th>\n",
              "      <td>38</td>\n",
              "      <td>4.9</td>\n",
              "      <td>3.1</td>\n",
              "      <td>1.5</td>\n",
              "      <td>0.1</td>\n",
              "      <td>Iris-setosa</td>\n",
              "    </tr>\n",
              "    <tr>\n",
              "      <th>38</th>\n",
              "      <td>39</td>\n",
              "      <td>4.4</td>\n",
              "      <td>3.0</td>\n",
              "      <td>1.3</td>\n",
              "      <td>0.2</td>\n",
              "      <td>Iris-setosa</td>\n",
              "    </tr>\n",
              "    <tr>\n",
              "      <th>41</th>\n",
              "      <td>42</td>\n",
              "      <td>4.5</td>\n",
              "      <td>2.3</td>\n",
              "      <td>1.3</td>\n",
              "      <td>0.3</td>\n",
              "      <td>Iris-setosa</td>\n",
              "    </tr>\n",
              "    <tr>\n",
              "      <th>42</th>\n",
              "      <td>43</td>\n",
              "      <td>4.4</td>\n",
              "      <td>3.2</td>\n",
              "      <td>1.3</td>\n",
              "      <td>0.2</td>\n",
              "      <td>Iris-setosa</td>\n",
              "    </tr>\n",
              "    <tr>\n",
              "      <th>45</th>\n",
              "      <td>46</td>\n",
              "      <td>4.8</td>\n",
              "      <td>3.0</td>\n",
              "      <td>1.4</td>\n",
              "      <td>0.3</td>\n",
              "      <td>Iris-setosa</td>\n",
              "    </tr>\n",
              "    <tr>\n",
              "      <th>47</th>\n",
              "      <td>48</td>\n",
              "      <td>4.6</td>\n",
              "      <td>3.2</td>\n",
              "      <td>1.4</td>\n",
              "      <td>0.2</td>\n",
              "      <td>Iris-setosa</td>\n",
              "    </tr>\n",
              "    <tr>\n",
              "      <th>57</th>\n",
              "      <td>58</td>\n",
              "      <td>4.9</td>\n",
              "      <td>2.4</td>\n",
              "      <td>3.3</td>\n",
              "      <td>1.0</td>\n",
              "      <td>Iris-versicolor</td>\n",
              "    </tr>\n",
              "    <tr>\n",
              "      <th>106</th>\n",
              "      <td>107</td>\n",
              "      <td>4.9</td>\n",
              "      <td>2.5</td>\n",
              "      <td>4.5</td>\n",
              "      <td>1.7</td>\n",
              "      <td>Iris-virginica</td>\n",
              "    </tr>\n",
              "  </tbody>\n",
              "</table>\n",
              "</div>\n",
              "    <div class=\"colab-df-buttons\">\n",
              "\n",
              "  <div class=\"colab-df-container\">\n",
              "    <button class=\"colab-df-convert\" onclick=\"convertToInteractive('df-6a7783cf-db66-4900-8924-54feb9fcf0bb')\"\n",
              "            title=\"Convert this dataframe to an interactive table.\"\n",
              "            style=\"display:none;\">\n",
              "\n",
              "  <svg xmlns=\"http://www.w3.org/2000/svg\" height=\"24px\" viewBox=\"0 -960 960 960\">\n",
              "    <path d=\"M120-120v-720h720v720H120Zm60-500h600v-160H180v160Zm220 220h160v-160H400v160Zm0 220h160v-160H400v160ZM180-400h160v-160H180v160Zm440 0h160v-160H620v160ZM180-180h160v-160H180v160Zm440 0h160v-160H620v160Z\"/>\n",
              "  </svg>\n",
              "    </button>\n",
              "\n",
              "  <style>\n",
              "    .colab-df-container {\n",
              "      display:flex;\n",
              "      gap: 12px;\n",
              "    }\n",
              "\n",
              "    .colab-df-convert {\n",
              "      background-color: #E8F0FE;\n",
              "      border: none;\n",
              "      border-radius: 50%;\n",
              "      cursor: pointer;\n",
              "      display: none;\n",
              "      fill: #1967D2;\n",
              "      height: 32px;\n",
              "      padding: 0 0 0 0;\n",
              "      width: 32px;\n",
              "    }\n",
              "\n",
              "    .colab-df-convert:hover {\n",
              "      background-color: #E2EBFA;\n",
              "      box-shadow: 0px 1px 2px rgba(60, 64, 67, 0.3), 0px 1px 3px 1px rgba(60, 64, 67, 0.15);\n",
              "      fill: #174EA6;\n",
              "    }\n",
              "\n",
              "    .colab-df-buttons div {\n",
              "      margin-bottom: 4px;\n",
              "    }\n",
              "\n",
              "    [theme=dark] .colab-df-convert {\n",
              "      background-color: #3B4455;\n",
              "      fill: #D2E3FC;\n",
              "    }\n",
              "\n",
              "    [theme=dark] .colab-df-convert:hover {\n",
              "      background-color: #434B5C;\n",
              "      box-shadow: 0px 1px 3px 1px rgba(0, 0, 0, 0.15);\n",
              "      filter: drop-shadow(0px 1px 2px rgba(0, 0, 0, 0.3));\n",
              "      fill: #FFFFFF;\n",
              "    }\n",
              "  </style>\n",
              "\n",
              "    <script>\n",
              "      const buttonEl =\n",
              "        document.querySelector('#df-6a7783cf-db66-4900-8924-54feb9fcf0bb button.colab-df-convert');\n",
              "      buttonEl.style.display =\n",
              "        google.colab.kernel.accessAllowed ? 'block' : 'none';\n",
              "\n",
              "      async function convertToInteractive(key) {\n",
              "        const element = document.querySelector('#df-6a7783cf-db66-4900-8924-54feb9fcf0bb');\n",
              "        const dataTable =\n",
              "          await google.colab.kernel.invokeFunction('convertToInteractive',\n",
              "                                                    [key], {});\n",
              "        if (!dataTable) return;\n",
              "\n",
              "        const docLinkHtml = 'Like what you see? Visit the ' +\n",
              "          '<a target=\"_blank\" href=https://colab.research.google.com/notebooks/data_table.ipynb>data table notebook</a>'\n",
              "          + ' to learn more about interactive tables.';\n",
              "        element.innerHTML = '';\n",
              "        dataTable['output_type'] = 'display_data';\n",
              "        await google.colab.output.renderOutput(dataTable, element);\n",
              "        const docLink = document.createElement('div');\n",
              "        docLink.innerHTML = docLinkHtml;\n",
              "        element.appendChild(docLink);\n",
              "      }\n",
              "    </script>\n",
              "  </div>\n",
              "\n",
              "\n",
              "<div id=\"df-bcfb4fd0-43dd-4c5c-be8f-df0a9cb1aa5e\">\n",
              "  <button class=\"colab-df-quickchart\" onclick=\"quickchart('df-bcfb4fd0-43dd-4c5c-be8f-df0a9cb1aa5e')\"\n",
              "            title=\"Suggest charts\"\n",
              "            style=\"display:none;\">\n",
              "\n",
              "<svg xmlns=\"http://www.w3.org/2000/svg\" height=\"24px\"viewBox=\"0 0 24 24\"\n",
              "     width=\"24px\">\n",
              "    <g>\n",
              "        <path d=\"M19 3H5c-1.1 0-2 .9-2 2v14c0 1.1.9 2 2 2h14c1.1 0 2-.9 2-2V5c0-1.1-.9-2-2-2zM9 17H7v-7h2v7zm4 0h-2V7h2v10zm4 0h-2v-4h2v4z\"/>\n",
              "    </g>\n",
              "</svg>\n",
              "  </button>\n",
              "\n",
              "<style>\n",
              "  .colab-df-quickchart {\n",
              "      --bg-color: #E8F0FE;\n",
              "      --fill-color: #1967D2;\n",
              "      --hover-bg-color: #E2EBFA;\n",
              "      --hover-fill-color: #174EA6;\n",
              "      --disabled-fill-color: #AAA;\n",
              "      --disabled-bg-color: #DDD;\n",
              "  }\n",
              "\n",
              "  [theme=dark] .colab-df-quickchart {\n",
              "      --bg-color: #3B4455;\n",
              "      --fill-color: #D2E3FC;\n",
              "      --hover-bg-color: #434B5C;\n",
              "      --hover-fill-color: #FFFFFF;\n",
              "      --disabled-bg-color: #3B4455;\n",
              "      --disabled-fill-color: #666;\n",
              "  }\n",
              "\n",
              "  .colab-df-quickchart {\n",
              "    background-color: var(--bg-color);\n",
              "    border: none;\n",
              "    border-radius: 50%;\n",
              "    cursor: pointer;\n",
              "    display: none;\n",
              "    fill: var(--fill-color);\n",
              "    height: 32px;\n",
              "    padding: 0;\n",
              "    width: 32px;\n",
              "  }\n",
              "\n",
              "  .colab-df-quickchart:hover {\n",
              "    background-color: var(--hover-bg-color);\n",
              "    box-shadow: 0 1px 2px rgba(60, 64, 67, 0.3), 0 1px 3px 1px rgba(60, 64, 67, 0.15);\n",
              "    fill: var(--button-hover-fill-color);\n",
              "  }\n",
              "\n",
              "  .colab-df-quickchart-complete:disabled,\n",
              "  .colab-df-quickchart-complete:disabled:hover {\n",
              "    background-color: var(--disabled-bg-color);\n",
              "    fill: var(--disabled-fill-color);\n",
              "    box-shadow: none;\n",
              "  }\n",
              "\n",
              "  .colab-df-spinner {\n",
              "    border: 2px solid var(--fill-color);\n",
              "    border-color: transparent;\n",
              "    border-bottom-color: var(--fill-color);\n",
              "    animation:\n",
              "      spin 1s steps(1) infinite;\n",
              "  }\n",
              "\n",
              "  @keyframes spin {\n",
              "    0% {\n",
              "      border-color: transparent;\n",
              "      border-bottom-color: var(--fill-color);\n",
              "      border-left-color: var(--fill-color);\n",
              "    }\n",
              "    20% {\n",
              "      border-color: transparent;\n",
              "      border-left-color: var(--fill-color);\n",
              "      border-top-color: var(--fill-color);\n",
              "    }\n",
              "    30% {\n",
              "      border-color: transparent;\n",
              "      border-left-color: var(--fill-color);\n",
              "      border-top-color: var(--fill-color);\n",
              "      border-right-color: var(--fill-color);\n",
              "    }\n",
              "    40% {\n",
              "      border-color: transparent;\n",
              "      border-right-color: var(--fill-color);\n",
              "      border-top-color: var(--fill-color);\n",
              "    }\n",
              "    60% {\n",
              "      border-color: transparent;\n",
              "      border-right-color: var(--fill-color);\n",
              "    }\n",
              "    80% {\n",
              "      border-color: transparent;\n",
              "      border-right-color: var(--fill-color);\n",
              "      border-bottom-color: var(--fill-color);\n",
              "    }\n",
              "    90% {\n",
              "      border-color: transparent;\n",
              "      border-bottom-color: var(--fill-color);\n",
              "    }\n",
              "  }\n",
              "</style>\n",
              "\n",
              "  <script>\n",
              "    async function quickchart(key) {\n",
              "      const quickchartButtonEl =\n",
              "        document.querySelector('#' + key + ' button');\n",
              "      quickchartButtonEl.disabled = true;  // To prevent multiple clicks.\n",
              "      quickchartButtonEl.classList.add('colab-df-spinner');\n",
              "      try {\n",
              "        const charts = await google.colab.kernel.invokeFunction(\n",
              "            'suggestCharts', [key], {});\n",
              "      } catch (error) {\n",
              "        console.error('Error during call to suggestCharts:', error);\n",
              "      }\n",
              "      quickchartButtonEl.classList.remove('colab-df-spinner');\n",
              "      quickchartButtonEl.classList.add('colab-df-quickchart-complete');\n",
              "    }\n",
              "    (() => {\n",
              "      let quickchartButtonEl =\n",
              "        document.querySelector('#df-bcfb4fd0-43dd-4c5c-be8f-df0a9cb1aa5e button');\n",
              "      quickchartButtonEl.style.display =\n",
              "        google.colab.kernel.accessAllowed ? 'block' : 'none';\n",
              "    })();\n",
              "  </script>\n",
              "</div>\n",
              "\n",
              "    </div>\n",
              "  </div>\n"
            ],
            "application/vnd.google.colaboratory.intrinsic+json": {
              "type": "dataframe",
              "summary": "{\n  \"name\": \"iris_data[iris_data\",\n  \"rows\": 22,\n  \"fields\": [\n    {\n      \"column\": \"Id\",\n      \"properties\": {\n        \"dtype\": \"number\",\n        \"std\": 24,\n        \"min\": 2,\n        \"max\": 107,\n        \"num_unique_values\": 22,\n        \"samples\": [\n          2,\n          35,\n          14\n        ],\n        \"semantic_type\": \"\",\n        \"description\": \"\"\n      }\n    },\n    {\n      \"column\": \"SepalLengthCm\",\n      \"properties\": {\n        \"dtype\": \"number\",\n        \"std\": 0.19495809295501954,\n        \"min\": 4.3,\n        \"max\": 4.9,\n        \"num_unique_values\": 7,\n        \"samples\": [\n          4.9,\n          4.7,\n          4.3\n        ],\n        \"semantic_type\": \"\",\n        \"description\": \"\"\n      }\n    },\n    {\n      \"column\": \"SepalWidthCm\",\n      \"properties\": {\n        \"dtype\": \"number\",\n        \"std\": 0.31581681358068914,\n        \"min\": 2.3,\n        \"max\": 3.6,\n        \"num_unique_values\": 9,\n        \"samples\": [\n          2.4,\n          3.2,\n          3.6\n        ],\n        \"semantic_type\": \"\",\n        \"description\": \"\"\n      }\n    },\n    {\n      \"column\": \"PetalLengthCm\",\n      \"properties\": {\n        \"dtype\": \"number\",\n        \"std\": 0.7744289894756393,\n        \"min\": 1.0,\n        \"max\": 4.5,\n        \"num_unique_values\": 9,\n        \"samples\": [\n          3.3,\n          1.3,\n          1.0\n        ],\n        \"semantic_type\": \"\",\n        \"description\": \"\"\n      }\n    },\n    {\n      \"column\": \"PetalWidthCm\",\n      \"properties\": {\n        \"dtype\": \"number\",\n        \"std\": 0.3631571517719524,\n        \"min\": 0.1,\n        \"max\": 1.7,\n        \"num_unique_values\": 5,\n        \"samples\": [\n          0.3,\n          1.7,\n          0.1\n        ],\n        \"semantic_type\": \"\",\n        \"description\": \"\"\n      }\n    },\n    {\n      \"column\": \"Species\",\n      \"properties\": {\n        \"dtype\": \"category\",\n        \"num_unique_values\": 3,\n        \"samples\": [\n          \"Iris-setosa\",\n          \"Iris-versicolor\",\n          \"Iris-virginica\"\n        ],\n        \"semantic_type\": \"\",\n        \"description\": \"\"\n      }\n    }\n  ]\n}"
            }
          },
          "metadata": {},
          "execution_count": 240
        }
      ]
    },
    {
      "cell_type": "markdown",
      "metadata": {
        "id": "Pewat-AynZjB"
      },
      "source": [
        "## Requirement on NumPy and Pandas\n",
        "\n",
        "Test your knowledge in this requirement"
      ]
    },
    {
      "cell_type": "code",
      "metadata": {
        "id": "8E-dp02odgxB"
      },
      "source": [
        "# Do the necessary imports here as you proceed in the requirement.\n",
        "import numpy as np\n",
        "import pandas as pd\n",
        "import time\n",
        "np.random.seed(0) # Do not change this line"
      ],
      "execution_count": 241,
      "outputs": []
    },
    {
      "cell_type": "code",
      "metadata": {
        "id": "ZXjh05OKnZjC",
        "colab": {
          "base_uri": "https://localhost:8080/"
        },
        "outputId": "acfd776f-d8d0-4c54-9002-f7bbf6fa0462"
      },
      "source": [
        "# [1] Define a numpy array A of zeros of size 3 in one line.\n",
        "A = np.zeros(3)\n",
        "print(A)"
      ],
      "execution_count": 242,
      "outputs": [
        {
          "output_type": "stream",
          "name": "stdout",
          "text": [
            "[0. 0. 0.]\n"
          ]
        }
      ]
    },
    {
      "cell_type": "code",
      "metadata": {
        "id": "pf9UUodinZjD"
      },
      "source": [
        "## Test your code (No errors should be displayed)\n",
        "assert np.any(A!=0) == False, \"All elements of array A should be 0\"\n",
        "assert A.shape[0] == 3, \"Array A should be of shape (3,1) or (3,)\""
      ],
      "execution_count": 243,
      "outputs": []
    },
    {
      "cell_type": "code",
      "metadata": {
        "id": "EEn0GkO7nZjG",
        "colab": {
          "base_uri": "https://localhost:8080/"
        },
        "outputId": "f4c94dcd-2f71-41ee-cb0d-da2b38fca48f"
      },
      "source": [
        "# [2] Define a numpy array B of ones of size 5 x 3 in one line.\n",
        "B = np.ones((5, 3))\n",
        "print(B)"
      ],
      "execution_count": 244,
      "outputs": [
        {
          "output_type": "stream",
          "name": "stdout",
          "text": [
            "[[1. 1. 1.]\n",
            " [1. 1. 1.]\n",
            " [1. 1. 1.]\n",
            " [1. 1. 1.]\n",
            " [1. 1. 1.]]\n"
          ]
        }
      ]
    },
    {
      "cell_type": "code",
      "metadata": {
        "id": "UUKR0GW0nZjI"
      },
      "source": [
        "## Test your code\n",
        "assert np.any(B!=1)==False, \"All elements of array B should be 1\"\n",
        "assert B.shape == (5,3), \"Array B should be of shape (5,3)\""
      ],
      "execution_count": 245,
      "outputs": []
    },
    {
      "cell_type": "markdown",
      "metadata": {
        "id": "xW6ox3V5nZjJ"
      },
      "source": [
        "|  |  |  |  |  |\n",
        "|---|---|---|---|----|\n",
        "| 2 | 4 | 0 | 1 | -3 |\n",
        "| 5 | **3** | **2** | **8** | 7 |\n",
        "| 4 | **6** | **9** | **3** | 2 |\n"
      ]
    },
    {
      "cell_type": "code",
      "metadata": {
        "id": "N0dFkal3nZjK",
        "colab": {
          "base_uri": "https://localhost:8080/"
        },
        "outputId": "b52ec5bc-a72a-4602-a99c-4f689c5f627e"
      },
      "source": [
        "# [3] Define a numpy array C containing the values above in one line\n",
        "C = np.array([[2, 4, 0, 1, -3], [5, 3, 2, 8, 7], [4, 6, 9, 3, 2]])\n",
        "print(C)"
      ],
      "execution_count": 246,
      "outputs": [
        {
          "output_type": "stream",
          "name": "stdout",
          "text": [
            "[[ 2  4  0  1 -3]\n",
            " [ 5  3  2  8  7]\n",
            " [ 4  6  9  3  2]]\n"
          ]
        }
      ]
    },
    {
      "cell_type": "code",
      "metadata": {
        "id": "yQM1cGKVnZjN"
      },
      "source": [
        "## Test your code\n",
        "assert C.shape == (3,5), \"Array C should be of shape (3,5)\""
      ],
      "execution_count": 247,
      "outputs": []
    },
    {
      "cell_type": "code",
      "metadata": {
        "id": "TALj7yE2nZjO",
        "colab": {
          "base_uri": "https://localhost:8080/"
        },
        "outputId": "bb1fdf48-83d1-4469-9cfc-55ad86d990e4"
      },
      "source": [
        "# [4] Transpose the array C and store the transpose in array D.\n",
        "## (Do this using two different methods for transposing the array)\n",
        "D = C.T\n",
        "print(D)"
      ],
      "execution_count": 248,
      "outputs": [
        {
          "output_type": "stream",
          "name": "stdout",
          "text": [
            "[[ 2  5  4]\n",
            " [ 4  3  6]\n",
            " [ 0  2  9]\n",
            " [ 1  8  3]\n",
            " [-3  7  2]]\n"
          ]
        }
      ]
    },
    {
      "cell_type": "code",
      "metadata": {
        "id": "pkzLzyJnnZjP"
      },
      "source": [
        "## Test your code\n",
        "assert D.shape == (5,3), \"Array D should be of shape (5,3)\""
      ],
      "execution_count": 249,
      "outputs": []
    },
    {
      "cell_type": "code",
      "metadata": {
        "id": "ZXr_BEbTnZjQ",
        "colab": {
          "base_uri": "https://localhost:8080/"
        },
        "outputId": "ef3b7fac-ba35-48ea-ef33-3a8085b2b7ce"
      },
      "source": [
        "# [5] Add to every element in C a constant value of 5 and store the array in E in one line.\n",
        "## (What will happen if C was a list and not a numpy array? Provide a textual answer for that question after you try it in a side cell)\n",
        "E = C + 5\n",
        "print(E)"
      ],
      "execution_count": 250,
      "outputs": [
        {
          "output_type": "stream",
          "name": "stdout",
          "text": [
            "[[ 7  9  5  6  2]\n",
            " [10  8  7 13 12]\n",
            " [ 9 11 14  8  7]]\n"
          ]
        }
      ]
    },
    {
      "cell_type": "code",
      "source": [
        "l = [ 7 , 9 , 5 , 6 , 2]\n"
      ],
      "metadata": {
        "id": "yvNE7fObM0BQ"
      },
      "execution_count": 251,
      "outputs": []
    },
    {
      "cell_type": "code",
      "metadata": {
        "id": "LCo9AZtZnZjR"
      },
      "source": [
        "## Test your code\n",
        "assert E.shape == (3,5), \"Array E should be of shape (3,5)\"\n",
        "diff = E - C\n",
        "assert np.all(diff==5), \"E is not correctly calculated\""
      ],
      "execution_count": 252,
      "outputs": []
    },
    {
      "cell_type": "code",
      "metadata": {
        "id": "yPJR52eLnZjT",
        "colab": {
          "base_uri": "https://localhost:8080/"
        },
        "outputId": "f6af684d-171f-4f81-c927-1ff9be5451d4"
      },
      "source": [
        "# [6] Extract the bold elements in C and store the submatrix in array F in one line.\n",
        "F = C[1:, 1:4]\n",
        "print(F)"
      ],
      "execution_count": 253,
      "outputs": [
        {
          "output_type": "stream",
          "name": "stdout",
          "text": [
            "[[3 2 8]\n",
            " [6 9 3]]\n"
          ]
        }
      ]
    },
    {
      "cell_type": "code",
      "metadata": {
        "id": "ZHgOO95SnZjU"
      },
      "source": [
        "## Test your code\n",
        "assert F.shape == (2,3), \"Array F should be of shape (2,3)\"\n",
        "assert F[0,0] == F[1,2] == 3, \"Wrong slicing\""
      ],
      "execution_count": 254,
      "outputs": []
    },
    {
      "cell_type": "code",
      "metadata": {
        "id": "eZoet9_GnZjV",
        "colab": {
          "base_uri": "https://localhost:8080/"
        },
        "outputId": "9dfa8995-b6c3-4cb0-f8aa-8147bf89b103"
      },
      "source": [
        "# [7]  Reshape the matrix C into another array G of shape (1, 15) in one line.\n",
        "## Hint: what does np.reshape(1,-1) do? What does the negative mean here? (Provide a textual answer for that question)\n",
        "G = C.reshape(1,-1)\n",
        "print(G)"
      ],
      "execution_count": 255,
      "outputs": [
        {
          "output_type": "stream",
          "name": "stdout",
          "text": [
            "[[ 2  4  0  1 -3  5  3  2  8  7  4  6  9  3  2]]\n"
          ]
        }
      ]
    },
    {
      "cell_type": "code",
      "metadata": {
        "id": "SSR7HLRqnZjX"
      },
      "source": [
        "## Test your code\n",
        "assert G.shape == (1,15), \"Array G should be of shape (1,15)\""
      ],
      "execution_count": 256,
      "outputs": []
    },
    {
      "cell_type": "code",
      "metadata": {
        "id": "fhtkt8JWnZjc",
        "colab": {
          "base_uri": "https://localhost:8080/"
        },
        "outputId": "ef0eac8b-2aa2-404f-cc79-405195ca3ff0"
      },
      "source": [
        "# [8] Which elements of G are even numbers?\n",
        "# Return a boolean array H such that elements corresponding to even numbers are considered TRUE and those\n",
        "# corresponding to odd numbers are considered FALSE.\n",
        "H = G % 2 == 0\n",
        "print(H)"
      ],
      "execution_count": 257,
      "outputs": [
        {
          "output_type": "stream",
          "name": "stdout",
          "text": [
            "[[ True  True  True False False False False  True  True False  True  True\n",
            "  False False  True]]\n"
          ]
        }
      ]
    },
    {
      "cell_type": "code",
      "metadata": {
        "id": "g5Vs9bTQnZjd"
      },
      "source": [
        "## Test your code\n",
        "assert np.sum(H) == 8, \"Array H returned True for Odd elements\""
      ],
      "execution_count": 258,
      "outputs": []
    },
    {
      "cell_type": "code",
      "metadata": {
        "id": "Wx2oVG9lnZje",
        "colab": {
          "base_uri": "https://localhost:8080/"
        },
        "outputId": "685fee2f-a313-40ad-9dce-972270ee6293"
      },
      "source": [
        "# [9]  Return a vector J containing the actual elements that are even in one line\n",
        "J = G[H]\n",
        "print(J)"
      ],
      "execution_count": 259,
      "outputs": [
        {
          "output_type": "stream",
          "name": "stdout",
          "text": [
            "[2 4 0 2 8 4 6 2]\n"
          ]
        }
      ]
    },
    {
      "cell_type": "code",
      "metadata": {
        "id": "1EzI_kNbnZjg"
      },
      "source": [
        "## Test your code\n",
        "assert np.sum(J)==28, \"Array J returned Odd elements\""
      ],
      "execution_count": 260,
      "outputs": []
    },
    {
      "cell_type": "code",
      "metadata": {
        "id": "EMHW1o-3nZjh",
        "colab": {
          "base_uri": "https://localhost:8080/"
        },
        "outputId": "0bd961b3-9ca4-4956-d119-207492f5785b"
      },
      "source": [
        "np.random.seed(0) #Do not change this line\n",
        "# [10] Define a random array L 5 x 3 in one line. (use np.random.rand(shape))\n",
        "L = np.random.rand(5, 3)\n",
        "print(L)"
      ],
      "execution_count": 261,
      "outputs": [
        {
          "output_type": "stream",
          "name": "stdout",
          "text": [
            "[[0.5488135  0.71518937 0.60276338]\n",
            " [0.54488318 0.4236548  0.64589411]\n",
            " [0.43758721 0.891773   0.96366276]\n",
            " [0.38344152 0.79172504 0.52889492]\n",
            " [0.56804456 0.92559664 0.07103606]]\n"
          ]
        }
      ]
    },
    {
      "cell_type": "code",
      "metadata": {
        "id": "-AZyi-BQnZji"
      },
      "source": [
        "## Test your code\n",
        "assert L.shape == (5,3), \"Array L should be of shape (5,3)\""
      ],
      "execution_count": 262,
      "outputs": []
    },
    {
      "cell_type": "code",
      "metadata": {
        "id": "rnocP6LYnZjj"
      },
      "source": [
        "# [11] What is the difference between np.random.rand() and np.random.randn()?\n",
        "\n",
        "## ANSWER:\n",
        "\n",
        "### HINT: read (https://numpy.org/devdocs/reference/random/generated/numpy.random.randn.html)\n",
        "###       read (https://numpy.org/devdocs/reference/random/generated/numpy.random.rand.html)"
      ],
      "execution_count": 263,
      "outputs": []
    },
    {
      "cell_type": "code",
      "metadata": {
        "id": "vAJocXR8nZjo"
      },
      "source": [
        "# [12] Perform element-wise multiplication between D and L by two different methods, each in one line.\n",
        "element_wise = D * L"
      ],
      "execution_count": 264,
      "outputs": []
    },
    {
      "cell_type": "code",
      "metadata": {
        "id": "BrhL0ufJnZjp"
      },
      "source": [
        "## Test your code\n",
        "assert element_wise.shape == (5,3), \"Element wise multiplication should give array of the same size\""
      ],
      "execution_count": 265,
      "outputs": []
    },
    {
      "cell_type": "code",
      "metadata": {
        "id": "QrZNwk8SnZjq"
      },
      "source": [
        "# [13] Do a matrix multiplication between D and the transpose of L using two different methods, each in one line.\n",
        "mat_multiplication_1 = D@L.T\n",
        "mat_multiplication_2 = np.dot(D,L.T)"
      ],
      "execution_count": 266,
      "outputs": []
    },
    {
      "cell_type": "code",
      "metadata": {
        "id": "KbV7DRWpnZjr"
      },
      "source": [
        "## Test your code\n",
        "assert mat_multiplication_1.shape == (5,5), \"Matrix multiplication of (5*3) and (3,5) should give array of shape (5,5)\"\n",
        "assert mat_multiplication_2.shape == (5,5), \"Matrix multiplication of (5*3) and (3,5) should give array of shape (5,5)\""
      ],
      "execution_count": 267,
      "outputs": []
    },
    {
      "cell_type": "code",
      "metadata": {
        "id": "EaUugvcmnZjs"
      },
      "source": [
        "# [14] We want to implement a function that computes y = sqrt(9-x^2). Write a function that accepts all these calls.\n",
        "## y1 = your_function(3)\n",
        "## y2 = your_function(np.array([3,2]))\n",
        "## y3 = your_function(np.array([3,2,1]))\n",
        "def func(x):\n",
        "  return np.sqrt(9-x**2)\n"
      ],
      "execution_count": 268,
      "outputs": []
    },
    {
      "cell_type": "code",
      "metadata": {
        "id": "s275t6BvmpVs"
      },
      "source": [
        "assert func(3) == 0\n",
        "assert np.all(func(np.array([3,3])) == 0)\n",
        "assert np.all(func(np.array([3,3,3])) == 0)"
      ],
      "execution_count": 269,
      "outputs": []
    },
    {
      "cell_type": "code",
      "metadata": {
        "id": "uZSvw0ymnZju",
        "colab": {
          "base_uri": "https://localhost:8080/"
        },
        "outputId": "79889fff-d6fe-4d56-f612-6f2492c8b19c"
      },
      "source": [
        "np.random.seed(0) #Do not change this line\n",
        "# [15] Generate a random array M of size 100,000 . Use np.random.randint.\n",
        "M = np.random.randint((100000,))\n",
        "\n",
        "# [15a] Retrieve the elements greater than zero using for loop. Place your code between timers as shown.\n",
        "start = time.time()\n",
        "positives = []\n",
        "# TODO: Your code here\n",
        "for i in M:\n",
        "  if(i > 0):\n",
        "    positives.append(i)\n",
        "end = time.time()\n",
        "print(end - start)\n",
        "\n",
        "# [15b] Retrieve the elements greater than zero using list comprehension. Place your code between timers as shown.\n",
        "start = time.time()\n",
        "positives = [i > 0 for i in M]\n",
        "end = time.time()\n",
        "print(end - start)\n",
        "\n",
        "# [15c] Retrieve the elements greater than zero using vectorization (masking). Place your code between timers as shown.\n",
        "start = time.time()\n",
        "positives = M[M>0]\n",
        "end = time.time()\n",
        "print(end - start)\n",
        "\n"
      ],
      "execution_count": 270,
      "outputs": [
        {
          "output_type": "stream",
          "name": "stdout",
          "text": [
            "0.00021004676818847656\n",
            "0.0002002716064453125\n",
            "0.0001823902130126953\n"
          ]
        }
      ]
    },
    {
      "cell_type": "code",
      "source": [
        "help(np.random.randint)"
      ],
      "metadata": {
        "colab": {
          "base_uri": "https://localhost:8080/"
        },
        "id": "m5yH3MaFYedF",
        "outputId": "abbbf3c1-8829-4ebf-e153-49fa62a1b451"
      },
      "execution_count": 271,
      "outputs": [
        {
          "output_type": "stream",
          "name": "stdout",
          "text": [
            "Help on built-in function randint:\n",
            "\n",
            "randint(...) method of numpy.random.mtrand.RandomState instance\n",
            "    randint(low, high=None, size=None, dtype=int)\n",
            "    \n",
            "    Return random integers from `low` (inclusive) to `high` (exclusive).\n",
            "    \n",
            "    Return random integers from the \"discrete uniform\" distribution of\n",
            "    the specified dtype in the \"half-open\" interval [`low`, `high`). If\n",
            "    `high` is None (the default), then results are from [0, `low`).\n",
            "    \n",
            "    .. note::\n",
            "        New code should use the `~numpy.random.Generator.integers`\n",
            "        method of a `~numpy.random.Generator` instance instead;\n",
            "        please see the :ref:`random-quick-start`.\n",
            "    \n",
            "    Parameters\n",
            "    ----------\n",
            "    low : int or array-like of ints\n",
            "        Lowest (signed) integers to be drawn from the distribution (unless\n",
            "        ``high=None``, in which case this parameter is one above the\n",
            "        *highest* such integer).\n",
            "    high : int or array-like of ints, optional\n",
            "        If provided, one above the largest (signed) integer to be drawn\n",
            "        from the distribution (see above for behavior if ``high=None``).\n",
            "        If array-like, must contain integer values\n",
            "    size : int or tuple of ints, optional\n",
            "        Output shape.  If the given shape is, e.g., ``(m, n, k)``, then\n",
            "        ``m * n * k`` samples are drawn.  Default is None, in which case a\n",
            "        single value is returned.\n",
            "    dtype : dtype, optional\n",
            "        Desired dtype of the result. Byteorder must be native.\n",
            "        The default value is int.\n",
            "    \n",
            "        .. versionadded:: 1.11.0\n",
            "    \n",
            "    Returns\n",
            "    -------\n",
            "    out : int or ndarray of ints\n",
            "        `size`-shaped array of random integers from the appropriate\n",
            "        distribution, or a single such random int if `size` not provided.\n",
            "    \n",
            "    See Also\n",
            "    --------\n",
            "    random_integers : similar to `randint`, only for the closed\n",
            "        interval [`low`, `high`], and 1 is the lowest value if `high` is\n",
            "        omitted.\n",
            "    random.Generator.integers: which should be used for new code.\n",
            "    \n",
            "    Examples\n",
            "    --------\n",
            "    >>> np.random.randint(2, size=10)\n",
            "    array([1, 0, 0, 0, 1, 1, 0, 0, 1, 0]) # random\n",
            "    >>> np.random.randint(1, size=10)\n",
            "    array([0, 0, 0, 0, 0, 0, 0, 0, 0, 0])\n",
            "    \n",
            "    Generate a 2 x 4 array of ints between 0 and 4, inclusive:\n",
            "    \n",
            "    >>> np.random.randint(5, size=(2, 4))\n",
            "    array([[4, 0, 2, 1], # random\n",
            "           [3, 2, 2, 0]])\n",
            "    \n",
            "    Generate a 1 x 3 array with 3 different upper bounds\n",
            "    \n",
            "    >>> np.random.randint(1, [3, 5, 10])\n",
            "    array([2, 2, 9]) # random\n",
            "    \n",
            "    Generate a 1 by 3 array with 3 different lower bounds\n",
            "    \n",
            "    >>> np.random.randint([1, 5, 7], 10)\n",
            "    array([9, 8, 7]) # random\n",
            "    \n",
            "    Generate a 2 by 4 array using broadcasting with dtype of uint8\n",
            "    \n",
            "    >>> np.random.randint([1, 3, 5, 7], [[10], [20]], dtype=np.uint8)\n",
            "    array([[ 8,  6,  9,  7], # random\n",
            "           [ 1, 16,  9, 12]], dtype=uint8)\n",
            "\n"
          ]
        }
      ]
    },
    {
      "cell_type": "code",
      "metadata": {
        "id": "j5HIMX2-cm9p"
      },
      "source": [
        "# [16] Compare between the difference between time elapsed using loop, list comprehension and vectorization respectively.\n",
        "# Provide a textual answer. Can you compute the gain in performance in each? (Do not write code for that. You can just calculate it)"
      ],
      "execution_count": 272,
      "outputs": []
    },
    {
      "cell_type": "code",
      "metadata": {
        "id": "jy_iOXWocy5T",
        "colab": {
          "base_uri": "https://localhost:8080/"
        },
        "outputId": "6e0b1cb2-db2a-48ba-9075-232d32dc754e"
      },
      "source": [
        "N = np.array([2,1,7,9,4,6])\n",
        "# [17] Find the maximum element in N its index\n",
        "max = N.max()\n",
        "maxIndex = N.argmax()\n",
        "print(max)\n",
        "print(maxIndex)"
      ],
      "execution_count": 273,
      "outputs": [
        {
          "output_type": "stream",
          "name": "stdout",
          "text": [
            "9\n",
            "3\n"
          ]
        }
      ]
    },
    {
      "cell_type": "code",
      "metadata": {
        "id": "XyXBd1GBdxlK",
        "colab": {
          "base_uri": "https://localhost:8080/"
        },
        "outputId": "7af1d7ce-cf2b-46c6-906c-bb97c2560f21"
      },
      "source": [
        "# [18] Find the mean and standard deviation of values in M\n",
        "mean = M.mean()\n",
        "std_dev = M.std()\n",
        "print(mean)\n",
        "print(std_dev)"
      ],
      "execution_count": 274,
      "outputs": [
        {
          "output_type": "stream",
          "name": "stdout",
          "text": [
            "68268.0\n",
            "0.0\n"
          ]
        }
      ]
    },
    {
      "cell_type": "code",
      "source": [],
      "metadata": {
        "id": "OwLuzc6iaCdA"
      },
      "execution_count": 274,
      "outputs": []
    },
    {
      "cell_type": "code",
      "metadata": {
        "id": "xdYFOLUqd4ox",
        "colab": {
          "base_uri": "https://localhost:8080/"
        },
        "outputId": "9a5debdc-58d2-4b22-c5ba-a646d37592d5"
      },
      "source": [
        "# [19a] Read the csv file \"test.csv\" into an a numpy array N\n",
        "N = pd.read_csv('/content/test.csv',names = ['first', 'second', 'third'])\n",
        "print(N)\n",
        "\n",
        "# [19b] Convert N into numpy array. (Hint: use np.asarray())\n",
        "N = np.asarray(N)\n",
        "print(N)"
      ],
      "execution_count": 275,
      "outputs": [
        {
          "output_type": "stream",
          "name": "stdout",
          "text": [
            "   first  second  third\n",
            "0      1       2      1\n",
            "1      5       6      1\n",
            "2      7       8      0\n",
            "3      9       4      1\n",
            "4      3       2      0\n",
            "5      6       1      0\n",
            "6      1       2      1\n",
            "7      0       0      0\n",
            "8     -1      -3      1\n",
            "9     -2      -4      1\n",
            "[[ 1  2  1]\n",
            " [ 5  6  1]\n",
            " [ 7  8  0]\n",
            " [ 9  4  1]\n",
            " [ 3  2  0]\n",
            " [ 6  1  0]\n",
            " [ 1  2  1]\n",
            " [ 0  0  0]\n",
            " [-1 -3  1]\n",
            " [-2 -4  1]]\n"
          ]
        }
      ]
    },
    {
      "cell_type": "code",
      "metadata": {
        "id": "AusW7FmpevE1"
      },
      "source": [
        "## Test your code\n",
        "assert N.shape == (10,3), \"Incorrect dimensions of N\""
      ],
      "execution_count": 276,
      "outputs": []
    },
    {
      "cell_type": "code",
      "metadata": {
        "id": "CKFmKmdQe7hT",
        "colab": {
          "base_uri": "https://localhost:8080/"
        },
        "outputId": "94cbf3ff-2791-43cd-97e3-7c20a52005e0"
      },
      "source": [
        "# [20] Print only the rows containing (1) in the last column for each row of matrix N IN ONE LINE. This should print rows 0, 1, 3, 6, 8, and 9.\n",
        "# This should print actual rows not the number of rows. Assign the output of this selection to variable O\n",
        "O = N[N[:,2]==1]\n",
        "print(O)"
      ],
      "execution_count": 277,
      "outputs": [
        {
          "output_type": "stream",
          "name": "stdout",
          "text": [
            "[[ 1  2  1]\n",
            " [ 5  6  1]\n",
            " [ 9  4  1]\n",
            " [ 1  2  1]\n",
            " [-1 -3  1]\n",
            " [-2 -4  1]]\n"
          ]
        }
      ]
    },
    {
      "cell_type": "code",
      "metadata": {
        "id": "JHS5wJ1JtnMC"
      },
      "source": [
        "## Test your code\n",
        "assert O.shape == (6,3), \"Incorrect dimensions of O\"\n",
        "assert np.all(O[:,2] == 1), \"Wrong slicing or masking\""
      ],
      "execution_count": 278,
      "outputs": []
    },
    {
      "cell_type": "code",
      "metadata": {
        "id": "OzEpZM7lfY0Z",
        "colab": {
          "base_uri": "https://localhost:8080/"
        },
        "outputId": "d0a33d21-098d-4978-8e9a-f01602cb478f"
      },
      "source": [
        "# [21] Print only the first two elements of rows containing (1) in the last column for each row of matrix N in ONE LINE.\n",
        "# This should print the first two columns of the same lines as the previous requirement.\n",
        "# Assign the output of this selection to variable P\n",
        "P = O[:,:2]\n",
        "print(P)"
      ],
      "execution_count": 279,
      "outputs": [
        {
          "output_type": "stream",
          "name": "stdout",
          "text": [
            "[[ 1  2]\n",
            " [ 5  6]\n",
            " [ 9  4]\n",
            " [ 1  2]\n",
            " [-1 -3]\n",
            " [-2 -4]]\n"
          ]
        }
      ]
    },
    {
      "cell_type": "code",
      "metadata": {
        "id": "F1zmGodHuhqg"
      },
      "source": [
        "## Test your code\n",
        "assert P.shape == (6,2), \"Incorrect dimensions of P\"\n",
        "assert np.sum(P) == 20, \"Wrong slicing or masking\""
      ],
      "execution_count": 280,
      "outputs": []
    },
    {
      "cell_type": "code",
      "metadata": {
        "id": "t6Rja269fzv2",
        "colab": {
          "base_uri": "https://localhost:8080/"
        },
        "outputId": "214d08c0-826b-4ae1-fd07-03a75b29c827"
      },
      "source": [
        "# [22] Display the mean value for each column in N in ONE LINE. Hint: Check the axis dimension.\n",
        "mean = N.mean(axis=0)\n",
        "print(mean)"
      ],
      "execution_count": 281,
      "outputs": [
        {
          "output_type": "stream",
          "name": "stdout",
          "text": [
            "[2.9 1.8 0.6]\n"
          ]
        }
      ]
    },
    {
      "cell_type": "markdown",
      "metadata": {
        "id": "qeK1a8q7nZj8"
      },
      "source": [
        "# MatplotLib\n",
        "\n",
        "Matplotlib is one of the most famous and used libraries for visualizations in Python. It has a very expressive API for most used types of graphs."
      ]
    },
    {
      "cell_type": "code",
      "metadata": {
        "id": "4zfXysAPnZj8"
      },
      "source": [
        "# import MatplotLib to your work file\n",
        "from matplotlib import pyplot as plt\n",
        "import numpy as np\n",
        "import pandas as pd\n",
        "\n",
        "iris_data = pd.read_csv('/content/Iris.csv') ## we will use these data for plotting"
      ],
      "execution_count": 282,
      "outputs": []
    },
    {
      "cell_type": "markdown",
      "metadata": {
        "id": "IxmKdccxnZj9"
      },
      "source": [
        "## Line Plots\n",
        "Line plots are typically used to visualize continuous data sequences like time series, e.g., readings from a sensor, stock market daily data, etc.\n",
        "\n",
        "1. Plotting one variable\n",
        "\n",
        "By default, pyplot will plot that variable against a sequence of its length starting at 0"
      ]
    },
    {
      "cell_type": "code",
      "metadata": {
        "id": "5GJ9z7honZj9",
        "colab": {
          "base_uri": "https://localhost:8080/",
          "height": 430
        },
        "outputId": "17c59998-245a-4faa-81e5-8ff8a8c0c296"
      },
      "source": [
        "plt.plot(iris_data.SepalLengthCm.values)\n",
        "plt.show()"
      ],
      "execution_count": 283,
      "outputs": [
        {
          "output_type": "display_data",
          "data": {
            "text/plain": [
              "<Figure size 640x480 with 1 Axes>"
            ],
            "image/png": "[encoded data removed]"
          },
          "metadata": {}
        }
      ]
    },
    {
      "cell_type": "markdown",
      "metadata": {
        "id": "Lbeyhx8CnZj-"
      },
      "source": [
        "2. Plotting two variables against each other"
      ]
    },
    {
      "cell_type": "code",
      "metadata": {
        "id": "RTyCy3-rnZj-",
        "colab": {
          "base_uri": "https://localhost:8080/",
          "height": 433
        },
        "outputId": "88483bda-6998-4455-d52d-dc04b1bceec2"
      },
      "source": [
        "plt.plot(iris_data.SepalLengthCm.values, iris_data.SepalWidthCm.values)\n",
        "plt.show()"
      ],
      "execution_count": 284,
      "outputs": [
        {
          "output_type": "display_data",
          "data": {
            "text/plain": [
              "<Figure size 640x480 with 1 Axes>"
            ],
            "image/png": "[encoded data removed]"
          },
          "metadata": {}
        }
      ]
    },
    {
      "cell_type": "code",
      "source": [],
      "metadata": {
        "id": "M3mQ0orFKdpU"
      },
      "execution_count": 284,
      "outputs": []
    },
    {
      "cell_type": "code",
      "metadata": {
        "id": "COj_p7fanZj_",
        "colab": {
          "base_uri": "https://localhost:8080/",
          "height": 430
        },
        "outputId": "40538e85-9d59-4db1-e1e4-3318d26203b8"
      },
      "source": [
        "# Plotting Known functions: f(x) = x^2 will give a parabola centered at Zero\n",
        "x = np.linspace(-100, 100)\n",
        "plt.plot(x, x**2)\n",
        "plt.show()"
      ],
      "execution_count": 285,
      "outputs": [
        {
          "output_type": "display_data",
          "data": {
            "text/plain": [
              "<Figure size 640x480 with 1 Axes>"
            ],
            "image/png": "[encoded data removed]"
          },
          "metadata": {}
        }
      ]
    },
    {
      "cell_type": "markdown",
      "metadata": {
        "id": "vd8ulmI5nZkA"
      },
      "source": [
        "## Scatter Plots\n",
        "Scatter is almost always the first plot to try with unordered data samples.\n",
        "It places shapes at the data points' location"
      ]
    },
    {
      "cell_type": "code",
      "metadata": {
        "id": "cwNwaX3MnZkA",
        "colab": {
          "base_uri": "https://localhost:8080/",
          "height": 433
        },
        "outputId": "12792ec7-2486-49b3-e5e7-48e40855e214"
      },
      "source": [
        "plt.scatter(iris_data.SepalLengthCm.values, iris_data.SepalWidthCm.values)\n",
        "plt.show()"
      ],
      "execution_count": 286,
      "outputs": [
        {
          "output_type": "display_data",
          "data": {
            "text/plain": [
              "<Figure size 640x480 with 1 Axes>"
            ],
            "image/png": "[encoded data removed]"
          },
          "metadata": {}
        }
      ]
    },
    {
      "cell_type": "markdown",
      "metadata": {
        "id": "c6AzOa4gnZkB"
      },
      "source": [
        "**OBSERVE** how using the Scatter plot gives a more meaningful graph than the line plot. Here: scatter plot shows how the Sepal Length is distributed against the Width (dense at certain values and scarce at others). This distribution was not shown in the line plot.\n",
        "\n",
        "Plotting your data can help you understand things about them. Using the **correct** plot is important.  "
      ]
    },
    {
      "cell_type": "markdown",
      "metadata": {
        "id": "DKQCKl0XnZkB"
      },
      "source": [
        "## Histogram Plots\n",
        "Histogram counts the values frequencies. For example, an array of values `[1, 1, 2, 3, 3, 5, 5, 5, 5]` will have a histogram like this:\n",
        "`[\n",
        "1: 2, # because 1 is repeated twice\n",
        "2: 1, # because 2 exists only once\n",
        "3: 2,\n",
        "5: 4\n",
        "]`\n",
        "\n",
        "PyPlot has a built in `hist` function to plot histogram of values easily."
      ]
    },
    {
      "cell_type": "code",
      "metadata": {
        "id": "ZnECjZnInZkC",
        "colab": {
          "base_uri": "https://localhost:8080/",
          "height": 430
        },
        "outputId": "bad8caef-2d7c-463b-885f-fd1b617cc9ee"
      },
      "source": [
        "plt.hist(iris_data.Species)\n",
        "plt.show()"
      ],
      "execution_count": 287,
      "outputs": [
        {
          "output_type": "display_data",
          "data": {
            "text/plain": [
              "<Figure size 640x480 with 1 Axes>"
            ],
            "image/png": "[encoded data removed]"
          },
          "metadata": {}
        }
      ]
    },
    {
      "cell_type": "markdown",
      "metadata": {
        "id": "yNQXpqLPnZkD"
      },
      "source": [
        "## Pie Charts\n",
        "Pie charts can serve the same role as histograms, and sometimes better at understanding"
      ]
    },
    {
      "cell_type": "code",
      "metadata": {
        "id": "7Kqig9zYnZkD",
        "colab": {
          "base_uri": "https://localhost:8080/",
          "height": 406
        },
        "outputId": "858e0319-a85f-494f-f2b6-130b22f19007"
      },
      "source": [
        "pie_data = iris_data.Species.value_counts() ## get the histogram but from pandas: the values_counts counts the frequency of each value\n",
        "plt.pie(pie_data.values, labels=pie_data.index) ## labels are given the spicies' names\n",
        "plt.show()"
      ],
      "execution_count": 288,
      "outputs": [
        {
          "output_type": "display_data",
          "data": {
            "text/plain": [
              "<Figure size 640x480 with 1 Axes>"
            ],
            "image/png": "[encoded data removed]"
          },
          "metadata": {}
        }
      ]
    },
    {
      "cell_type": "markdown",
      "metadata": {
        "id": "aHGiGgzpnZkF"
      },
      "source": [
        "**NOTICE** the graph will not be printed until the function plt.show() is called.\n",
        "\n",
        "## Multiple Plots on the Same Figure\n",
        "\n",
        "It is useful for plotting multiple data on the same figure.\n",
        "\n",
        "For example: to plot both the SepalLengthCm (in red) and the PetalLengthCm (in blue) versus the SepalWidthCm"
      ]
    },
    {
      "cell_type": "code",
      "metadata": {
        "id": "0Hlc5U3HnZkF",
        "colab": {
          "base_uri": "https://localhost:8080/",
          "height": 433
        },
        "outputId": "ed191e90-72bb-4dc3-fe02-8238b75b50f7"
      },
      "source": [
        "plt.scatter(iris_data.SepalLengthCm.values, iris_data.SepalWidthCm.values, c='red', marker='s', alpha=0.8, edgecolors='none', s=25) ## s in marker means put a square at data points\n",
        "plt.scatter(iris_data.PetalLengthCm.values, iris_data.SepalWidthCm.values, c='blue', marker='^',  alpha=0.8, edgecolors='none', s=25) ## ^ means triangles\n",
        "plt.show()"
      ],
      "execution_count": 289,
      "outputs": [
        {
          "output_type": "display_data",
          "data": {
            "text/plain": [
              "<Figure size 640x480 with 1 Axes>"
            ],
            "image/png": "[encoded data removed]"
          },
          "metadata": {}
        }
      ]
    },
    {
      "cell_type": "markdown",
      "metadata": {
        "id": "KlgiwP9VnZkG"
      },
      "source": [
        "## Requirement on MatPlotLib\n",
        "\n",
        "For plotting, import matplotlib.pyplot as plt\n",
        "\n",
        "x = np.linspace(0,3,300)\n",
        "\n",
        "y = your_function(x)\n",
        "\n",
        "Plot x versus y in one line with red color.  What does np.linspace mean?\n"
      ]
    },
    {
      "cell_type": "code",
      "source": [
        "help(np.linspace)"
      ],
      "metadata": {
        "id": "lWP8XEYSfC5M",
        "outputId": "6f10caef-f40f-4b8e-d5b4-a1bfa500a5b1",
        "colab": {
          "base_uri": "https://localhost:8080/"
        }
      },
      "execution_count": 293,
      "outputs": [
        {
          "output_type": "stream",
          "name": "stdout",
          "text": [
            "Help on _ArrayFunctionDispatcher in module numpy:\n",
            "\n",
            "linspace(start, stop, num=50, endpoint=True, retstep=False, dtype=None, axis=0)\n",
            "    Return evenly spaced numbers over a specified interval.\n",
            "    \n",
            "    Returns `num` evenly spaced samples, calculated over the\n",
            "    interval [`start`, `stop`].\n",
            "    \n",
            "    The endpoint of the interval can optionally be excluded.\n",
            "    \n",
            "    .. versionchanged:: 1.16.0\n",
            "        Non-scalar `start` and `stop` are now supported.\n",
            "    \n",
            "    .. versionchanged:: 1.20.0\n",
            "        Values are rounded towards ``-inf`` instead of ``0`` when an\n",
            "        integer ``dtype`` is specified. The old behavior can\n",
            "        still be obtained with ``np.linspace(start, stop, num).astype(int)``\n",
            "    \n",
            "    Parameters\n",
            "    ----------\n",
            "    start : array_like\n",
            "        The starting value of the sequence.\n",
            "    stop : array_like\n",
            "        The end value of the sequence, unless `endpoint` is set to False.\n",
            "        In that case, the sequence consists of all but the last of ``num + 1``\n",
            "        evenly spaced samples, so that `stop` is excluded.  Note that the step\n",
            "        size changes when `endpoint` is False.\n",
            "    num : int, optional\n",
            "        Number of samples to generate. Default is 50. Must be non-negative.\n",
            "    endpoint : bool, optional\n",
            "        If True, `stop` is the last sample. Otherwise, it is not included.\n",
            "        Default is True.\n",
            "    retstep : bool, optional\n",
            "        If True, return (`samples`, `step`), where `step` is the spacing\n",
            "        between samples.\n",
            "    dtype : dtype, optional\n",
            "        The type of the output array.  If `dtype` is not given, the data type\n",
            "        is inferred from `start` and `stop`. The inferred dtype will never be\n",
            "        an integer; `float` is chosen even if the arguments would produce an\n",
            "        array of integers.\n",
            "    \n",
            "        .. versionadded:: 1.9.0\n",
            "    \n",
            "    axis : int, optional\n",
            "        The axis in the result to store the samples.  Relevant only if start\n",
            "        or stop are array-like.  By default (0), the samples will be along a\n",
            "        new axis inserted at the beginning. Use -1 to get an axis at the end.\n",
            "    \n",
            "        .. versionadded:: 1.16.0\n",
            "    \n",
            "    Returns\n",
            "    -------\n",
            "    samples : ndarray\n",
            "        There are `num` equally spaced samples in the closed interval\n",
            "        ``[start, stop]`` or the half-open interval ``[start, stop)``\n",
            "        (depending on whether `endpoint` is True or False).\n",
            "    step : float, optional\n",
            "        Only returned if `retstep` is True\n",
            "    \n",
            "        Size of spacing between samples.\n",
            "    \n",
            "    \n",
            "    See Also\n",
            "    --------\n",
            "    arange : Similar to `linspace`, but uses a step size (instead of the\n",
            "             number of samples).\n",
            "    geomspace : Similar to `linspace`, but with numbers spaced evenly on a log\n",
            "                scale (a geometric progression).\n",
            "    logspace : Similar to `geomspace`, but with the end points specified as\n",
            "               logarithms.\n",
            "    :ref:`how-to-partition`\n",
            "    \n",
            "    Examples\n",
            "    --------\n",
            "    >>> np.linspace(2.0, 3.0, num=5)\n",
            "    array([2.  , 2.25, 2.5 , 2.75, 3.  ])\n",
            "    >>> np.linspace(2.0, 3.0, num=5, endpoint=False)\n",
            "    array([2. ,  2.2,  2.4,  2.6,  2.8])\n",
            "    >>> np.linspace(2.0, 3.0, num=5, retstep=True)\n",
            "    (array([2.  ,  2.25,  2.5 ,  2.75,  3.  ]), 0.25)\n",
            "    \n",
            "    Graphical illustration:\n",
            "    \n",
            "    >>> import matplotlib.pyplot as plt\n",
            "    >>> N = 8\n",
            "    >>> y = np.zeros(N)\n",
            "    >>> x1 = np.linspace(0, 10, N, endpoint=True)\n",
            "    >>> x2 = np.linspace(0, 10, N, endpoint=False)\n",
            "    >>> plt.plot(x1, y, 'o')\n",
            "    [<matplotlib.lines.Line2D object at 0x...>]\n",
            "    >>> plt.plot(x2, y + 0.5, 'o')\n",
            "    [<matplotlib.lines.Line2D object at 0x...>]\n",
            "    >>> plt.ylim([-0.5, 1])\n",
            "    (-0.5, 1)\n",
            "    >>> plt.show()\n",
            "\n"
          ]
        }
      ]
    },
    {
      "cell_type": "code",
      "metadata": {
        "id": "V_ZRCT9HnZkG",
        "colab": {
          "base_uri": "https://localhost:8080/",
          "height": 447
        },
        "outputId": "096873e5-1406-4079-c3c0-4f0f1ca234e0"
      },
      "source": [
        "## Answer:\n",
        "import matplotlib.pyplot as plt\n",
        "x = np.linspace(-45,45,300)\n",
        "y = np.sin(x)\n",
        "plt.plot(x,y)"
      ],
      "execution_count": 297,
      "outputs": [
        {
          "output_type": "execute_result",
          "data": {
            "text/plain": [
              "[<matplotlib.lines.Line2D at 0x7dbe0fa688b0>]"
            ]
          },
          "metadata": {},
          "execution_count": 297
        },
        {
          "output_type": "display_data",
          "data": {
            "text/plain": [
              "<Figure size 640x480 with 1 Axes>"
            ],
            "image/png": "[encoded data removed]"
          },
          "metadata": {}
        }
      ]
    },
    {
      "cell_type": "code",
      "metadata": {
        "id": "lDI7LVmqnZkI"
      },
      "source": [],
      "execution_count": 290,
      "outputs": []
    }
  ]
}